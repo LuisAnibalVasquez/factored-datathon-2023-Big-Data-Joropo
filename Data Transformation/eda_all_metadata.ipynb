{
 "cells": [
  {
   "cell_type": "code",
   "execution_count": 2,
   "metadata": {},
   "outputs": [],
   "source": [
    "import polars as pl"
   ]
  },
  {
   "cell_type": "code",
   "execution_count": 3,
   "metadata": {},
   "outputs": [],
   "source": [
    "# Read the df's\n",
    "metadata1 = pl.read_parquet(\"metadata1_processed.parquet\")\n",
    "metadata2 = pl.read_parquet(\"metadata2_processed.parquet\")\n",
    "metadata3 = pl.read_parquet(\"metadata3_processed.parquet\")\n",
    "metadata4 = pl.read_parquet(\"metadata4_processed.parquet\")\n",
    "metadata5 = pl.read_parquet(\"metadata5_processed.parquet\")\n",
    "metadata6 = pl.read_parquet(\"metadata6_processed.parquet\")\n",
    "###metadata7 = pl.read_parquet(\"metadata7_processed.parquet\")\n",
    "metadata8 = pl.read_parquet(\"metadata8_processed.parquet\")\n",
    "metadata9 = pl.read_parquet(\"metadata9_processed.parquet\")\n",
    "metadata10 = pl.read_parquet(\"metadata10_processed.parquet\")\n",
    "metadata11 = pl.read_parquet(\"metadata11_processed.parquet\")\n",
    "metadata12 = pl.read_parquet(\"metadata12_processed.parquet\")\n",
    "metadata13 = pl.read_parquet(\"metadata13_processed.parquet\")\n",
    "metadata14 = pl.read_parquet(\"metadata14_processed.parquet\")\n",
    "metadata15 = pl.read_parquet(\"metadata15_processed.parquet\")"
   ]
  },
  {
   "cell_type": "code",
   "execution_count": null,
   "metadata": {},
   "outputs": [],
   "source": [
    "# Concat the df's\n",
    "metadata = pl.concat([metadata1,metadata2,metadata3,metadata4,metadata5,\n",
    "           metadata6,metadata8,metadata9,metadata10,metadata11,\n",
    "           metadata12,metadata13,metadata14,metadata15])\n",
    "\n",
    "metadata.head()"
   ]
  },
  {
   "cell_type": "code",
   "execution_count": 15,
   "metadata": {},
   "outputs": [],
   "source": [
    "metadata.write_parquet('all_metadata.parquet')"
   ]
  },
  {
   "cell_type": "code",
   "execution_count": null,
   "metadata": {},
   "outputs": [],
   "source": [
    "metadata['main_category'].value_counts().sort(by='counts', descending=True)[:20]"
   ]
  },
  {
   "cell_type": "code",
   "execution_count": null,
   "metadata": {},
   "outputs": [],
   "source": [
    "# Get all products that are books\n",
    "metadata_cat = metadata[[\"asin\", \"main_category\"]]\n",
    "metadata_books = metadata_cat.filter(pl.col('main_category') == \"Books\")\n",
    "metadata_books.head(2)"
   ]
  },
  {
   "cell_type": "code",
   "execution_count": null,
   "metadata": {},
   "outputs": [],
   "source": [
    "metadata_books = metadata_books['asin']\n",
    "metadata_books = metadata_books.unique()\n",
    "metadata_books"
   ]
  },
  {
   "cell_type": "code",
   "execution_count": 20,
   "metadata": {},
   "outputs": [],
   "source": [
    "metadata_books = pl.DataFrame(metadata_books)\n",
    "metadata_books.write_parquet('asin_books.parquet')"
   ]
  },
  {
   "cell_type": "code",
   "execution_count": null,
   "metadata": {},
   "outputs": [],
   "source": [
    "# Get all metadata from books\n",
    "all_metadata_books = metadata.filter(pl.col('main_category') == \"Books\")\n",
    "all_metadata_books.head(5)"
   ]
  },
  {
   "cell_type": "code",
   "execution_count": 7,
   "metadata": {},
   "outputs": [],
   "source": [
    "# Convert from polars to parquet: all_metadata_books\n",
    "all_metadata_books.write_parquet('all_metadata_books.parquet')"
   ]
  },
  {
   "cell_type": "code",
   "execution_count": 12,
   "metadata": {},
   "outputs": [
    {
     "name": "stdout",
     "output_type": "stream",
     "text": [
      "(716351, 13)\n",
      "(716352, 13)\n",
      "(716351, 13)\n",
      "(716349, 13)\n"
     ]
    }
   ],
   "source": [
    "# Slice all_metadata_books in 4 pieces\n",
    "all_metadata_books_1 = all_metadata_books[:716351]\n",
    "all_metadata_books_2 = all_metadata_books[716352:1432704]\n",
    "all_metadata_books_3 = all_metadata_books[1432705:2149056]\n",
    "all_metadata_books_4 = all_metadata_books[2149057:]\n",
    "\n",
    "print(all_metadata_books_1.shape)\n",
    "print(all_metadata_books_2.shape)\n",
    "print(all_metadata_books_3.shape)\n",
    "print(all_metadata_books_4.shape)"
   ]
  },
  {
   "cell_type": "code",
   "execution_count": 14,
   "metadata": {},
   "outputs": [],
   "source": [
    "# Convert from polars to parquet: all_metadata_books1,2,3,4\n",
    "all_metadata_books_1.write_parquet('all_metadata_books_1.parquet')\n",
    "all_metadata_books_2.write_parquet('all_metadata_books_2.parquet')\n",
    "all_metadata_books_3.write_parquet('all_metadata_books_3.parquet')\n",
    "all_metadata_books_4.write_parquet('all_metadata_books_4.parquet')"
   ]
  },
  {
   "cell_type": "code",
   "execution_count": 15,
   "metadata": {},
   "outputs": [],
   "source": [
    "# Slice all_metadata_books_1 and convert\n",
    "all_metadata_books_1a = all_metadata_books_1[:350000]\n",
    "all_metadata_books_1b = all_metadata_books_1[350001:]\n",
    "\n",
    "all_metadata_books_1a.write_parquet('all_metadata_books_1a.parquet')\n",
    "all_metadata_books_1b.write_parquet('all_metadata_books_1b.parquet')"
   ]
  },
  {
   "cell_type": "markdown",
   "metadata": {},
   "source": [
    "# Filter \"all_metadata_books\""
   ]
  },
  {
   "cell_type": "code",
   "execution_count": 24,
   "metadata": {},
   "outputs": [
    {
     "name": "stdout",
     "output_type": "stream",
     "text": [
      "(2865406, 9)\n"
     ]
    },
    {
     "data": {
      "text/html": [
       "<div><style>\n",
       ".dataframe > thead > tr > th,\n",
       ".dataframe > tbody > tr > td {\n",
       "  text-align: right;\n",
       "}\n",
       "</style>\n",
       "<small>shape: (5, 9)</small><table border=\"1\" class=\"dataframe\"><thead><tr><th>asin</th><th>brand</th><th>price</th><th>title</th><th>cant_image</th><th>cant_category</th><th>rank_in_category</th><th>also_buy_count</th><th>also_view_count</th></tr><tr><td>str</td><td>str</td><td>f64</td><td>str</td><td>u32</td><td>u32</td><td>i64</td><td>u32</td><td>u32</td></tr></thead><tbody><tr><td>&quot;6665559807&quot;</td><td>&quot;&quot;</td><td>null</td><td>&quot;Mens Retro Res…</td><td>0</td><td>3</td><td>2765038</td><td>0</td><td>1</td></tr><tr><td>&quot;756392647X&quot;</td><td>&quot;Li Ruliang&quot;</td><td>11.99</td><td>&quot;Understanding …</td><td>0</td><td>3</td><td>17076621</td><td>0</td><td>0</td></tr><tr><td>&quot;B0002UMZ4W&quot;</td><td>&quot;&quot;</td><td>null</td><td>&quot;Digital Mil.-s…</td><td>0</td><td>3</td><td>7535159</td><td>0</td><td>0</td></tr><tr><td>&quot;B0002UMZ4W&quot;</td><td>&quot;&quot;</td><td>null</td><td>&quot;Digital Mil.-s…</td><td>0</td><td>3</td><td>7535159</td><td>0</td><td>0</td></tr><tr><td>&quot;B0006S7GCQ&quot;</td><td>&quot;Don Boyle&quot;</td><td>null</td><td>&quot;SS Totenkopf H…</td><td>0</td><td>3</td><td>10727983</td><td>0</td><td>5</td></tr></tbody></table></div>"
      ],
      "text/plain": [
       "shape: (5, 9)\n",
       "┌────────────┬────────────┬───────┬────────────┬───┬───────────┬───────────┬───────────┬───────────┐\n",
       "│ asin       ┆ brand      ┆ price ┆ title      ┆ … ┆ cant_cate ┆ rank_in_c ┆ also_buy_ ┆ also_view │\n",
       "│ ---        ┆ ---        ┆ ---   ┆ ---        ┆   ┆ gory      ┆ ategory   ┆ count     ┆ _count    │\n",
       "│ str        ┆ str        ┆ f64   ┆ str        ┆   ┆ ---       ┆ ---       ┆ ---       ┆ ---       │\n",
       "│            ┆            ┆       ┆            ┆   ┆ u32       ┆ i64       ┆ u32       ┆ u32       │\n",
       "╞════════════╪════════════╪═══════╪════════════╪═══╪═══════════╪═══════════╪═══════════╪═══════════╡\n",
       "│ 6665559807 ┆            ┆ null  ┆ Mens Retro ┆ … ┆ 3         ┆ 2765038   ┆ 0         ┆ 1         │\n",
       "│            ┆            ┆       ┆ Rescue     ┆   ┆           ┆           ┆           ┆           │\n",
       "│            ┆            ┆       ┆ Team Not   ┆   ┆           ┆           ┆           ┆           │\n",
       "│            ┆            ┆       ┆ Assas…     ┆   ┆           ┆           ┆           ┆           │\n",
       "│ 756392647X ┆ Li Ruliang ┆ 11.99 ┆ Understand ┆ … ┆ 3         ┆ 17076621  ┆ 0         ┆ 0         │\n",
       "│            ┆            ┆       ┆ ing        ┆   ┆           ┆           ┆           ┆           │\n",
       "│            ┆            ┆       ┆ Leadership ┆   ┆           ┆           ┆           ┆           │\n",
       "│            ┆            ┆       ┆ in One …   ┆   ┆           ┆           ┆           ┆           │\n",
       "│ B0002UMZ4W ┆            ┆ null  ┆ Digital    ┆ … ┆ 3         ┆ 7535159   ┆ 0         ┆ 0         │\n",
       "│            ┆            ┆       ┆ Mil.-style ┆   ┆           ┆           ┆           ┆           │\n",
       "│            ┆            ┆       ┆ Utility    ┆   ┆           ┆           ┆           ┆           │\n",
       "│            ┆            ┆       ┆ Shirt…     ┆   ┆           ┆           ┆           ┆           │\n",
       "│ B0002UMZ4W ┆            ┆ null  ┆ Digital    ┆ … ┆ 3         ┆ 7535159   ┆ 0         ┆ 0         │\n",
       "│            ┆            ┆       ┆ Mil.-style ┆   ┆           ┆           ┆           ┆           │\n",
       "│            ┆            ┆       ┆ Utility    ┆   ┆           ┆           ┆           ┆           │\n",
       "│            ┆            ┆       ┆ Shirt…     ┆   ┆           ┆           ┆           ┆           │\n",
       "│ B0006S7GCQ ┆ Don Boyle  ┆ null  ┆ SS         ┆ … ┆ 3         ┆ 10727983  ┆ 0         ┆ 5         │\n",
       "│            ┆            ┆       ┆ Totenkopf  ┆   ┆           ┆           ┆           ┆           │\n",
       "│            ┆            ┆       ┆ H. Himmler ┆   ┆           ┆           ┆           ┆           │\n",
       "│            ┆            ┆       ┆ honor ri…  ┆   ┆           ┆           ┆           ┆           │\n",
       "└────────────┴────────────┴───────┴────────────┴───┴───────────┴───────────┴───────────┴───────────┘"
      ]
     },
     "execution_count": 24,
     "metadata": {},
     "output_type": "execute_result"
    }
   ],
   "source": [
    "# 2.8M rows is still to heavy for a PBI report: lag and bad User experience, we will continue fitlering according to these criterias:\n",
    "# - also_view & also_buy out: we're not going to do anything with those lists\n",
    "# - date: too few books have publish date\n",
    "# = main_category: we already know they are all books\n",
    "all_metadata_books = all_metadata_books.drop(['also_buy','also_view','date','main_category'])\n",
    "print(all_metadata_books.shape)\n",
    "all_metadata_books.head()"
   ]
  },
  {
   "cell_type": "code",
   "execution_count": 29,
   "metadata": {},
   "outputs": [
    {
     "name": "stdout",
     "output_type": "stream",
     "text": [
      "(383553, 9)\n"
     ]
    },
    {
     "data": {
      "text/html": [
       "<div><style>\n",
       ".dataframe > thead > tr > th,\n",
       ".dataframe > tbody > tr > td {\n",
       "  text-align: right;\n",
       "}\n",
       "</style>\n",
       "<small>shape: (5, 9)</small><table border=\"1\" class=\"dataframe\"><thead><tr><th>asin</th><th>brand</th><th>price</th><th>title</th><th>cant_image</th><th>cant_category</th><th>rank_in_category</th><th>also_buy_count</th><th>also_view_count</th></tr><tr><td>str</td><td>str</td><td>f64</td><td>str</td><td>u32</td><td>u32</td><td>i64</td><td>u32</td><td>u32</td></tr></thead><tbody><tr><td>&quot;756392647X&quot;</td><td>&quot;Li Ruliang&quot;</td><td>11.99</td><td>&quot;Understanding …</td><td>0</td><td>3</td><td>17076621</td><td>0</td><td>0</td></tr><tr><td>&quot;B00ELP4Q5U&quot;</td><td>&quot;&quot;</td><td>16.94</td><td>&quot;Doctor Who - W…</td><td>0</td><td>3</td><td>2370681</td><td>0</td><td>15</td></tr><tr><td>&quot;B00ELP4PU6&quot;</td><td>&quot;&quot;</td><td>16.94</td><td>&quot;Doctor Who - W…</td><td>0</td><td>3</td><td>1188313</td><td>0</td><td>11</td></tr><tr><td>&quot;B01GXH68QI&quot;</td><td>&quot;Matt Cronin&quot;</td><td>16.49</td><td>&quot;TrainRite Comp…</td><td>0</td><td>3</td><td>1358538</td><td>1</td><td>58</td></tr><tr><td>&quot;B01H0GJ67E&quot;</td><td>&quot;33 Books Co.&quot;</td><td>8.99</td><td>&quot;33 Leaves of T…</td><td>0</td><td>5</td><td>202046</td><td>0</td><td>54</td></tr></tbody></table></div>"
      ],
      "text/plain": [
       "shape: (5, 9)\n",
       "┌────────────┬────────────┬───────┬────────────┬───┬───────────┬───────────┬───────────┬───────────┐\n",
       "│ asin       ┆ brand      ┆ price ┆ title      ┆ … ┆ cant_cate ┆ rank_in_c ┆ also_buy_ ┆ also_view │\n",
       "│ ---        ┆ ---        ┆ ---   ┆ ---        ┆   ┆ gory      ┆ ategory   ┆ count     ┆ _count    │\n",
       "│ str        ┆ str        ┆ f64   ┆ str        ┆   ┆ ---       ┆ ---       ┆ ---       ┆ ---       │\n",
       "│            ┆            ┆       ┆            ┆   ┆ u32       ┆ i64       ┆ u32       ┆ u32       │\n",
       "╞════════════╪════════════╪═══════╪════════════╪═══╪═══════════╪═══════════╪═══════════╪═══════════╡\n",
       "│ 756392647X ┆ Li Ruliang ┆ 11.99 ┆ Understand ┆ … ┆ 3         ┆ 17076621  ┆ 0         ┆ 0         │\n",
       "│            ┆            ┆       ┆ ing        ┆   ┆           ┆           ┆           ┆           │\n",
       "│            ┆            ┆       ┆ Leadership ┆   ┆           ┆           ┆           ┆           │\n",
       "│            ┆            ┆       ┆ in One …   ┆   ┆           ┆           ┆           ┆           │\n",
       "│ B00ELP4Q5U ┆            ┆ 16.94 ┆ Doctor Who ┆ … ┆ 3         ┆ 2370681   ┆ 0         ┆ 15        │\n",
       "│            ┆            ┆       ┆ - Womens   ┆   ┆           ┆           ┆           ┆           │\n",
       "│            ┆            ┆       ┆ Fezes Are  ┆   ┆           ┆           ┆           ┆           │\n",
       "│            ┆            ┆       ┆ Co…        ┆   ┆           ┆           ┆           ┆           │\n",
       "│ B00ELP4PU6 ┆            ┆ 16.94 ┆ Doctor Who ┆ … ┆ 3         ┆ 1188313   ┆ 0         ┆ 11        │\n",
       "│            ┆            ┆       ┆ - Womens   ┆   ┆           ┆           ┆           ┆           │\n",
       "│            ┆            ┆       ┆ Fezes Are  ┆   ┆           ┆           ┆           ┆           │\n",
       "│            ┆            ┆       ┆ Co…        ┆   ┆           ┆           ┆           ┆           │\n",
       "│ B01GXH68QI ┆ Matt       ┆ 16.49 ┆ TrainRite  ┆ … ┆ 3         ┆ 1358538   ┆ 1         ┆ 58        │\n",
       "│            ┆ Cronin     ┆       ┆ Compact    ┆   ┆           ┆           ┆           ┆           │\n",
       "│            ┆            ┆       ┆ Nutrition  ┆   ┆           ┆           ┆           ┆           │\n",
       "│            ┆            ┆       ┆ Jour…      ┆   ┆           ┆           ┆           ┆           │\n",
       "│ B01H0GJ67E ┆ 33 Books   ┆ 8.99  ┆ 33 Leaves  ┆ … ┆ 5         ┆ 202046    ┆ 0         ┆ 54        │\n",
       "│            ┆ Co.        ┆       ┆ of Tea     ┆   ┆           ┆           ┆           ┆           │\n",
       "└────────────┴────────────┴───────┴────────────┴───┴───────────┴───────────┴───────────┴───────────┘"
      ]
     },
     "execution_count": 29,
     "metadata": {},
     "output_type": "execute_result"
    }
   ],
   "source": [
    "# Remove all rows with atleast one null in the remaining columns\n",
    "all_metadata_books = all_metadata_books.drop_nulls()\n",
    "print(all_metadata_books.shape)\n",
    "all_metadata_books.head()"
   ]
  },
  {
   "cell_type": "code",
   "execution_count": 31,
   "metadata": {},
   "outputs": [
    {
     "name": "stdout",
     "output_type": "stream",
     "text": [
      "(383553, 9)\n"
     ]
    },
    {
     "data": {
      "text/html": [
       "<div><style>\n",
       ".dataframe > thead > tr > th,\n",
       ".dataframe > tbody > tr > td {\n",
       "  text-align: right;\n",
       "}\n",
       "</style>\n",
       "<small>shape: (5, 9)</small><table border=\"1\" class=\"dataframe\"><thead><tr><th>asin</th><th>brand</th><th>price</th><th>title</th><th>cant_image</th><th>cant_category</th><th>rank_in_category</th><th>also_buy_count</th><th>also_view_count</th></tr><tr><td>str</td><td>str</td><td>f64</td><td>str</td><td>u32</td><td>u32</td><td>i64</td><td>u32</td><td>u32</td></tr></thead><tbody><tr><td>&quot;756392647X&quot;</td><td>&quot;Li Ruliang&quot;</td><td>11.99</td><td>&quot;Understanding …</td><td>0</td><td>3</td><td>17076621</td><td>0</td><td>0</td></tr><tr><td>&quot;B00ELP4Q5U&quot;</td><td>&quot;&quot;</td><td>16.94</td><td>&quot;Doctor Who - W…</td><td>0</td><td>3</td><td>2370681</td><td>0</td><td>15</td></tr><tr><td>&quot;B00ELP4PU6&quot;</td><td>&quot;&quot;</td><td>16.94</td><td>&quot;Doctor Who - W…</td><td>0</td><td>3</td><td>1188313</td><td>0</td><td>11</td></tr><tr><td>&quot;B01GXH68QI&quot;</td><td>&quot;Matt Cronin&quot;</td><td>16.49</td><td>&quot;TrainRite Comp…</td><td>0</td><td>3</td><td>1358538</td><td>1</td><td>58</td></tr><tr><td>&quot;B01H0GJ67E&quot;</td><td>&quot;33 Books Co.&quot;</td><td>8.99</td><td>&quot;33 Leaves of T…</td><td>0</td><td>5</td><td>202046</td><td>0</td><td>54</td></tr></tbody></table></div>"
      ],
      "text/plain": [
       "shape: (5, 9)\n",
       "┌────────────┬────────────┬───────┬────────────┬───┬───────────┬───────────┬───────────┬───────────┐\n",
       "│ asin       ┆ brand      ┆ price ┆ title      ┆ … ┆ cant_cate ┆ rank_in_c ┆ also_buy_ ┆ also_view │\n",
       "│ ---        ┆ ---        ┆ ---   ┆ ---        ┆   ┆ gory      ┆ ategory   ┆ count     ┆ _count    │\n",
       "│ str        ┆ str        ┆ f64   ┆ str        ┆   ┆ ---       ┆ ---       ┆ ---       ┆ ---       │\n",
       "│            ┆            ┆       ┆            ┆   ┆ u32       ┆ i64       ┆ u32       ┆ u32       │\n",
       "╞════════════╪════════════╪═══════╪════════════╪═══╪═══════════╪═══════════╪═══════════╪═══════════╡\n",
       "│ 756392647X ┆ Li Ruliang ┆ 11.99 ┆ Understand ┆ … ┆ 3         ┆ 17076621  ┆ 0         ┆ 0         │\n",
       "│            ┆            ┆       ┆ ing        ┆   ┆           ┆           ┆           ┆           │\n",
       "│            ┆            ┆       ┆ Leadership ┆   ┆           ┆           ┆           ┆           │\n",
       "│            ┆            ┆       ┆ in One …   ┆   ┆           ┆           ┆           ┆           │\n",
       "│ B00ELP4Q5U ┆            ┆ 16.94 ┆ Doctor Who ┆ … ┆ 3         ┆ 2370681   ┆ 0         ┆ 15        │\n",
       "│            ┆            ┆       ┆ - Womens   ┆   ┆           ┆           ┆           ┆           │\n",
       "│            ┆            ┆       ┆ Fezes Are  ┆   ┆           ┆           ┆           ┆           │\n",
       "│            ┆            ┆       ┆ Co…        ┆   ┆           ┆           ┆           ┆           │\n",
       "│ B00ELP4PU6 ┆            ┆ 16.94 ┆ Doctor Who ┆ … ┆ 3         ┆ 1188313   ┆ 0         ┆ 11        │\n",
       "│            ┆            ┆       ┆ - Womens   ┆   ┆           ┆           ┆           ┆           │\n",
       "│            ┆            ┆       ┆ Fezes Are  ┆   ┆           ┆           ┆           ┆           │\n",
       "│            ┆            ┆       ┆ Co…        ┆   ┆           ┆           ┆           ┆           │\n",
       "│ B01GXH68QI ┆ Matt       ┆ 16.49 ┆ TrainRite  ┆ … ┆ 3         ┆ 1358538   ┆ 1         ┆ 58        │\n",
       "│            ┆ Cronin     ┆       ┆ Compact    ┆   ┆           ┆           ┆           ┆           │\n",
       "│            ┆            ┆       ┆ Nutrition  ┆   ┆           ┆           ┆           ┆           │\n",
       "│            ┆            ┆       ┆ Jour…      ┆   ┆           ┆           ┆           ┆           │\n",
       "│ B01H0GJ67E ┆ 33 Books   ┆ 8.99  ┆ 33 Leaves  ┆ … ┆ 5         ┆ 202046    ┆ 0         ┆ 54        │\n",
       "│            ┆ Co.        ┆       ┆ of Tea     ┆   ┆           ┆           ┆           ┆           │\n",
       "└────────────┴────────────┴───────┴────────────┴───┴───────────┴───────────┴───────────┴───────────┘"
      ]
     },
     "execution_count": 31,
     "metadata": {},
     "output_type": "execute_result"
    }
   ],
   "source": [
    "# \"brand\" column cleaning\n",
    "# Remove all brands that are: null, \"Unknown\", \"Not Available\", \"N/A\"\n",
    "all_metadata_books = all_metadata_books.filter(\n",
    "    (pl.col(\"brand\") != \"Unknown\") | (pl.col(\"brand\") != \"Not Available\") | (pl.col(\"brand\") != \"N/A\") | (pl.col(\"brand\") != \"\")\n",
    ")\n",
    "print(all_metadata_books.shape)\n",
    "all_metadata_books.head()"
   ]
  },
  {
   "cell_type": "code",
   "execution_count": 35,
   "metadata": {},
   "outputs": [
    {
     "data": {
      "text/html": [
       "<div><style>\n",
       ".dataframe > thead > tr > th,\n",
       ".dataframe > tbody > tr > td {\n",
       "  text-align: right;\n",
       "}\n",
       "</style>\n",
       "<small>shape: (5, 2)</small><table border=\"1\" class=\"dataframe\"><thead><tr><th>asin</th><th>counts</th></tr><tr><td>str</td><td>u32</td></tr></thead><tbody><tr><td>&quot;B0000CJVXY&quot;</td><td>2</td></tr><tr><td>&quot;B00005WQ1L&quot;</td><td>2</td></tr><tr><td>&quot;B00006LTBT&quot;</td><td>2</td></tr><tr><td>&quot;B00030BOTI&quot;</td><td>2</td></tr><tr><td>&quot;B00005WEH8&quot;</td><td>2</td></tr></tbody></table></div>"
      ],
      "text/plain": [
       "shape: (5, 2)\n",
       "┌────────────┬────────┐\n",
       "│ asin       ┆ counts │\n",
       "│ ---        ┆ ---    │\n",
       "│ str        ┆ u32    │\n",
       "╞════════════╪════════╡\n",
       "│ B0000CJVXY ┆ 2      │\n",
       "│ B00005WQ1L ┆ 2      │\n",
       "│ B00006LTBT ┆ 2      │\n",
       "│ B00030BOTI ┆ 2      │\n",
       "│ B00005WEH8 ┆ 2      │\n",
       "└────────────┴────────┘"
      ]
     },
     "execution_count": 35,
     "metadata": {},
     "output_type": "execute_result"
    }
   ],
   "source": [
    "# Check if we have duplicated books (asin)\n",
    "all_metadata_books['asin'].value_counts().sort(by='counts',descending=True)[:5]"
   ]
  },
  {
   "cell_type": "code",
   "execution_count": 36,
   "metadata": {},
   "outputs": [
    {
     "name": "stdout",
     "output_type": "stream",
     "text": [
      "(383366, 9)\n"
     ]
    },
    {
     "data": {
      "text/html": [
       "<div><style>\n",
       ".dataframe > thead > tr > th,\n",
       ".dataframe > tbody > tr > td {\n",
       "  text-align: right;\n",
       "}\n",
       "</style>\n",
       "<small>shape: (5, 9)</small><table border=\"1\" class=\"dataframe\"><thead><tr><th>asin</th><th>brand</th><th>price</th><th>title</th><th>cant_image</th><th>cant_category</th><th>rank_in_category</th><th>also_buy_count</th><th>also_view_count</th></tr><tr><td>str</td><td>str</td><td>f64</td><td>str</td><td>u32</td><td>u32</td><td>i64</td><td>u32</td><td>u32</td></tr></thead><tbody><tr><td>&quot;0763790141&quot;</td><td>&quot;Brian Luke Sea…</td><td>43.45</td><td>&quot;Managing Stres…</td><td>0</td><td>3</td><td>419694</td><td>24</td><td>8</td></tr><tr><td>&quot;0615976247&quot;</td><td>&quot;Visit Amazon&#x27;s…</td><td>11.97</td><td>&quot;Hyper-Grace: T…</td><td>0</td><td>3</td><td>847812</td><td>13</td><td>6</td></tr><tr><td>&quot;1946444448&quot;</td><td>&quot;Christine Pint…</td><td>29.95</td><td>&quot;Google Apps fo…</td><td>0</td><td>3</td><td>223391</td><td>96</td><td>60</td></tr><tr><td>&quot;1981364269&quot;</td><td>&quot;Visit Amazon&#x27;s…</td><td>11.99</td><td>&quot;Donald Don&#x27;t G…</td><td>0</td><td>3</td><td>218816</td><td>39</td><td>58</td></tr><tr><td>&quot;1481227041&quot;</td><td>&quot;Visit Amazon&#x27;s…</td><td>24.99</td><td>&quot;Natural Harves…</td><td>0</td><td>3</td><td>57879</td><td>11</td><td>45</td></tr></tbody></table></div>"
      ],
      "text/plain": [
       "shape: (5, 9)\n",
       "┌────────────┬────────────┬───────┬────────────┬───┬───────────┬───────────┬───────────┬───────────┐\n",
       "│ asin       ┆ brand      ┆ price ┆ title      ┆ … ┆ cant_cate ┆ rank_in_c ┆ also_buy_ ┆ also_view │\n",
       "│ ---        ┆ ---        ┆ ---   ┆ ---        ┆   ┆ gory      ┆ ategory   ┆ count     ┆ _count    │\n",
       "│ str        ┆ str        ┆ f64   ┆ str        ┆   ┆ ---       ┆ ---       ┆ ---       ┆ ---       │\n",
       "│            ┆            ┆       ┆            ┆   ┆ u32       ┆ i64       ┆ u32       ┆ u32       │\n",
       "╞════════════╪════════════╪═══════╪════════════╪═══╪═══════════╪═══════════╪═══════════╪═══════════╡\n",
       "│ 0763790141 ┆ Brian Luke ┆ 43.45 ┆ Managing   ┆ … ┆ 3         ┆ 419694    ┆ 24        ┆ 8         │\n",
       "│            ┆ Seaward    ┆       ┆ Stress: A  ┆   ┆           ┆           ┆           ┆           │\n",
       "│            ┆            ┆       ┆ Creative   ┆   ┆           ┆           ┆           ┆           │\n",
       "│            ┆            ┆       ┆ Jour…      ┆   ┆           ┆           ┆           ┆           │\n",
       "│ 0615976247 ┆ Visit      ┆ 11.97 ┆ Hyper-Grac ┆ … ┆ 3         ┆ 847812    ┆ 13        ┆ 6         │\n",
       "│            ┆ Amazon's   ┆       ┆ e: The     ┆   ┆           ┆           ┆           ┆           │\n",
       "│            ┆ D. R.      ┆       ┆ Dangerous  ┆   ┆           ┆           ┆           ┆           │\n",
       "│            ┆ Silva Page ┆       ┆ Doctr…     ┆   ┆           ┆           ┆           ┆           │\n",
       "│ 1946444448 ┆ Christine  ┆ 29.95 ┆ Google     ┆ … ┆ 3         ┆ 223391    ┆ 96        ┆ 60        │\n",
       "│            ┆ Pinto      ┆       ┆ Apps for   ┆   ┆           ┆           ┆           ┆           │\n",
       "│            ┆            ┆       ┆ Littles:   ┆   ┆           ┆           ┆           ┆           │\n",
       "│            ┆            ┆       ┆ Believe…   ┆   ┆           ┆           ┆           ┆           │\n",
       "│ 1981364269 ┆ Visit      ┆ 11.99 ┆ Donald     ┆ … ┆ 3         ┆ 218816    ┆ 39        ┆ 58        │\n",
       "│            ┆ Amazon's   ┆       ┆ Don't Grab ┆   ┆           ┆           ┆           ┆           │\n",
       "│            ┆ Mike       ┆       ┆ That       ┆   ┆           ┆           ┆           ┆           │\n",
       "│            ┆ McAllen    ┆       ┆ Pussy: Th… ┆   ┆           ┆           ┆           ┆           │\n",
       "│            ┆ Page       ┆       ┆            ┆   ┆           ┆           ┆           ┆           │\n",
       "│ 1481227041 ┆ Visit      ┆ 24.99 ┆ Natural    ┆ … ┆ 3         ┆ 57879     ┆ 11        ┆ 45        │\n",
       "│            ┆ Amazon's   ┆       ┆ Harvest: A ┆   ┆           ┆           ┆           ┆           │\n",
       "│            ┆ Paul &quot ┆       ┆ Collection ┆   ┆           ┆           ┆           ┆           │\n",
       "│            ┆ ;Fotie&…   ┆       ┆ of…        ┆   ┆           ┆           ┆           ┆           │\n",
       "└────────────┴────────────┴───────┴────────────┴───┴───────────┴───────────┴───────────┴───────────┘"
      ]
     },
     "execution_count": 36,
     "metadata": {},
     "output_type": "execute_result"
    }
   ],
   "source": [
    "# Clean duplicates\n",
    "all_metadata_books = all_metadata_books.unique(subset='asin')\n",
    "print(all_metadata_books.shape)\n",
    "all_metadata_books.head()"
   ]
  },
  {
   "cell_type": "code",
   "execution_count": 41,
   "metadata": {},
   "outputs": [
    {
     "name": "stdout",
     "output_type": "stream",
     "text": [
      "(383366, 1)\n"
     ]
    },
    {
     "data": {
      "text/html": [
       "<div><style>\n",
       ".dataframe > thead > tr > th,\n",
       ".dataframe > tbody > tr > td {\n",
       "  text-align: right;\n",
       "}\n",
       "</style>\n",
       "<small>shape: (5, 1)</small><table border=\"1\" class=\"dataframe\"><thead><tr><th>asin</th></tr><tr><td>str</td></tr></thead><tbody><tr><td>&quot;0763790141&quot;</td></tr><tr><td>&quot;0615976247&quot;</td></tr><tr><td>&quot;1946444448&quot;</td></tr><tr><td>&quot;1981364269&quot;</td></tr><tr><td>&quot;1481227041&quot;</td></tr></tbody></table></div>"
      ],
      "text/plain": [
       "shape: (5, 1)\n",
       "┌────────────┐\n",
       "│ asin       │\n",
       "│ ---        │\n",
       "│ str        │\n",
       "╞════════════╡\n",
       "│ 0763790141 │\n",
       "│ 0615976247 │\n",
       "│ 1946444448 │\n",
       "│ 1981364269 │\n",
       "│ 1481227041 │\n",
       "└────────────┘"
      ]
     },
     "execution_count": 41,
     "metadata": {},
     "output_type": "execute_result"
    }
   ],
   "source": [
    "# Get the list of asin to match with reviews:\n",
    "books_list = all_metadata_books['asin']\n",
    "books_list = books_list.to_frame()\n",
    "books_list.write_parquet('books_list.parquet')\n",
    "print(books_list.shape)\n",
    "books_list.head()"
   ]
  },
  {
   "cell_type": "code",
   "execution_count": 42,
   "metadata": {},
   "outputs": [],
   "source": [
    "# Polars to parquet -> all_metadata_books\n",
    "all_metadata_books.write_parquet('all_metadata_books.parquet')"
   ]
  },
  {
   "cell_type": "code",
   "execution_count": 46,
   "metadata": {},
   "outputs": [
    {
     "name": "stdout",
     "output_type": "stream",
     "text": [
      "(12049, 9)\n"
     ]
    }
   ],
   "source": [
    "# Slice for only the books in the Top 25,000 by \"rank_in_category\" to get the LIST to match with reviews:\n",
    "all_metadata_books_in_top25k = all_metadata_books.filter(pl.col(\"rank_in_category\") < 25001)\n",
    "print(all_metadata_books_in_top25k.shape)\n",
    "all_metadata_books_in_top25k.head()\n",
    "\n",
    "# Polars to parquet -> all_metadata_books_in_top25k\n",
    "all_metadata_books_in_top25k.write_parquet('all_metadata_books_in_top25k.parquet')"
   ]
  },
  {
   "cell_type": "code",
   "execution_count": 45,
   "metadata": {},
   "outputs": [
    {
     "name": "stdout",
     "output_type": "stream",
     "text": [
      "(12049, 1)\n"
     ]
    },
    {
     "data": {
      "text/html": [
       "<div><style>\n",
       ".dataframe > thead > tr > th,\n",
       ".dataframe > tbody > tr > td {\n",
       "  text-align: right;\n",
       "}\n",
       "</style>\n",
       "<small>shape: (5, 1)</small><table border=\"1\" class=\"dataframe\"><thead><tr><th>asin</th></tr><tr><td>str</td></tr></thead><tbody><tr><td>&quot;1565238788&quot;</td></tr><tr><td>&quot;0062102788&quot;</td></tr><tr><td>&quot;0143108085&quot;</td></tr><tr><td>&quot;1974683923&quot;</td></tr><tr><td>&quot;0345457684&quot;</td></tr></tbody></table></div>"
      ],
      "text/plain": [
       "shape: (5, 1)\n",
       "┌────────────┐\n",
       "│ asin       │\n",
       "│ ---        │\n",
       "│ str        │\n",
       "╞════════════╡\n",
       "│ 1565238788 │\n",
       "│ 0062102788 │\n",
       "│ 0143108085 │\n",
       "│ 1974683923 │\n",
       "│ 0345457684 │\n",
       "└────────────┘"
      ]
     },
     "execution_count": 45,
     "metadata": {},
     "output_type": "execute_result"
    }
   ],
   "source": [
    "# Get the list of asin's to match with reviews (only books in Top 25k):\n",
    "books_list_top25k = all_metadata_books_in_top25k['asin']\n",
    "books_list_top25k = books_list_top25k.to_frame()\n",
    "books_list_top25k.write_parquet('books_list_top25k.parquet')\n",
    "print(books_list_top25k.shape)\n",
    "books_list_top25k.head()"
   ]
  }
 ],
 "metadata": {
  "kernelspec": {
   "display_name": "Python 3",
   "language": "python",
   "name": "python3"
  },
  "language_info": {
   "codemirror_mode": {
    "name": "ipython",
    "version": 3
   },
   "file_extension": ".py",
   "mimetype": "text/x-python",
   "name": "python",
   "nbconvert_exporter": "python",
   "pygments_lexer": "ipython3",
   "version": "3.10.5"
  },
  "orig_nbformat": 4
 },
 "nbformat": 4,
 "nbformat_minor": 2
}
