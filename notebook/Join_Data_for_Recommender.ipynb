{
 "cells": [
  {
   "cell_type": "code",
   "execution_count": 35,
   "metadata": {},
   "outputs": [],
   "source": [
    "import os\n",
    "import re\n",
    "import time\n",
    "import string\n",
    "import polars as pl"
   ]
  },
  {
   "cell_type": "markdown",
   "metadata": {},
   "source": [
    "<div style=\"border-radius:10px; border:#DEB887 solid; padding: 15px; background-color: #FFFAF0; font-size:100%; text-align:left\">\n",
    "<h3 align=\"left\"><font color='#DEB887'>Info</font></h3>\n",
    "    \n",
    "This notebook allows you to concatenate and filter the data necessary to train the Machine Learning model for the Recommendation System"
   ]
  },
  {
   "cell_type": "markdown",
   "metadata": {},
   "source": [
    "# List all reviews parquet files related to reviews to be loaded"
   ]
  },
  {
   "cell_type": "code",
   "execution_count": 36,
   "metadata": {},
   "outputs": [
    {
     "name": "stdout",
     "output_type": "stream",
     "text": [
      "['processed_reviews_books_1.parquet', 'processed_reviews_books_10.parquet', 'processed_reviews_books_11.parquet', 'processed_reviews_books_12.parquet', 'processed_reviews_books_13.parquet', 'processed_reviews_books_3.parquet', 'processed_reviews_books_4.parquet', 'processed_reviews_books_5.parquet', 'processed_reviews_books_6.parquet', 'processed_reviews_books_7.parquet', 'processed_reviews_books_8.parquet', 'processed_reviews_books_9.parquet']\n"
     ]
    }
   ],
   "source": [
    "path = '../data/raw/reviews'\n",
    "with os.scandir(path) as reviewFiles:\n",
    "    reviewFiles = [file.name for file in reviewFiles if file.is_file()]\n",
    "print(reviewFiles)"
   ]
  },
  {
   "cell_type": "markdown",
   "metadata": {},
   "source": [
    "# Load and join all parquet files in the directory"
   ]
  },
  {
   "cell_type": "code",
   "execution_count": 37,
   "metadata": {},
   "outputs": [
    {
     "name": "stdout",
     "output_type": "stream",
     "text": [
      "reading ../data/raw/reviews/processed_reviews_books_1.parquet\n",
      "Adding...../data/raw/reviews/processed_reviews_books_1.parquet\n",
      "reading ../data/raw/reviews/processed_reviews_books_10.parquet\n",
      "Adding...../data/raw/reviews/processed_reviews_books_10.parquet\n",
      "reading ../data/raw/reviews/processed_reviews_books_11.parquet\n",
      "Adding...../data/raw/reviews/processed_reviews_books_11.parquet\n",
      "reading ../data/raw/reviews/processed_reviews_books_12.parquet\n",
      "Adding...../data/raw/reviews/processed_reviews_books_12.parquet\n",
      "reading ../data/raw/reviews/processed_reviews_books_13.parquet\n",
      "Adding...../data/raw/reviews/processed_reviews_books_13.parquet\n",
      "reading ../data/raw/reviews/processed_reviews_books_3.parquet\n",
      "Adding...../data/raw/reviews/processed_reviews_books_3.parquet\n",
      "reading ../data/raw/reviews/processed_reviews_books_4.parquet\n",
      "Adding...../data/raw/reviews/processed_reviews_books_4.parquet\n",
      "reading ../data/raw/reviews/processed_reviews_books_5.parquet\n",
      "Adding...../data/raw/reviews/processed_reviews_books_5.parquet\n",
      "reading ../data/raw/reviews/processed_reviews_books_6.parquet\n",
      "Adding...../data/raw/reviews/processed_reviews_books_6.parquet\n",
      "reading ../data/raw/reviews/processed_reviews_books_7.parquet\n",
      "Adding...../data/raw/reviews/processed_reviews_books_7.parquet\n",
      "reading ../data/raw/reviews/processed_reviews_books_8.parquet\n",
      "Adding...../data/raw/reviews/processed_reviews_books_8.parquet\n",
      "reading ../data/raw/reviews/processed_reviews_books_9.parquet\n",
      "Adding...../data/raw/reviews/processed_reviews_books_9.parquet\n"
     ]
    }
   ],
   "source": [
    "df = pl.DataFrame()\n",
    "for f in reviewFiles:\n",
    "    n = str.format(\"../data/raw/reviews/{}\", f)\n",
    "    print(\"reading \" + n)\n",
    "\n",
    "    df_aux = pl.read_parquet(n)\n",
    "\n",
    "    print(\"Adding...\" + n)\n",
    "    df = df.vstack(df_aux)\n",
    "    n = \"\"\n"
   ]
  },
  {
   "cell_type": "code",
   "execution_count": 38,
   "metadata": {},
   "outputs": [
    {
     "data": {
      "text/html": [
       "<div><style>\n",
       ".dataframe > thead > tr > th,\n",
       ".dataframe > tbody > tr > td {\n",
       "  text-align: right;\n",
       "}\n",
       "</style>\n",
       "<small>shape: (1, 7)</small><table border=\"1\" class=\"dataframe\"><thead><tr><th>asin</th><th>overall</th><th>reviewText</th><th>reviewerID</th><th>summary</th><th>verified</th><th>unixReviewTime</th></tr><tr><td>str</td><td>str</td><td>str</td><td>str</td><td>str</td><td>str</td><td>datetime[μs]</td></tr></thead><tbody><tr><td>&quot;1475031904&quot;</td><td>&quot;5.0&quot;</td><td>&quot;Exciting and f…</td><td>&quot;AYAQQG8UNG5FG&quot;</td><td>&quot;Fun read.&quot;</td><td>&quot;true&quot;</td><td>2016-03-02 00:00:00</td></tr></tbody></table></div>"
      ],
      "text/plain": [
       "shape: (1, 7)\n",
       "┌────────────┬─────────┬──────────────────┬───────────────┬───────────┬──────────┬─────────────────┐\n",
       "│ asin       ┆ overall ┆ reviewText       ┆ reviewerID    ┆ summary   ┆ verified ┆ unixReviewTime  │\n",
       "│ ---        ┆ ---     ┆ ---              ┆ ---           ┆ ---       ┆ ---      ┆ ---             │\n",
       "│ str        ┆ str     ┆ str              ┆ str           ┆ str       ┆ str      ┆ datetime[μs]    │\n",
       "╞════════════╪═════════╪══════════════════╪═══════════════╪═══════════╪══════════╪═════════════════╡\n",
       "│ 1475031904 ┆ 5.0     ┆ Exciting and     ┆ AYAQQG8UNG5FG ┆ Fun read. ┆ true     ┆ 2016-03-02      │\n",
       "│            ┆         ┆ fast paced. The  ┆               ┆           ┆          ┆ 00:00:00        │\n",
       "│            ┆         ┆ sci…             ┆               ┆           ┆          ┆                 │\n",
       "└────────────┴─────────┴──────────────────┴───────────────┴───────────┴──────────┴─────────────────┘"
      ]
     },
     "execution_count": 38,
     "metadata": {},
     "output_type": "execute_result"
    }
   ],
   "source": [
    "df.sample(1)"
   ]
  },
  {
   "cell_type": "code",
   "execution_count": 39,
   "metadata": {},
   "outputs": [
    {
     "data": {
      "text/plain": [
       "(2620482, 7)"
      ]
     },
     "execution_count": 39,
     "metadata": {},
     "output_type": "execute_result"
    }
   ],
   "source": [
    "df.shape"
   ]
  },
  {
   "cell_type": "code",
   "execution_count": 40,
   "metadata": {},
   "outputs": [
    {
     "data": {
      "text/html": [
       "<div><style>\n",
       ".dataframe > thead > tr > th,\n",
       ".dataframe > tbody > tr > td {\n",
       "  text-align: right;\n",
       "}\n",
       "</style>\n",
       "<small>shape: (1, 7)</small><table border=\"1\" class=\"dataframe\"><thead><tr><th>asin</th><th>overall</th><th>reviewText</th><th>reviewerID</th><th>summary</th><th>verified</th><th>unixReviewTime</th></tr><tr><td>u32</td><td>u32</td><td>u32</td><td>u32</td><td>u32</td><td>u32</td><td>u32</td></tr></thead><tbody><tr><td>0</td><td>0</td><td>1260</td><td>0</td><td>796</td><td>0</td><td>0</td></tr></tbody></table></div>"
      ],
      "text/plain": [
       "shape: (1, 7)\n",
       "┌──────┬─────────┬────────────┬────────────┬─────────┬──────────┬────────────────┐\n",
       "│ asin ┆ overall ┆ reviewText ┆ reviewerID ┆ summary ┆ verified ┆ unixReviewTime │\n",
       "│ ---  ┆ ---     ┆ ---        ┆ ---        ┆ ---     ┆ ---      ┆ ---            │\n",
       "│ u32  ┆ u32     ┆ u32        ┆ u32        ┆ u32     ┆ u32      ┆ u32            │\n",
       "╞══════╪═════════╪════════════╪════════════╪═════════╪══════════╪════════════════╡\n",
       "│ 0    ┆ 0       ┆ 1260       ┆ 0          ┆ 796     ┆ 0        ┆ 0              │\n",
       "└──────┴─────────┴────────────┴────────────┴─────────┴──────────┴────────────────┘"
      ]
     },
     "execution_count": 40,
     "metadata": {},
     "output_type": "execute_result"
    }
   ],
   "source": [
    "df.null_count()"
   ]
  },
  {
   "cell_type": "code",
   "execution_count": 41,
   "metadata": {},
   "outputs": [],
   "source": [
    "df = df.drop_nulls()"
   ]
  },
  {
   "cell_type": "code",
   "execution_count": 42,
   "metadata": {},
   "outputs": [
    {
     "data": {
      "text/plain": [
       "(2618468, 7)"
      ]
     },
     "execution_count": 42,
     "metadata": {},
     "output_type": "execute_result"
    }
   ],
   "source": [
    "df.shape"
   ]
  },
  {
   "cell_type": "markdown",
   "metadata": {},
   "source": [
    "Save it as temporal parquet file"
   ]
  },
  {
   "cell_type": "code",
   "execution_count": 43,
   "metadata": {},
   "outputs": [],
   "source": [
    "df.write_parquet(\"../data/processed/All_reviews.parquet\")"
   ]
  },
  {
   "cell_type": "code",
   "execution_count": 44,
   "metadata": {},
   "outputs": [],
   "source": [
    "reviews = pl.read_parquet(\"../data/processed/All_reviews.parquet\")"
   ]
  },
  {
   "cell_type": "markdown",
   "metadata": {},
   "source": [
    "Load the metadata related to books category"
   ]
  },
  {
   "cell_type": "code",
   "execution_count": 45,
   "metadata": {},
   "outputs": [],
   "source": [
    "metadata = pl.read_parquet(\"../data/raw/all_metadata_books_in_top25k.parquet\")"
   ]
  },
  {
   "cell_type": "code",
   "execution_count": 46,
   "metadata": {},
   "outputs": [
    {
     "data": {
      "text/plain": [
       "(2618468, 7)"
      ]
     },
     "execution_count": 46,
     "metadata": {},
     "output_type": "execute_result"
    }
   ],
   "source": [
    "reviews.shape"
   ]
  },
  {
   "cell_type": "code",
   "execution_count": 47,
   "metadata": {},
   "outputs": [
    {
     "data": {
      "text/plain": [
       "(12049, 9)"
      ]
     },
     "execution_count": 47,
     "metadata": {},
     "output_type": "execute_result"
    }
   ],
   "source": [
    "metadata.shape"
   ]
  },
  {
   "cell_type": "code",
   "execution_count": 48,
   "metadata": {},
   "outputs": [
    {
     "data": {
      "text/html": [
       "<div><style>\n",
       ".dataframe > thead > tr > th,\n",
       ".dataframe > tbody > tr > td {\n",
       "  text-align: right;\n",
       "}\n",
       "</style>\n",
       "<small>shape: (1, 7)</small><table border=\"1\" class=\"dataframe\"><thead><tr><th>asin</th><th>overall</th><th>reviewText</th><th>reviewerID</th><th>summary</th><th>verified</th><th>unixReviewTime</th></tr><tr><td>str</td><td>str</td><td>str</td><td>str</td><td>str</td><td>str</td><td>datetime[μs]</td></tr></thead><tbody><tr><td>&quot;0385349173&quot;</td><td>&quot;5.0&quot;</td><td>&quot;Great Read\n",
       "as …</td><td>&quot;A3LW89A82KHPM1…</td><td>&quot;Great Read - F…</td><td>&quot;false&quot;</td><td>2013-12-04 00:00:00</td></tr></tbody></table></div>"
      ],
      "text/plain": [
       "shape: (1, 7)\n",
       "┌────────────┬─────────┬────────────────┬───────────────┬───────────────┬──────────┬───────────────┐\n",
       "│ asin       ┆ overall ┆ reviewText     ┆ reviewerID    ┆ summary       ┆ verified ┆ unixReviewTim │\n",
       "│ ---        ┆ ---     ┆ ---            ┆ ---           ┆ ---           ┆ ---      ┆ e             │\n",
       "│ str        ┆ str     ┆ str            ┆ str           ┆ str           ┆ str      ┆ ---           │\n",
       "│            ┆         ┆                ┆               ┆               ┆          ┆ datetime[μs]  │\n",
       "╞════════════╪═════════╪════════════════╪═══════════════╪═══════════════╪══════════╪═══════════════╡\n",
       "│ 0385349173 ┆ 5.0     ┆ Great Read     ┆ A3LW89A82KHPM ┆ Great Read -  ┆ false    ┆ 2013-12-04    │\n",
       "│            ┆         ┆ as you can     ┆ 1             ┆ Funniest is   ┆          ┆ 00:00:00      │\n",
       "│            ┆         ┆ read it in…    ┆               ┆ article…      ┆          ┆               │\n",
       "└────────────┴─────────┴────────────────┴───────────────┴───────────────┴──────────┴───────────────┘"
      ]
     },
     "execution_count": 48,
     "metadata": {},
     "output_type": "execute_result"
    }
   ],
   "source": [
    "reviews.sample(1)"
   ]
  },
  {
   "cell_type": "code",
   "execution_count": 49,
   "metadata": {},
   "outputs": [
    {
     "data": {
      "text/html": [
       "<div><style>\n",
       ".dataframe > thead > tr > th,\n",
       ".dataframe > tbody > tr > td {\n",
       "  text-align: right;\n",
       "}\n",
       "</style>\n",
       "<small>shape: (1, 9)</small><table border=\"1\" class=\"dataframe\"><thead><tr><th>asin</th><th>brand</th><th>price</th><th>title</th><th>cant_image</th><th>cant_category</th><th>rank_in_category</th><th>also_buy_count</th><th>also_view_count</th></tr><tr><td>str</td><td>str</td><td>f64</td><td>str</td><td>u32</td><td>u32</td><td>i64</td><td>u32</td><td>u32</td></tr></thead><tbody><tr><td>&quot;1101946903&quot;</td><td>&quot;Visit Amazon&#x27;s…</td><td>14.21</td><td>&quot;Brave Enough&quot;</td><td>0</td><td>3</td><td>5946</td><td>50</td><td>55</td></tr></tbody></table></div>"
      ],
      "text/plain": [
       "shape: (1, 9)\n",
       "┌────────────┬────────────┬───────┬────────┬───┬────────────┬────────────┬────────────┬────────────┐\n",
       "│ asin       ┆ brand      ┆ price ┆ title  ┆ … ┆ cant_categ ┆ rank_in_ca ┆ also_buy_c ┆ also_view_ │\n",
       "│ ---        ┆ ---        ┆ ---   ┆ ---    ┆   ┆ ory        ┆ tegory     ┆ ount       ┆ count      │\n",
       "│ str        ┆ str        ┆ f64   ┆ str    ┆   ┆ ---        ┆ ---        ┆ ---        ┆ ---        │\n",
       "│            ┆            ┆       ┆        ┆   ┆ u32        ┆ i64        ┆ u32        ┆ u32        │\n",
       "╞════════════╪════════════╪═══════╪════════╪═══╪════════════╪════════════╪════════════╪════════════╡\n",
       "│ 1101946903 ┆ Visit      ┆ 14.21 ┆ Brave  ┆ … ┆ 3          ┆ 5946       ┆ 50         ┆ 55         │\n",
       "│            ┆ Amazon's   ┆       ┆ Enough ┆   ┆            ┆            ┆            ┆            │\n",
       "│            ┆ Cheryl     ┆       ┆        ┆   ┆            ┆            ┆            ┆            │\n",
       "│            ┆ Strayed    ┆       ┆        ┆   ┆            ┆            ┆            ┆            │\n",
       "│            ┆ Pa…        ┆       ┆        ┆   ┆            ┆            ┆            ┆            │\n",
       "└────────────┴────────────┴───────┴────────┴───┴────────────┴────────────┴────────────┴────────────┘"
      ]
     },
     "execution_count": 49,
     "metadata": {},
     "output_type": "execute_result"
    }
   ],
   "source": [
    "metadata.sample(1)"
   ]
  },
  {
   "cell_type": "markdown",
   "metadata": {},
   "source": [
    "Join 2 dataframes by the ASIN number"
   ]
  },
  {
   "cell_type": "code",
   "execution_count": 50,
   "metadata": {},
   "outputs": [],
   "source": [
    "join_keys = [\"asin\"]\n",
    "df_joined = metadata.join(reviews, join_keys)"
   ]
  },
  {
   "cell_type": "code",
   "execution_count": 51,
   "metadata": {},
   "outputs": [
    {
     "data": {
      "text/plain": [
       "(2618468, 15)"
      ]
     },
     "execution_count": 51,
     "metadata": {},
     "output_type": "execute_result"
    }
   ],
   "source": [
    "df_joined.shape"
   ]
  },
  {
   "cell_type": "code",
   "execution_count": 52,
   "metadata": {},
   "outputs": [
    {
     "data": {
      "text/html": [
       "<div><style>\n",
       ".dataframe > thead > tr > th,\n",
       ".dataframe > tbody > tr > td {\n",
       "  text-align: right;\n",
       "}\n",
       "</style>\n",
       "<small>shape: (1, 15)</small><table border=\"1\" class=\"dataframe\"><thead><tr><th>asin</th><th>brand</th><th>price</th><th>title</th><th>cant_image</th><th>cant_category</th><th>rank_in_category</th><th>also_buy_count</th><th>also_view_count</th><th>overall</th><th>reviewText</th><th>reviewerID</th><th>summary</th><th>verified</th><th>unixReviewTime</th></tr><tr><td>str</td><td>str</td><td>f64</td><td>str</td><td>u32</td><td>u32</td><td>i64</td><td>u32</td><td>u32</td><td>str</td><td>str</td><td>str</td><td>str</td><td>str</td><td>datetime[μs]</td></tr></thead><tbody><tr><td>&quot;045146981X&quot;</td><td>&quot;Visit Amazon&#x27;s…</td><td>5.39</td><td>&quot;Llama Llama I …</td><td>0</td><td>3</td><td>3503</td><td>96</td><td>60</td><td>&quot;5.0&quot;</td><td>&quot;Sweet book for…</td><td>&quot;A1I7CMF07WQ7FN…</td><td>&quot;Five Stars&quot;</td><td>&quot;true&quot;</td><td>2017-02-20 00:00:00</td></tr></tbody></table></div>"
      ],
      "text/plain": [
       "shape: (1, 15)\n",
       "┌────────────┬────────────┬───────┬────────────┬───┬────────────┬───────────┬──────────┬───────────┐\n",
       "│ asin       ┆ brand      ┆ price ┆ title      ┆ … ┆ reviewerID ┆ summary   ┆ verified ┆ unixRevie │\n",
       "│ ---        ┆ ---        ┆ ---   ┆ ---        ┆   ┆ ---        ┆ ---       ┆ ---      ┆ wTime     │\n",
       "│ str        ┆ str        ┆ f64   ┆ str        ┆   ┆ str        ┆ str       ┆ str      ┆ ---       │\n",
       "│            ┆            ┆       ┆            ┆   ┆            ┆           ┆          ┆ datetime[ │\n",
       "│            ┆            ┆       ┆            ┆   ┆            ┆           ┆          ┆ μs]       │\n",
       "╞════════════╪════════════╪═══════╪════════════╪═══╪════════════╪═══════════╪══════════╪═══════════╡\n",
       "│ 045146981X ┆ Visit      ┆ 5.39  ┆ Llama      ┆ … ┆ A1I7CMF07W ┆ Five      ┆ true     ┆ 2017-02-2 │\n",
       "│            ┆ Amazon's   ┆       ┆ Llama I    ┆   ┆ Q7FN       ┆ Stars     ┆          ┆ 0         │\n",
       "│            ┆ Anna       ┆       ┆ Love You   ┆   ┆            ┆           ┆          ┆ 00:00:00  │\n",
       "│            ┆ Dewdney    ┆       ┆            ┆   ┆            ┆           ┆          ┆           │\n",
       "│            ┆ Page       ┆       ┆            ┆   ┆            ┆           ┆          ┆           │\n",
       "└────────────┴────────────┴───────┴────────────┴───┴────────────┴───────────┴──────────┴───────────┘"
      ]
     },
     "execution_count": 52,
     "metadata": {},
     "output_type": "execute_result"
    }
   ],
   "source": [
    "df_joined.sample(1)"
   ]
  },
  {
   "cell_type": "code",
   "execution_count": 53,
   "metadata": {},
   "outputs": [],
   "source": [
    "final = df_joined.select(\"title\", \"reviewerID\", \"unixReviewTime\")\n"
   ]
  },
  {
   "cell_type": "code",
   "execution_count": 54,
   "metadata": {},
   "outputs": [
    {
     "data": {
      "text/html": [
       "<div><style>\n",
       ".dataframe > thead > tr > th,\n",
       ".dataframe > tbody > tr > td {\n",
       "  text-align: right;\n",
       "}\n",
       "</style>\n",
       "<small>shape: (1, 3)</small><table border=\"1\" class=\"dataframe\"><thead><tr><th>title</th><th>reviewerID</th><th>unixReviewTime</th></tr><tr><td>str</td><td>str</td><td>datetime[μs]</td></tr></thead><tbody><tr><td>&quot;The Martian&quot;</td><td>&quot;A20GRCRYT04TJ4…</td><td>2015-08-10 00:00:00</td></tr></tbody></table></div>"
      ],
      "text/plain": [
       "shape: (1, 3)\n",
       "┌─────────────┬────────────────┬─────────────────────┐\n",
       "│ title       ┆ reviewerID     ┆ unixReviewTime      │\n",
       "│ ---         ┆ ---            ┆ ---                 │\n",
       "│ str         ┆ str            ┆ datetime[μs]        │\n",
       "╞═════════════╪════════════════╪═════════════════════╡\n",
       "│ The Martian ┆ A20GRCRYT04TJ4 ┆ 2015-08-10 00:00:00 │\n",
       "└─────────────┴────────────────┴─────────────────────┘"
      ]
     },
     "execution_count": 54,
     "metadata": {},
     "output_type": "execute_result"
    }
   ],
   "source": [
    "final.sample(1)"
   ]
  },
  {
   "cell_type": "code",
   "execution_count": 55,
   "metadata": {},
   "outputs": [
    {
     "data": {
      "text/plain": [
       "(2618468, 3)"
      ]
     },
     "execution_count": 55,
     "metadata": {},
     "output_type": "execute_result"
    }
   ],
   "source": [
    "final.shape\n",
    "#2916355"
   ]
  },
  {
   "cell_type": "code",
   "execution_count": 56,
   "metadata": {},
   "outputs": [],
   "source": [
    "final = final.unique()"
   ]
  },
  {
   "cell_type": "code",
   "execution_count": 57,
   "metadata": {},
   "outputs": [
    {
     "data": {
      "text/plain": [
       "(2612701, 3)"
      ]
     },
     "execution_count": 57,
     "metadata": {},
     "output_type": "execute_result"
    }
   ],
   "source": [
    "final.shape"
   ]
  },
  {
   "cell_type": "markdown",
   "metadata": {},
   "source": [
    "Save the file to be used"
   ]
  },
  {
   "cell_type": "code",
   "execution_count": 58,
   "metadata": {},
   "outputs": [],
   "source": [
    "final.write_parquet(\"../data/processed/Final_data_for_ML.parquet\")"
   ]
  },
  {
   "cell_type": "code",
   "execution_count": 70,
   "metadata": {},
   "outputs": [],
   "source": [
    "def converTime(x):\n",
    "    print(type(x))\n",
    "    return time.mktime(x.timetuple()) + x.microsecond/1e6"
   ]
  },
  {
   "cell_type": "code",
   "execution_count": 71,
   "metadata": {},
   "outputs": [
    {
     "ename": "PanicException",
     "evalue": "assertion failed: `(left == right)`\n  left: `9`,\n right: `1`: impl error",
     "output_type": "error",
     "traceback": [
      "\u001b[1;31m---------------------------------------------------------------------------\u001b[0m",
      "\u001b[1;31mPanicException\u001b[0m                            Traceback (most recent call last)",
      "File \u001b[1;32mc:\\Users\\laptop\\Anaconda3\\envs\\Factored_Datathon\\lib\\site-packages\\polars\\expr\\expr.py:3821\u001b[0m, in \u001b[0;36mExpr.apply.<locals>.wrap_f\u001b[1;34m(x)\u001b[0m\n\u001b[0;32m   3820\u001b[0m \u001b[39mdef\u001b[39;00m \u001b[39mwrap_f\u001b[39m(x: Series) \u001b[39m-\u001b[39m\u001b[39m>\u001b[39m Series:  \u001b[39m# pragma: no cover\u001b[39;00m\n\u001b[1;32m-> 3821\u001b[0m     \u001b[39mreturn\u001b[39;00m x\u001b[39m.\u001b[39;49mapply(\n\u001b[0;32m   3822\u001b[0m         function, return_dtype\u001b[39m=\u001b[39;49mreturn_dtype, skip_nulls\u001b[39m=\u001b[39;49mskip_nulls\n\u001b[0;32m   3823\u001b[0m     )\n",
      "File \u001b[1;32mc:\\Users\\laptop\\Anaconda3\\envs\\Factored_Datathon\\lib\\site-packages\\polars\\series\\series.py:4560\u001b[0m, in \u001b[0;36mSeries.apply\u001b[1;34m(self, function, return_dtype, skip_nulls)\u001b[0m\n\u001b[0;32m   4557\u001b[0m \u001b[39melse\u001b[39;00m:\n\u001b[0;32m   4558\u001b[0m     pl_return_dtype \u001b[39m=\u001b[39m py_type_to_dtype(return_dtype)\n\u001b[0;32m   4559\u001b[0m \u001b[39mreturn\u001b[39;00m \u001b[39mself\u001b[39m\u001b[39m.\u001b[39m_from_pyseries(\n\u001b[1;32m-> 4560\u001b[0m     \u001b[39mself\u001b[39;49m\u001b[39m.\u001b[39;49m_s\u001b[39m.\u001b[39;49mapply_lambda(function, pl_return_dtype, skip_nulls)\n\u001b[0;32m   4561\u001b[0m )\n",
      "\u001b[1;31mPanicException\u001b[0m: assertion failed: `(left == right)`\n  left: `9`,\n right: `1`: impl error"
     ]
    },
    {
     "ename": "PanicException",
     "evalue": "Unwrapped panic from Python code",
     "output_type": "error",
     "traceback": [
      "\u001b[1;31m---------------------------------------------------------------------------\u001b[0m",
      "\u001b[1;31mPanicException\u001b[0m                            Traceback (most recent call last)",
      "Cell \u001b[1;32mIn[71], line 1\u001b[0m\n\u001b[1;32m----> 1\u001b[0m final \u001b[39m=\u001b[39m final\u001b[39m.\u001b[39;49mwith_columns(\n\u001b[0;32m      2\u001b[0m     pl\u001b[39m.\u001b[39;49mcol(\u001b[39m\"\u001b[39;49m\u001b[39munixReviewTime\u001b[39;49m\u001b[39m\"\u001b[39;49m)\u001b[39m.\u001b[39;49mapply(\u001b[39mlambda\u001b[39;49;00m x: converTime(x) )\u001b[39m.\u001b[39;49malias(\u001b[39m\"\u001b[39;49m\u001b[39mreviewtime\u001b[39;49m\u001b[39m\"\u001b[39;49m)\n\u001b[0;32m      3\u001b[0m )\u001b[39m.\u001b[39mdrop(\u001b[39m\"\u001b[39m\u001b[39munixReviewTime\u001b[39m\u001b[39m\"\u001b[39m)    \n",
      "File \u001b[1;32mc:\\Users\\laptop\\Anaconda3\\envs\\Factored_Datathon\\lib\\site-packages\\polars\\dataframe\\frame.py:7451\u001b[0m, in \u001b[0;36mDataFrame.with_columns\u001b[1;34m(self, *exprs, **named_exprs)\u001b[0m\n\u001b[0;32m   7303\u001b[0m \u001b[39mdef\u001b[39;00m \u001b[39mwith_columns\u001b[39m(\n\u001b[0;32m   7304\u001b[0m     \u001b[39mself\u001b[39m,\n\u001b[0;32m   7305\u001b[0m     \u001b[39m*\u001b[39mexprs: IntoExpr \u001b[39m|\u001b[39m Iterable[IntoExpr],\n\u001b[0;32m   7306\u001b[0m     \u001b[39m*\u001b[39m\u001b[39m*\u001b[39mnamed_exprs: IntoExpr,\n\u001b[0;32m   7307\u001b[0m ) \u001b[39m-\u001b[39m\u001b[39m>\u001b[39m DataFrame:\n\u001b[0;32m   7308\u001b[0m \u001b[39m    \u001b[39m\u001b[39m\"\"\"\u001b[39;00m\n\u001b[0;32m   7309\u001b[0m \u001b[39m    Add columns to this DataFrame.\u001b[39;00m\n\u001b[0;32m   7310\u001b[0m \n\u001b[1;32m   (...)\u001b[0m\n\u001b[0;32m   7448\u001b[0m \n\u001b[0;32m   7449\u001b[0m \u001b[39m    \"\"\"\u001b[39;00m\n\u001b[0;32m   7450\u001b[0m     \u001b[39mreturn\u001b[39;00m (\n\u001b[1;32m-> 7451\u001b[0m         \u001b[39mself\u001b[39;49m\u001b[39m.\u001b[39;49mlazy()\n\u001b[0;32m   7452\u001b[0m         \u001b[39m.\u001b[39;49mwith_columns(\u001b[39m*\u001b[39;49mexprs, \u001b[39m*\u001b[39;49m\u001b[39m*\u001b[39;49mnamed_exprs)\n\u001b[0;32m   7453\u001b[0m         \u001b[39m.\u001b[39;49mcollect(no_optimization\u001b[39m=\u001b[39;49m\u001b[39mTrue\u001b[39;49;00m)\n\u001b[0;32m   7454\u001b[0m     )\n",
      "File \u001b[1;32mc:\\Users\\laptop\\Anaconda3\\envs\\Factored_Datathon\\lib\\site-packages\\polars\\lazyframe\\frame.py:1530\u001b[0m, in \u001b[0;36mLazyFrame.collect\u001b[1;34m(self, type_coercion, predicate_pushdown, projection_pushdown, simplify_expression, no_optimization, slice_pushdown, common_subplan_elimination, streaming)\u001b[0m\n\u001b[0;32m   1519\u001b[0m     common_subplan_elimination \u001b[39m=\u001b[39m \u001b[39mFalse\u001b[39;00m\n\u001b[0;32m   1521\u001b[0m ldf \u001b[39m=\u001b[39m \u001b[39mself\u001b[39m\u001b[39m.\u001b[39m_ldf\u001b[39m.\u001b[39moptimization_toggle(\n\u001b[0;32m   1522\u001b[0m     type_coercion,\n\u001b[0;32m   1523\u001b[0m     predicate_pushdown,\n\u001b[1;32m   (...)\u001b[0m\n\u001b[0;32m   1528\u001b[0m     streaming,\n\u001b[0;32m   1529\u001b[0m )\n\u001b[1;32m-> 1530\u001b[0m \u001b[39mreturn\u001b[39;00m wrap_df(ldf\u001b[39m.\u001b[39;49mcollect())\n",
      "\u001b[1;31mPanicException\u001b[0m: Unwrapped panic from Python code"
     ]
    }
   ],
   "source": [
    "final = final.with_columns(\n",
    "    pl.col(\"unixReviewTime\").apply(lambda x: converTime(x) ).alias(\"reviewtime\")\n",
    ").drop(\"unixReviewTime\")    "
   ]
  },
  {
   "cell_type": "code",
   "execution_count": null,
   "metadata": {},
   "outputs": [],
   "source": []
  }
 ],
 "metadata": {
  "kernelspec": {
   "display_name": "Factored_Datathon",
   "language": "python",
   "name": "python3"
  },
  "language_info": {
   "codemirror_mode": {
    "name": "ipython",
    "version": 3
   },
   "file_extension": ".py",
   "mimetype": "text/x-python",
   "name": "python",
   "nbconvert_exporter": "python",
   "pygments_lexer": "ipython3",
   "version": "3.10.12"
  },
  "orig_nbformat": 4
 },
 "nbformat": 4,
 "nbformat_minor": 2
}
