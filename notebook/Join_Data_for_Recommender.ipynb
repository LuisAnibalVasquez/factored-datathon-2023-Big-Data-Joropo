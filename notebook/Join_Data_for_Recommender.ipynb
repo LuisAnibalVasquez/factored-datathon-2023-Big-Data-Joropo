{
 "cells": [
  {
   "cell_type": "code",
   "execution_count": 28,
   "metadata": {},
   "outputs": [],
   "source": [
    "import os\n",
    "import re\n",
    "import time\n",
    "import string\n",
    "import polars as pl"
   ]
  },
  {
   "cell_type": "markdown",
   "metadata": {},
   "source": [
    "<div style=\"border-radius:10px; border:#DEB887 solid; padding: 15px; background-color: #FFFAF0; font-size:100%; text-align:left\">\n",
    "<h3 align=\"left\"><font color='#DEB887'>Info</font></h3>\n",
    "    \n",
    "This notebook allows you to concatenate and filter the data necessary to train the Machine Learning model for the Recommendation System"
   ]
  },
  {
   "cell_type": "markdown",
   "metadata": {},
   "source": [
    "# List all reviews parquet files related to reviews to be loaded"
   ]
  },
  {
   "cell_type": "code",
   "execution_count": 5,
   "metadata": {},
   "outputs": [
    {
     "name": "stdout",
     "output_type": "stream",
     "text": [
      "['processed_reviews_books_1.parquet', 'processed_reviews_books_10.parquet', 'processed_reviews_books_11.parquet', 'processed_reviews_books_12.parquet', 'processed_reviews_books_13.parquet', 'processed_reviews_books_3.parquet', 'processed_reviews_books_4.parquet', 'processed_reviews_books_5.parquet', 'processed_reviews_books_6.parquet', 'processed_reviews_books_7.parquet', 'processed_reviews_books_8.parquet', 'processed_reviews_books_9.parquet']\n"
     ]
    }
   ],
   "source": [
    "path = '../data/raw/reviews'\n",
    "with os.scandir(path) as reviewFiles:\n",
    "    reviewFiles = [file.name for file in reviewFiles if file.is_file()]\n",
    "print(reviewFiles)"
   ]
  },
  {
   "cell_type": "markdown",
   "metadata": {},
   "source": [
    "# Load and join all parquet files in the directory"
   ]
  },
  {
   "cell_type": "code",
   "execution_count": 6,
   "metadata": {},
   "outputs": [
    {
     "name": "stdout",
     "output_type": "stream",
     "text": [
      "reading ../data/raw/reviews/processed_reviews_books_1.parquet\n",
      "Adding...../data/raw/reviews/processed_reviews_books_1.parquet\n",
      "reading ../data/raw/reviews/processed_reviews_books_10.parquet\n",
      "Adding...../data/raw/reviews/processed_reviews_books_10.parquet\n",
      "reading ../data/raw/reviews/processed_reviews_books_11.parquet\n",
      "Adding...../data/raw/reviews/processed_reviews_books_11.parquet\n",
      "reading ../data/raw/reviews/processed_reviews_books_12.parquet\n",
      "Adding...../data/raw/reviews/processed_reviews_books_12.parquet\n",
      "reading ../data/raw/reviews/processed_reviews_books_13.parquet\n",
      "Adding...../data/raw/reviews/processed_reviews_books_13.parquet\n",
      "reading ../data/raw/reviews/processed_reviews_books_3.parquet\n",
      "Adding...../data/raw/reviews/processed_reviews_books_3.parquet\n",
      "reading ../data/raw/reviews/processed_reviews_books_4.parquet\n",
      "Adding...../data/raw/reviews/processed_reviews_books_4.parquet\n",
      "reading ../data/raw/reviews/processed_reviews_books_5.parquet\n",
      "Adding...../data/raw/reviews/processed_reviews_books_5.parquet\n",
      "reading ../data/raw/reviews/processed_reviews_books_6.parquet\n",
      "Adding...../data/raw/reviews/processed_reviews_books_6.parquet\n",
      "reading ../data/raw/reviews/processed_reviews_books_7.parquet\n",
      "Adding...../data/raw/reviews/processed_reviews_books_7.parquet\n",
      "reading ../data/raw/reviews/processed_reviews_books_8.parquet\n",
      "Adding...../data/raw/reviews/processed_reviews_books_8.parquet\n",
      "reading ../data/raw/reviews/processed_reviews_books_9.parquet\n",
      "Adding...../data/raw/reviews/processed_reviews_books_9.parquet\n"
     ]
    }
   ],
   "source": [
    "df = pl.DataFrame()\n",
    "for f in reviewFiles:\n",
    "    n = str.format(\"../data/raw/reviews/{}\", f)\n",
    "    print(\"reading \" + n)\n",
    "\n",
    "    df_aux = pl.read_parquet(n)\n",
    "\n",
    "    print(\"Adding...\" + n)\n",
    "    df = df.vstack(df_aux)\n",
    "    n = \"\"\n"
   ]
  },
  {
   "cell_type": "code",
   "execution_count": 7,
   "metadata": {},
   "outputs": [
    {
     "data": {
      "text/html": [
       "<div><style>\n",
       ".dataframe > thead > tr > th,\n",
       ".dataframe > tbody > tr > td {\n",
       "  text-align: right;\n",
       "}\n",
       "</style>\n",
       "<small>shape: (1, 7)</small><table border=\"1\" class=\"dataframe\"><thead><tr><th>asin</th><th>overall</th><th>reviewText</th><th>reviewerID</th><th>summary</th><th>verified</th><th>unixReviewTime</th></tr><tr><td>str</td><td>str</td><td>str</td><td>str</td><td>str</td><td>str</td><td>datetime[μs]</td></tr></thead><tbody><tr><td>&quot;0316055433&quot;</td><td>&quot;4.0&quot;</td><td>&quot;My response in…</td><td>&quot;A2VTZG179DNMJK…</td><td>&quot;Excellent piec…</td><td>&quot;true&quot;</td><td>2015-01-23 00:00:00</td></tr></tbody></table></div>"
      ],
      "text/plain": [
       "shape: (1, 7)\n",
       "┌────────────┬─────────┬────────────────┬───────────────┬───────────────┬──────────┬───────────────┐\n",
       "│ asin       ┆ overall ┆ reviewText     ┆ reviewerID    ┆ summary       ┆ verified ┆ unixReviewTim │\n",
       "│ ---        ┆ ---     ┆ ---            ┆ ---           ┆ ---           ┆ ---      ┆ e             │\n",
       "│ str        ┆ str     ┆ str            ┆ str           ┆ str           ┆ str      ┆ ---           │\n",
       "│            ┆         ┆                ┆               ┆               ┆          ┆ datetime[μs]  │\n",
       "╞════════════╪═════════╪════════════════╪═══════════════╪═══════════════╪══════════╪═══════════════╡\n",
       "│ 0316055433 ┆ 4.0     ┆ My response in ┆ A2VTZG179DNMJ ┆ Excellent     ┆ true     ┆ 2015-01-23    │\n",
       "│            ┆         ┆ a sort of      ┆ K             ┆ piece of      ┆          ┆ 00:00:00      │\n",
       "│            ┆         ┆ nutshel…       ┆               ┆ literature.   ┆          ┆               │\n",
       "│            ┆         ┆                ┆               ┆ B…            ┆          ┆               │\n",
       "└────────────┴─────────┴────────────────┴───────────────┴───────────────┴──────────┴───────────────┘"
      ]
     },
     "execution_count": 7,
     "metadata": {},
     "output_type": "execute_result"
    }
   ],
   "source": [
    "df.sample(1)"
   ]
  },
  {
   "cell_type": "code",
   "execution_count": 8,
   "metadata": {},
   "outputs": [
    {
     "data": {
      "text/plain": [
       "(2620482, 7)"
      ]
     },
     "execution_count": 8,
     "metadata": {},
     "output_type": "execute_result"
    }
   ],
   "source": [
    "df.shape"
   ]
  },
  {
   "cell_type": "code",
   "execution_count": 9,
   "metadata": {},
   "outputs": [
    {
     "data": {
      "text/html": [
       "<div><style>\n",
       ".dataframe > thead > tr > th,\n",
       ".dataframe > tbody > tr > td {\n",
       "  text-align: right;\n",
       "}\n",
       "</style>\n",
       "<small>shape: (1, 7)</small><table border=\"1\" class=\"dataframe\"><thead><tr><th>asin</th><th>overall</th><th>reviewText</th><th>reviewerID</th><th>summary</th><th>verified</th><th>unixReviewTime</th></tr><tr><td>u32</td><td>u32</td><td>u32</td><td>u32</td><td>u32</td><td>u32</td><td>u32</td></tr></thead><tbody><tr><td>0</td><td>0</td><td>1260</td><td>0</td><td>796</td><td>0</td><td>0</td></tr></tbody></table></div>"
      ],
      "text/plain": [
       "shape: (1, 7)\n",
       "┌──────┬─────────┬────────────┬────────────┬─────────┬──────────┬────────────────┐\n",
       "│ asin ┆ overall ┆ reviewText ┆ reviewerID ┆ summary ┆ verified ┆ unixReviewTime │\n",
       "│ ---  ┆ ---     ┆ ---        ┆ ---        ┆ ---     ┆ ---      ┆ ---            │\n",
       "│ u32  ┆ u32     ┆ u32        ┆ u32        ┆ u32     ┆ u32      ┆ u32            │\n",
       "╞══════╪═════════╪════════════╪════════════╪═════════╪══════════╪════════════════╡\n",
       "│ 0    ┆ 0       ┆ 1260       ┆ 0          ┆ 796     ┆ 0        ┆ 0              │\n",
       "└──────┴─────────┴────────────┴────────────┴─────────┴──────────┴────────────────┘"
      ]
     },
     "execution_count": 9,
     "metadata": {},
     "output_type": "execute_result"
    }
   ],
   "source": [
    "df.null_count()"
   ]
  },
  {
   "cell_type": "code",
   "execution_count": 10,
   "metadata": {},
   "outputs": [],
   "source": [
    "df = df.drop_nulls()"
   ]
  },
  {
   "cell_type": "code",
   "execution_count": 11,
   "metadata": {},
   "outputs": [
    {
     "data": {
      "text/plain": [
       "(2618468, 7)"
      ]
     },
     "execution_count": 11,
     "metadata": {},
     "output_type": "execute_result"
    }
   ],
   "source": [
    "df.shape"
   ]
  },
  {
   "cell_type": "markdown",
   "metadata": {},
   "source": [
    "Save it as temporal parquet file"
   ]
  },
  {
   "cell_type": "code",
   "execution_count": 12,
   "metadata": {},
   "outputs": [],
   "source": [
    "df.write_parquet(\"../data/processed/All_reviews.parquet\")"
   ]
  },
  {
   "cell_type": "code",
   "execution_count": 13,
   "metadata": {},
   "outputs": [],
   "source": [
    "reviews = pl.read_parquet(\"../data/processed/All_reviews.parquet\")"
   ]
  },
  {
   "cell_type": "markdown",
   "metadata": {},
   "source": [
    "Load the metadata related to books category"
   ]
  },
  {
   "cell_type": "code",
   "execution_count": 14,
   "metadata": {},
   "outputs": [],
   "source": [
    "metadata = pl.read_parquet(\"../data/raw/all_metadata_books_in_top25k.parquet\")"
   ]
  },
  {
   "cell_type": "code",
   "execution_count": 15,
   "metadata": {},
   "outputs": [
    {
     "data": {
      "text/plain": [
       "(2618468, 7)"
      ]
     },
     "execution_count": 15,
     "metadata": {},
     "output_type": "execute_result"
    }
   ],
   "source": [
    "reviews.shape"
   ]
  },
  {
   "cell_type": "code",
   "execution_count": 16,
   "metadata": {},
   "outputs": [
    {
     "data": {
      "text/plain": [
       "(12049, 9)"
      ]
     },
     "execution_count": 16,
     "metadata": {},
     "output_type": "execute_result"
    }
   ],
   "source": [
    "metadata.shape"
   ]
  },
  {
   "cell_type": "code",
   "execution_count": 17,
   "metadata": {},
   "outputs": [
    {
     "data": {
      "text/html": [
       "<div><style>\n",
       ".dataframe > thead > tr > th,\n",
       ".dataframe > tbody > tr > td {\n",
       "  text-align: right;\n",
       "}\n",
       "</style>\n",
       "<small>shape: (1, 7)</small><table border=\"1\" class=\"dataframe\"><thead><tr><th>asin</th><th>overall</th><th>reviewText</th><th>reviewerID</th><th>summary</th><th>verified</th><th>unixReviewTime</th></tr><tr><td>str</td><td>str</td><td>str</td><td>str</td><td>str</td><td>str</td><td>datetime[μs]</td></tr></thead><tbody><tr><td>&quot;0439023521&quot;</td><td>&quot;5.0&quot;</td><td>&quot;It was amazing…</td><td>&quot;AQQHPKCCRC3A8&quot;</td><td>&quot;Final book&quot;</td><td>&quot;true&quot;</td><td>2014-03-19 00:00:00</td></tr></tbody></table></div>"
      ],
      "text/plain": [
       "shape: (1, 7)\n",
       "┌────────────┬─────────┬─────────────────┬───────────────┬────────────┬──────────┬─────────────────┐\n",
       "│ asin       ┆ overall ┆ reviewText      ┆ reviewerID    ┆ summary    ┆ verified ┆ unixReviewTime  │\n",
       "│ ---        ┆ ---     ┆ ---             ┆ ---           ┆ ---        ┆ ---      ┆ ---             │\n",
       "│ str        ┆ str     ┆ str             ┆ str           ┆ str        ┆ str      ┆ datetime[μs]    │\n",
       "╞════════════╪═════════╪═════════════════╪═══════════════╪════════════╪══════════╪═════════════════╡\n",
       "│ 0439023521 ┆ 5.0     ┆ It was amazing! ┆ AQQHPKCCRC3A8 ┆ Final book ┆ true     ┆ 2014-03-19      │\n",
       "│            ┆         ┆ I read the      ┆               ┆            ┆          ┆ 00:00:00        │\n",
       "│            ┆         ┆ whol…           ┆               ┆            ┆          ┆                 │\n",
       "└────────────┴─────────┴─────────────────┴───────────────┴────────────┴──────────┴─────────────────┘"
      ]
     },
     "execution_count": 17,
     "metadata": {},
     "output_type": "execute_result"
    }
   ],
   "source": [
    "reviews.sample(1)"
   ]
  },
  {
   "cell_type": "code",
   "execution_count": 18,
   "metadata": {},
   "outputs": [
    {
     "data": {
      "text/html": [
       "<div><style>\n",
       ".dataframe > thead > tr > th,\n",
       ".dataframe > tbody > tr > td {\n",
       "  text-align: right;\n",
       "}\n",
       "</style>\n",
       "<small>shape: (1, 9)</small><table border=\"1\" class=\"dataframe\"><thead><tr><th>asin</th><th>brand</th><th>price</th><th>title</th><th>cant_image</th><th>cant_category</th><th>rank_in_category</th><th>also_buy_count</th><th>also_view_count</th></tr><tr><td>str</td><td>str</td><td>f64</td><td>str</td><td>u32</td><td>u32</td><td>i64</td><td>u32</td><td>u32</td></tr></thead><tbody><tr><td>&quot;0316098809&quot;</td><td>&quot;Visit Amazon&#x27;s…</td><td>10.87</td><td>&quot;The Rook&quot;</td><td>0</td><td>3</td><td>23644</td><td>99</td><td>60</td></tr></tbody></table></div>"
      ],
      "text/plain": [
       "shape: (1, 9)\n",
       "┌────────────┬────────────┬───────┬──────────┬───┬────────────┬────────────┬───────────┬───────────┐\n",
       "│ asin       ┆ brand      ┆ price ┆ title    ┆ … ┆ cant_categ ┆ rank_in_ca ┆ also_buy_ ┆ also_view │\n",
       "│ ---        ┆ ---        ┆ ---   ┆ ---      ┆   ┆ ory        ┆ tegory     ┆ count     ┆ _count    │\n",
       "│ str        ┆ str        ┆ f64   ┆ str      ┆   ┆ ---        ┆ ---        ┆ ---       ┆ ---       │\n",
       "│            ┆            ┆       ┆          ┆   ┆ u32        ┆ i64        ┆ u32       ┆ u32       │\n",
       "╞════════════╪════════════╪═══════╪══════════╪═══╪════════════╪════════════╪═══════════╪═══════════╡\n",
       "│ 0316098809 ┆ Visit      ┆ 10.87 ┆ The Rook ┆ … ┆ 3          ┆ 23644      ┆ 99        ┆ 60        │\n",
       "│            ┆ Amazon's   ┆       ┆          ┆   ┆            ┆            ┆           ┆           │\n",
       "│            ┆ Daniel     ┆       ┆          ┆   ┆            ┆            ┆           ┆           │\n",
       "│            ┆ O'Malley   ┆       ┆          ┆   ┆            ┆            ┆           ┆           │\n",
       "│            ┆ P…         ┆       ┆          ┆   ┆            ┆            ┆           ┆           │\n",
       "└────────────┴────────────┴───────┴──────────┴───┴────────────┴────────────┴───────────┴───────────┘"
      ]
     },
     "execution_count": 18,
     "metadata": {},
     "output_type": "execute_result"
    }
   ],
   "source": [
    "metadata.sample(1)"
   ]
  },
  {
   "cell_type": "markdown",
   "metadata": {},
   "source": [
    "Join 2 dataframes by the ASIN number"
   ]
  },
  {
   "cell_type": "code",
   "execution_count": 19,
   "metadata": {},
   "outputs": [],
   "source": [
    "join_keys = [\"asin\"]\n",
    "df_joined = metadata.join(reviews, join_keys)"
   ]
  },
  {
   "cell_type": "code",
   "execution_count": 20,
   "metadata": {},
   "outputs": [
    {
     "data": {
      "text/plain": [
       "(2618468, 15)"
      ]
     },
     "execution_count": 20,
     "metadata": {},
     "output_type": "execute_result"
    }
   ],
   "source": [
    "df_joined.shape"
   ]
  },
  {
   "cell_type": "code",
   "execution_count": 21,
   "metadata": {},
   "outputs": [
    {
     "data": {
      "text/html": [
       "<div><style>\n",
       ".dataframe > thead > tr > th,\n",
       ".dataframe > tbody > tr > td {\n",
       "  text-align: right;\n",
       "}\n",
       "</style>\n",
       "<small>shape: (1, 15)</small><table border=\"1\" class=\"dataframe\"><thead><tr><th>asin</th><th>brand</th><th>price</th><th>title</th><th>cant_image</th><th>cant_category</th><th>rank_in_category</th><th>also_buy_count</th><th>also_view_count</th><th>overall</th><th>reviewText</th><th>reviewerID</th><th>summary</th><th>verified</th><th>unixReviewTime</th></tr><tr><td>str</td><td>str</td><td>f64</td><td>str</td><td>u32</td><td>u32</td><td>i64</td><td>u32</td><td>u32</td><td>str</td><td>str</td><td>str</td><td>str</td><td>str</td><td>datetime[μs]</td></tr></thead><tbody><tr><td>&quot;0439023521&quot;</td><td>&quot;Visit Amazon&#x27;s…</td><td>5.0</td><td>&quot;The Hunger Gam…</td><td>0</td><td>3</td><td>2069</td><td>67</td><td>54</td><td>&quot;5.0&quot;</td><td>&quot;I loved&quot;</td><td>&quot;A300UNWZW4VWNK…</td><td>&quot;Five Stars&quot;</td><td>&quot;true&quot;</td><td>2016-05-05 00:00:00</td></tr></tbody></table></div>"
      ],
      "text/plain": [
       "shape: (1, 15)\n",
       "┌────────────┬────────────┬───────┬────────────┬───┬────────────┬───────────┬──────────┬───────────┐\n",
       "│ asin       ┆ brand      ┆ price ┆ title      ┆ … ┆ reviewerID ┆ summary   ┆ verified ┆ unixRevie │\n",
       "│ ---        ┆ ---        ┆ ---   ┆ ---        ┆   ┆ ---        ┆ ---       ┆ ---      ┆ wTime     │\n",
       "│ str        ┆ str        ┆ f64   ┆ str        ┆   ┆ str        ┆ str       ┆ str      ┆ ---       │\n",
       "│            ┆            ┆       ┆            ┆   ┆            ┆           ┆          ┆ datetime[ │\n",
       "│            ┆            ┆       ┆            ┆   ┆            ┆           ┆          ┆ μs]       │\n",
       "╞════════════╪════════════╪═══════╪════════════╪═══╪════════════╪═══════════╪══════════╪═══════════╡\n",
       "│ 0439023521 ┆ Visit      ┆ 5.0   ┆ The Hunger ┆ … ┆ A300UNWZW4 ┆ Five      ┆ true     ┆ 2016-05-0 │\n",
       "│            ┆ Amazon's   ┆       ┆ Games      ┆   ┆ VWNK       ┆ Stars     ┆          ┆ 5         │\n",
       "│            ┆ Suzanne    ┆       ┆ (Book 1)   ┆   ┆            ┆           ┆          ┆ 00:00:00  │\n",
       "│            ┆ Collins P… ┆       ┆            ┆   ┆            ┆           ┆          ┆           │\n",
       "└────────────┴────────────┴───────┴────────────┴───┴────────────┴───────────┴──────────┴───────────┘"
      ]
     },
     "execution_count": 21,
     "metadata": {},
     "output_type": "execute_result"
    }
   ],
   "source": [
    "df_joined.sample(1)"
   ]
  },
  {
   "cell_type": "code",
   "execution_count": 22,
   "metadata": {},
   "outputs": [],
   "source": [
    "final = df_joined.select(\"title\", \"reviewerID\", \"unixReviewTime\")\n"
   ]
  },
  {
   "cell_type": "code",
   "execution_count": 23,
   "metadata": {},
   "outputs": [
    {
     "data": {
      "text/html": [
       "<div><style>\n",
       ".dataframe > thead > tr > th,\n",
       ".dataframe > tbody > tr > td {\n",
       "  text-align: right;\n",
       "}\n",
       "</style>\n",
       "<small>shape: (1, 3)</small><table border=\"1\" class=\"dataframe\"><thead><tr><th>title</th><th>reviewerID</th><th>unixReviewTime</th></tr><tr><td>str</td><td>str</td><td>datetime[μs]</td></tr></thead><tbody><tr><td>&quot;In Defense of …</td><td>&quot;A1G95M7TH5FXE9…</td><td>2014-11-09 00:00:00</td></tr></tbody></table></div>"
      ],
      "text/plain": [
       "shape: (1, 3)\n",
       "┌───────────────────────────────────┬────────────────┬─────────────────────┐\n",
       "│ title                             ┆ reviewerID     ┆ unixReviewTime      │\n",
       "│ ---                               ┆ ---            ┆ ---                 │\n",
       "│ str                               ┆ str            ┆ datetime[μs]        │\n",
       "╞═══════════════════════════════════╪════════════════╪═════════════════════╡\n",
       "│ In Defense of Food: An Eater's M… ┆ A1G95M7TH5FXE9 ┆ 2014-11-09 00:00:00 │\n",
       "└───────────────────────────────────┴────────────────┴─────────────────────┘"
      ]
     },
     "execution_count": 23,
     "metadata": {},
     "output_type": "execute_result"
    }
   ],
   "source": [
    "final.sample(1)"
   ]
  },
  {
   "cell_type": "code",
   "execution_count": 24,
   "metadata": {},
   "outputs": [
    {
     "data": {
      "text/plain": [
       "(2618468, 3)"
      ]
     },
     "execution_count": 24,
     "metadata": {},
     "output_type": "execute_result"
    }
   ],
   "source": [
    "final.shape\n",
    "#2916355"
   ]
  },
  {
   "cell_type": "code",
   "execution_count": 25,
   "metadata": {},
   "outputs": [],
   "source": [
    "final = final.unique()"
   ]
  },
  {
   "cell_type": "code",
   "execution_count": 26,
   "metadata": {},
   "outputs": [
    {
     "data": {
      "text/plain": [
       "(2612701, 3)"
      ]
     },
     "execution_count": 26,
     "metadata": {},
     "output_type": "execute_result"
    }
   ],
   "source": [
    "final.shape"
   ]
  },
  {
   "cell_type": "markdown",
   "metadata": {},
   "source": [
    "Save the file to be used"
   ]
  },
  {
   "cell_type": "code",
   "execution_count": 27,
   "metadata": {},
   "outputs": [],
   "source": [
    "final.write_parquet(\"../data/processed/Final_data_for_ML.parquet\")"
   ]
  },
  {
   "cell_type": "code",
   "execution_count": 32,
   "metadata": {},
   "outputs": [
    {
     "ename": "AttributeError",
     "evalue": "'Expr' object has no attribute 'appy'",
     "output_type": "error",
     "traceback": [
      "\u001b[1;31m---------------------------------------------------------------------------\u001b[0m",
      "\u001b[1;31mAttributeError\u001b[0m                            Traceback (most recent call last)",
      "Cell \u001b[1;32mIn[32], line 2\u001b[0m\n\u001b[0;32m      1\u001b[0m final \u001b[39m=\u001b[39m final\u001b[39m.\u001b[39mwith_columns(\n\u001b[1;32m----> 2\u001b[0m     pl\u001b[39m.\u001b[39;49mcol(\u001b[39m\"\u001b[39;49m\u001b[39munixReviewTime\u001b[39;49m\u001b[39m\"\u001b[39;49m)\u001b[39m.\u001b[39;49mappy(\u001b[39mlambda\u001b[39;00m  x: time\u001b[39m.\u001b[39mmktime(x\u001b[39m.\u001b[39mtimetuple()))\u001b[39m.\u001b[39malias(\u001b[39m\"\u001b[39m\u001b[39mrevietime\u001b[39m\u001b[39m\"\u001b[39m)\n\u001b[0;32m      3\u001b[0m )\n",
      "\u001b[1;31mAttributeError\u001b[0m: 'Expr' object has no attribute 'appy'"
     ]
    }
   ],
   "source": [
    "# final = final.with_columns(\n",
    "#     pl.col(\"unixReviewTime\").appy(lambda  x: time.mktime(x.timetuple()) ).alias(\"revietime\")\n",
    "# )"
   ]
  },
  {
   "cell_type": "code",
   "execution_count": null,
   "metadata": {},
   "outputs": [],
   "source": []
  }
 ],
 "metadata": {
  "kernelspec": {
   "display_name": "Factored_Datathon",
   "language": "python",
   "name": "python3"
  },
  "language_info": {
   "codemirror_mode": {
    "name": "ipython",
    "version": 3
   },
   "file_extension": ".py",
   "mimetype": "text/x-python",
   "name": "python",
   "nbconvert_exporter": "python",
   "pygments_lexer": "ipython3",
   "version": "3.10.12"
  },
  "orig_nbformat": 4
 },
 "nbformat": 4,
 "nbformat_minor": 2
}
