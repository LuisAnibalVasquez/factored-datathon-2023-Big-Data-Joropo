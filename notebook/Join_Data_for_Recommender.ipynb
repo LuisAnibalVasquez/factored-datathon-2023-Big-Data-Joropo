{
 "cells": [
  {
   "cell_type": "code",
   "execution_count": 104,
   "metadata": {},
   "outputs": [],
   "source": [
    "import os\n",
    "import re\n",
    "import string\n",
    "import polars as pl"
   ]
  },
  {
   "cell_type": "markdown",
   "metadata": {},
   "source": [
    "<div style=\"border-radius:10px; border:#DEB887 solid; padding: 15px; background-color: #FFFAF0; font-size:100%; text-align:left\">\n",
    "<h3 align=\"left\"><font color='#DEB887'>Info</font></h3>\n",
    "    \n",
    "This notebook allows you to concatenate and filter the data necessary to train the Machine Learning model for the Recommendation System"
   ]
  },
  {
   "cell_type": "markdown",
   "metadata": {},
   "source": [
    "# List all reviews parquet files related to reviews to be loaded"
   ]
  },
  {
   "cell_type": "code",
   "execution_count": 105,
   "metadata": {},
   "outputs": [
    {
     "name": "stdout",
     "output_type": "stream",
     "text": [
      "['processed_reviews_books_1.parquet', 'processed_reviews_books_10.parquet', 'processed_reviews_books_11.parquet', 'processed_reviews_books_12.parquet', 'processed_reviews_books_13.parquet', 'processed_reviews_books_2.parquet', 'processed_reviews_books_3.parquet', 'processed_reviews_books_4.parquet', 'processed_reviews_books_5.parquet', 'processed_reviews_books_6.parquet', 'processed_reviews_books_7.parquet', 'processed_reviews_books_8.parquet', 'processed_reviews_books_9.parquet']\n"
     ]
    }
   ],
   "source": [
    "path = '../data/raw/reviews'\n",
    "with os.scandir(path) as reviewFiles:\n",
    "    reviewFiles = [file.name for file in reviewFiles if file.is_file()]\n",
    "print(reviewFiles)"
   ]
  },
  {
   "cell_type": "markdown",
   "metadata": {},
   "source": [
    "# Load and join all parquet files in the directory"
   ]
  },
  {
   "cell_type": "code",
   "execution_count": 106,
   "metadata": {},
   "outputs": [
    {
     "name": "stdout",
     "output_type": "stream",
     "text": [
      "reading ../data/raw/reviews/processed_reviews_books_1.parquet\n",
      "Adding...../data/raw/reviews/processed_reviews_books_1.parquet\n",
      "reading ../data/raw/reviews/processed_reviews_books_10.parquet\n",
      "Adding...../data/raw/reviews/processed_reviews_books_10.parquet\n",
      "reading ../data/raw/reviews/processed_reviews_books_11.parquet\n",
      "Adding...../data/raw/reviews/processed_reviews_books_11.parquet\n",
      "reading ../data/raw/reviews/processed_reviews_books_12.parquet\n",
      "Adding...../data/raw/reviews/processed_reviews_books_12.parquet\n",
      "reading ../data/raw/reviews/processed_reviews_books_13.parquet\n",
      "Adding...../data/raw/reviews/processed_reviews_books_13.parquet\n",
      "reading ../data/raw/reviews/processed_reviews_books_2.parquet\n",
      "Adding...../data/raw/reviews/processed_reviews_books_2.parquet\n",
      "reading ../data/raw/reviews/processed_reviews_books_3.parquet\n",
      "Adding...../data/raw/reviews/processed_reviews_books_3.parquet\n",
      "reading ../data/raw/reviews/processed_reviews_books_4.parquet\n",
      "Adding...../data/raw/reviews/processed_reviews_books_4.parquet\n",
      "reading ../data/raw/reviews/processed_reviews_books_5.parquet\n",
      "Adding...../data/raw/reviews/processed_reviews_books_5.parquet\n",
      "reading ../data/raw/reviews/processed_reviews_books_6.parquet\n",
      "Adding...../data/raw/reviews/processed_reviews_books_6.parquet\n",
      "reading ../data/raw/reviews/processed_reviews_books_7.parquet\n",
      "Adding...../data/raw/reviews/processed_reviews_books_7.parquet\n",
      "reading ../data/raw/reviews/processed_reviews_books_8.parquet\n",
      "Adding...../data/raw/reviews/processed_reviews_books_8.parquet\n",
      "reading ../data/raw/reviews/processed_reviews_books_9.parquet\n",
      "Adding...../data/raw/reviews/processed_reviews_books_9.parquet\n"
     ]
    }
   ],
   "source": [
    "df = pl.DataFrame()\n",
    "for f in reviewFiles:\n",
    "    n = str.format(\"../data/raw/reviews/{}\", f)\n",
    "    print(\"reading \" + n)\n",
    "\n",
    "    df_aux = pl.read_parquet(n)\n",
    "\n",
    "    print(\"Adding...\" + n)\n",
    "    df = df.vstack(df_aux)\n",
    "    n = \"\"\n"
   ]
  },
  {
   "cell_type": "code",
   "execution_count": 107,
   "metadata": {},
   "outputs": [
    {
     "data": {
      "text/html": [
       "<div><style>\n",
       ".dataframe > thead > tr > th,\n",
       ".dataframe > tbody > tr > td {\n",
       "  text-align: right;\n",
       "}\n",
       "</style>\n",
       "<small>shape: (1, 6)</small><table border=\"1\" class=\"dataframe\"><thead><tr><th>asin</th><th>overall</th><th>reviewText</th><th>reviewerID</th><th>summary</th><th>verified</th></tr><tr><td>str</td><td>str</td><td>str</td><td>str</td><td>str</td><td>str</td></tr></thead><tbody><tr><td>&quot;0316512583&quot;</td><td>&quot;5.0&quot;</td><td>&quot;I just got thi…</td><td>&quot;A1JKKOGNN489FS…</td><td>&quot;I love this bo…</td><td>&quot;true&quot;</td></tr></tbody></table></div>"
      ],
      "text/plain": [
       "shape: (1, 6)\n",
       "┌────────────┬─────────┬───────────────────────┬────────────────┬───────────────────────┬──────────┐\n",
       "│ asin       ┆ overall ┆ reviewText            ┆ reviewerID     ┆ summary               ┆ verified │\n",
       "│ ---        ┆ ---     ┆ ---                   ┆ ---            ┆ ---                   ┆ ---      │\n",
       "│ str        ┆ str     ┆ str                   ┆ str            ┆ str                   ┆ str      │\n",
       "╞════════════╪═════════╪═══════════════════════╪════════════════╪═══════════════════════╪══════════╡\n",
       "│ 0316512583 ┆ 5.0     ┆ I just got this big,  ┆ A1JKKOGNN489FS ┆ I love this book (and ┆ true     │\n",
       "│            ┆         ┆ fat, glorio…          ┆                ┆ this dude)            ┆          │\n",
       "└────────────┴─────────┴───────────────────────┴────────────────┴───────────────────────┴──────────┘"
      ]
     },
     "execution_count": 107,
     "metadata": {},
     "output_type": "execute_result"
    }
   ],
   "source": [
    "df.sample(1)"
   ]
  },
  {
   "cell_type": "code",
   "execution_count": 108,
   "metadata": {},
   "outputs": [
    {
     "data": {
      "text/plain": [
       "(2918585, 6)"
      ]
     },
     "execution_count": 108,
     "metadata": {},
     "output_type": "execute_result"
    }
   ],
   "source": [
    "df.shape"
   ]
  },
  {
   "cell_type": "code",
   "execution_count": 109,
   "metadata": {},
   "outputs": [
    {
     "data": {
      "text/html": [
       "<div><style>\n",
       ".dataframe > thead > tr > th,\n",
       ".dataframe > tbody > tr > td {\n",
       "  text-align: right;\n",
       "}\n",
       "</style>\n",
       "<small>shape: (1, 6)</small><table border=\"1\" class=\"dataframe\"><thead><tr><th>asin</th><th>overall</th><th>reviewText</th><th>reviewerID</th><th>summary</th><th>verified</th></tr><tr><td>u32</td><td>u32</td><td>u32</td><td>u32</td><td>u32</td><td>u32</td></tr></thead><tbody><tr><td>0</td><td>0</td><td>1403</td><td>0</td><td>871</td><td>0</td></tr></tbody></table></div>"
      ],
      "text/plain": [
       "shape: (1, 6)\n",
       "┌──────┬─────────┬────────────┬────────────┬─────────┬──────────┐\n",
       "│ asin ┆ overall ┆ reviewText ┆ reviewerID ┆ summary ┆ verified │\n",
       "│ ---  ┆ ---     ┆ ---        ┆ ---        ┆ ---     ┆ ---      │\n",
       "│ u32  ┆ u32     ┆ u32        ┆ u32        ┆ u32     ┆ u32      │\n",
       "╞══════╪═════════╪════════════╪════════════╪═════════╪══════════╡\n",
       "│ 0    ┆ 0       ┆ 1403       ┆ 0          ┆ 871     ┆ 0        │\n",
       "└──────┴─────────┴────────────┴────────────┴─────────┴──────────┘"
      ]
     },
     "execution_count": 109,
     "metadata": {},
     "output_type": "execute_result"
    }
   ],
   "source": [
    "df.null_count()"
   ]
  },
  {
   "cell_type": "code",
   "execution_count": 110,
   "metadata": {},
   "outputs": [],
   "source": [
    "df = df.drop_nulls()"
   ]
  },
  {
   "cell_type": "code",
   "execution_count": 111,
   "metadata": {},
   "outputs": [
    {
     "data": {
      "text/plain": [
       "(2916355, 6)"
      ]
     },
     "execution_count": 111,
     "metadata": {},
     "output_type": "execute_result"
    }
   ],
   "source": [
    "df.shape"
   ]
  },
  {
   "cell_type": "markdown",
   "metadata": {},
   "source": [
    "Save it as temporal parquet file"
   ]
  },
  {
   "cell_type": "code",
   "execution_count": 112,
   "metadata": {},
   "outputs": [],
   "source": [
    "df.write_parquet(\"../data/processed/All_reviews.parquet\")"
   ]
  },
  {
   "cell_type": "code",
   "execution_count": 113,
   "metadata": {},
   "outputs": [],
   "source": [
    "reviews = pl.read_parquet(\"../data/processed/All_reviews.parquet\")"
   ]
  },
  {
   "cell_type": "markdown",
   "metadata": {},
   "source": [
    "Load the metadata related to books category"
   ]
  },
  {
   "cell_type": "code",
   "execution_count": 114,
   "metadata": {},
   "outputs": [],
   "source": [
    "metadata = pl.read_parquet(\"../data/raw/all_metadata_books_in_top25k.parquet\")"
   ]
  },
  {
   "cell_type": "code",
   "execution_count": 115,
   "metadata": {},
   "outputs": [
    {
     "data": {
      "text/plain": [
       "(2916355, 6)"
      ]
     },
     "execution_count": 115,
     "metadata": {},
     "output_type": "execute_result"
    }
   ],
   "source": [
    "reviews.shape"
   ]
  },
  {
   "cell_type": "code",
   "execution_count": 116,
   "metadata": {},
   "outputs": [
    {
     "data": {
      "text/plain": [
       "(12049, 9)"
      ]
     },
     "execution_count": 116,
     "metadata": {},
     "output_type": "execute_result"
    }
   ],
   "source": [
    "metadata.shape"
   ]
  },
  {
   "cell_type": "code",
   "execution_count": 117,
   "metadata": {},
   "outputs": [
    {
     "data": {
      "text/html": [
       "<div><style>\n",
       ".dataframe > thead > tr > th,\n",
       ".dataframe > tbody > tr > td {\n",
       "  text-align: right;\n",
       "}\n",
       "</style>\n",
       "<small>shape: (1, 6)</small><table border=\"1\" class=\"dataframe\"><thead><tr><th>asin</th><th>overall</th><th>reviewText</th><th>reviewerID</th><th>summary</th><th>verified</th></tr><tr><td>str</td><td>str</td><td>str</td><td>str</td><td>str</td><td>str</td></tr></thead><tbody><tr><td>&quot;0316389706&quot;</td><td>&quot;4.0&quot;</td><td>&quot;I was introduc…</td><td>&quot;A35X82YUOSSOCS…</td><td>&quot;Good book, but…</td><td>&quot;true&quot;</td></tr></tbody></table></div>"
      ],
      "text/plain": [
       "shape: (1, 6)\n",
       "┌────────────┬─────────┬─────────────────────────┬────────────────┬──────────────────┬──────────┐\n",
       "│ asin       ┆ overall ┆ reviewText              ┆ reviewerID     ┆ summary          ┆ verified │\n",
       "│ ---        ┆ ---     ┆ ---                     ┆ ---            ┆ ---              ┆ ---      │\n",
       "│ str        ┆ str     ┆ str                     ┆ str            ┆ str              ┆ str      │\n",
       "╞════════════╪═════════╪═════════════════════════╪════════════════╪══════════════════╪══════════╡\n",
       "│ 0316389706 ┆ 4.0     ┆ I was introduced to The ┆ A35X82YUOSSOCS ┆ Good book, but I ┆ true     │\n",
       "│            ┆         ┆ Witcher …               ┆                ┆ think the writi… ┆          │\n",
       "└────────────┴─────────┴─────────────────────────┴────────────────┴──────────────────┴──────────┘"
      ]
     },
     "execution_count": 117,
     "metadata": {},
     "output_type": "execute_result"
    }
   ],
   "source": [
    "reviews.sample(1)"
   ]
  },
  {
   "cell_type": "code",
   "execution_count": 118,
   "metadata": {},
   "outputs": [
    {
     "data": {
      "text/html": [
       "<div><style>\n",
       ".dataframe > thead > tr > th,\n",
       ".dataframe > tbody > tr > td {\n",
       "  text-align: right;\n",
       "}\n",
       "</style>\n",
       "<small>shape: (1, 9)</small><table border=\"1\" class=\"dataframe\"><thead><tr><th>asin</th><th>brand</th><th>price</th><th>title</th><th>cant_image</th><th>cant_category</th><th>rank_in_category</th><th>also_buy_count</th><th>also_view_count</th></tr><tr><td>str</td><td>str</td><td>f64</td><td>str</td><td>u32</td><td>u32</td><td>i64</td><td>u32</td><td>u32</td></tr></thead><tbody><tr><td>&quot;1456468693&quot;</td><td>&quot;Fred Mcallen&quot;</td><td>13.46</td><td>&quot;Charting and T…</td><td>0</td><td>3</td><td>8617</td><td>99</td><td>60</td></tr></tbody></table></div>"
      ],
      "text/plain": [
       "shape: (1, 9)\n",
       "┌────────────┬────────────┬───────┬────────────┬───┬───────────┬───────────┬───────────┬───────────┐\n",
       "│ asin       ┆ brand      ┆ price ┆ title      ┆ … ┆ cant_cate ┆ rank_in_c ┆ also_buy_ ┆ also_view │\n",
       "│ ---        ┆ ---        ┆ ---   ┆ ---        ┆   ┆ gory      ┆ ategory   ┆ count     ┆ _count    │\n",
       "│ str        ┆ str        ┆ f64   ┆ str        ┆   ┆ ---       ┆ ---       ┆ ---       ┆ ---       │\n",
       "│            ┆            ┆       ┆            ┆   ┆ u32       ┆ i64       ┆ u32       ┆ u32       │\n",
       "╞════════════╪════════════╪═══════╪════════════╪═══╪═══════════╪═══════════╪═══════════╪═══════════╡\n",
       "│ 1456468693 ┆ Fred       ┆ 13.46 ┆ Charting   ┆ … ┆ 3         ┆ 8617      ┆ 99        ┆ 60        │\n",
       "│            ┆ Mcallen    ┆       ┆ and        ┆   ┆           ┆           ┆           ┆           │\n",
       "│            ┆            ┆       ┆ Technical  ┆   ┆           ┆           ┆           ┆           │\n",
       "│            ┆            ┆       ┆ Analysis   ┆   ┆           ┆           ┆           ┆           │\n",
       "└────────────┴────────────┴───────┴────────────┴───┴───────────┴───────────┴───────────┴───────────┘"
      ]
     },
     "execution_count": 118,
     "metadata": {},
     "output_type": "execute_result"
    }
   ],
   "source": [
    "metadata.sample(1)"
   ]
  },
  {
   "cell_type": "markdown",
   "metadata": {},
   "source": [
    "Join 2 dataframes by the ASIN number"
   ]
  },
  {
   "cell_type": "code",
   "execution_count": 119,
   "metadata": {},
   "outputs": [],
   "source": [
    "join_keys = [\"asin\"]\n",
    "df_joined = metadata.join(reviews, join_keys)"
   ]
  },
  {
   "cell_type": "code",
   "execution_count": 120,
   "metadata": {},
   "outputs": [
    {
     "data": {
      "text/plain": [
       "(2916355, 14)"
      ]
     },
     "execution_count": 120,
     "metadata": {},
     "output_type": "execute_result"
    }
   ],
   "source": [
    "df_joined.shape"
   ]
  },
  {
   "cell_type": "code",
   "execution_count": 121,
   "metadata": {},
   "outputs": [
    {
     "data": {
      "text/html": [
       "<div><style>\n",
       ".dataframe > thead > tr > th,\n",
       ".dataframe > tbody > tr > td {\n",
       "  text-align: right;\n",
       "}\n",
       "</style>\n",
       "<small>shape: (1, 14)</small><table border=\"1\" class=\"dataframe\"><thead><tr><th>asin</th><th>brand</th><th>price</th><th>title</th><th>cant_image</th><th>cant_category</th><th>rank_in_category</th><th>also_buy_count</th><th>also_view_count</th><th>overall</th><th>reviewText</th><th>reviewerID</th><th>summary</th><th>verified</th></tr><tr><td>str</td><td>str</td><td>f64</td><td>str</td><td>u32</td><td>u32</td><td>i64</td><td>u32</td><td>u32</td><td>str</td><td>str</td><td>str</td><td>str</td><td>str</td></tr></thead><tbody><tr><td>&quot;1930084072&quot;</td><td>&quot;Visit Amazon&#x27;s…</td><td>2.89</td><td>&quot;Catholic Verse…</td><td>0</td><td>0</td><td>20453</td><td>100</td><td>58</td><td>&quot;5.0&quot;</td><td>&quot;Very helpful w…</td><td>&quot;AWGSJH8JYT8XP&quot;</td><td>&quot;Very helpful w…</td><td>&quot;true&quot;</td></tr></tbody></table></div>"
      ],
      "text/plain": [
       "shape: (1, 14)\n",
       "┌────────────┬────────────┬───────┬────────────┬───┬────────────┬───────────┬───────────┬──────────┐\n",
       "│ asin       ┆ brand      ┆ price ┆ title      ┆ … ┆ reviewText ┆ reviewerI ┆ summary   ┆ verified │\n",
       "│ ---        ┆ ---        ┆ ---   ┆ ---        ┆   ┆ ---        ┆ D         ┆ ---       ┆ ---      │\n",
       "│ str        ┆ str        ┆ f64   ┆ str        ┆   ┆ str        ┆ ---       ┆ str       ┆ str      │\n",
       "│            ┆            ┆       ┆            ┆   ┆            ┆ str       ┆           ┆          │\n",
       "╞════════════╪════════════╪═══════╪════════════╪═══╪════════════╪═══════════╪═══════════╪══════════╡\n",
       "│ 1930084072 ┆ Visit      ┆ 2.89  ┆ Catholic   ┆ … ┆ Very       ┆ AWGSJH8JY ┆ Very      ┆ true     │\n",
       "│            ┆ Amazon's   ┆       ┆ Verse      ┆   ┆ helpful    ┆ T8XP      ┆ helpful   ┆          │\n",
       "│            ┆ Jim        ┆       ┆ Finder (&q ┆   ┆ when       ┆           ┆ when      ┆          │\n",
       "│            ┆ Burnham    ┆       ┆ uot;Bib…   ┆   ┆ needing to ┆           ┆ needing   ┆          │\n",
       "│            ┆ Page       ┆       ┆            ┆   ┆ fin…       ┆           ┆ to fin…   ┆          │\n",
       "└────────────┴────────────┴───────┴────────────┴───┴────────────┴───────────┴───────────┴──────────┘"
      ]
     },
     "execution_count": 121,
     "metadata": {},
     "output_type": "execute_result"
    }
   ],
   "source": [
    "df_joined.sample(1)"
   ]
  },
  {
   "cell_type": "code",
   "execution_count": 133,
   "metadata": {},
   "outputs": [],
   "source": [
    "final = df_joined.select(\"title\", \"reviewerID\")\n"
   ]
  },
  {
   "cell_type": "code",
   "execution_count": 134,
   "metadata": {},
   "outputs": [
    {
     "data": {
      "text/html": [
       "<div><style>\n",
       ".dataframe > thead > tr > th,\n",
       ".dataframe > tbody > tr > td {\n",
       "  text-align: right;\n",
       "}\n",
       "</style>\n",
       "<small>shape: (1, 2)</small><table border=\"1\" class=\"dataframe\"><thead><tr><th>title</th><th>reviewerID</th></tr><tr><td>str</td><td>str</td></tr></thead><tbody><tr><td>&quot;The Letter&quot;</td><td>&quot;A2MTFEQ0M7E4XP…</td></tr></tbody></table></div>"
      ],
      "text/plain": [
       "shape: (1, 2)\n",
       "┌────────────┬────────────────┐\n",
       "│ title      ┆ reviewerID     │\n",
       "│ ---        ┆ ---            │\n",
       "│ str        ┆ str            │\n",
       "╞════════════╪════════════════╡\n",
       "│ The Letter ┆ A2MTFEQ0M7E4XP │\n",
       "└────────────┴────────────────┘"
      ]
     },
     "execution_count": 134,
     "metadata": {},
     "output_type": "execute_result"
    }
   ],
   "source": [
    "final.sample(1)"
   ]
  },
  {
   "cell_type": "code",
   "execution_count": 135,
   "metadata": {},
   "outputs": [
    {
     "data": {
      "text/plain": [
       "(2916355, 2)"
      ]
     },
     "execution_count": 135,
     "metadata": {},
     "output_type": "execute_result"
    }
   ],
   "source": [
    "final.shape\n",
    "#2916355"
   ]
  },
  {
   "cell_type": "code",
   "execution_count": 136,
   "metadata": {},
   "outputs": [],
   "source": [
    "final = final.unique()"
   ]
  },
  {
   "cell_type": "code",
   "execution_count": 137,
   "metadata": {},
   "outputs": [
    {
     "data": {
      "text/plain": [
       "(2905278, 2)"
      ]
     },
     "execution_count": 137,
     "metadata": {},
     "output_type": "execute_result"
    }
   ],
   "source": [
    "final.shape"
   ]
  },
  {
   "cell_type": "markdown",
   "metadata": {},
   "source": [
    "Save the file to be used"
   ]
  },
  {
   "cell_type": "code",
   "execution_count": 138,
   "metadata": {},
   "outputs": [],
   "source": [
    "final.write_parquet(\"../data/processed/Final_data_for_ML.parquet\")"
   ]
  }
 ],
 "metadata": {
  "kernelspec": {
   "display_name": "Factored_Datathon",
   "language": "python",
   "name": "python3"
  },
  "language_info": {
   "codemirror_mode": {
    "name": "ipython",
    "version": 3
   },
   "file_extension": ".py",
   "mimetype": "text/x-python",
   "name": "python",
   "nbconvert_exporter": "python",
   "pygments_lexer": "ipython3",
   "version": "3.10.12"
  },
  "orig_nbformat": 4
 },
 "nbformat": 4,
 "nbformat_minor": 2
}
