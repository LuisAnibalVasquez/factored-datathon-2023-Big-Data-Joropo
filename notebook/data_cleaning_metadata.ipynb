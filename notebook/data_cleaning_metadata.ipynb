{
 "cells": [
  {
   "cell_type": "code",
   "execution_count": 2,
   "metadata": {},
   "outputs": [],
   "source": [
    "import polars as pl"
   ]
  },
  {
   "cell_type": "code",
   "execution_count": null,
   "metadata": {},
   "outputs": [],
   "source": [
    "# Remove all \"details.X\" and \"tech1\", \"tech2\", \"fit\", \"similar_item\" columns.\n",
    "metadata2 = pl.read_parquet(source=\"metadata7.parquet\", \n",
    "                            columns=[\"asin\", \"also_buy\", \"also_view\", \"brand\",\"category\", \"date\", \"main_cat\", \"price\",\"rank\", \"title\", \"image\"])\n",
    "\n",
    "metadata2_processed = metadata2\n",
    "metadata2_processed.head(2)"
   ]
  },
  {
   "cell_type": "code",
   "execution_count": 172,
   "metadata": {},
   "outputs": [
    {
     "data": {
      "text/html": [
       "<div><style>\n",
       ".dataframe > thead > tr > th,\n",
       ".dataframe > tbody > tr > td {\n",
       "  text-align: right;\n",
       "}\n",
       "</style>\n",
       "<small>shape: (2, 11)</small><table border=\"1\" class=\"dataframe\"><thead><tr><th>asin</th><th>also_buy</th><th>also_view</th><th>brand</th><th>date</th><th>main_cat</th><th>price</th><th>rank</th><th>title</th><th>cant_image</th><th>cant_category</th></tr><tr><td>str</td><td>list[str]</td><td>list[str]</td><td>str</td><td>str</td><td>str</td><td>str</td><td>str</td><td>str</td><td>u32</td><td>u32</td></tr></thead><tbody><tr><td>&quot;B00Q9MZ1V6&quot;</td><td>[&quot;B01H0FSOPK&quot;, &quot;B00WJD7YIW&quot;, … &quot;B015OFLIEM&quot;]</td><td>[]</td><td>&quot;PEPPERLONELY&quot;</td><td>&quot;&quot;</td><td>&quot;Arts, Crafts &amp;…</td><td>&quot;$8.99&quot;</td><td>&quot;[&quot;&gt;#254,895 in…</td><td>&quot;PEPPERLONELY B…</td><td>2</td><td>5</td></tr><tr><td>&quot;B00Q9N0ENU&quot;</td><td>[]</td><td>[&quot;B0734WN4RW&quot;, &quot;B077S7SHMF&quot;, &quot;B015Y8E2LK&quot;]</td><td>&quot;PEPPERLONELY&quot;</td><td>&quot;&quot;</td><td>&quot;Arts, Crafts &amp;…</td><td>&quot;$10.99&quot;</td><td>&quot;[&quot;&gt;#608,880 in…</td><td>&quot;PEPPERLONELY B…</td><td>2</td><td>5</td></tr></tbody></table></div>"
      ],
      "text/plain": [
       "shape: (2, 11)\n",
       "┌───────────┬───────────┬───────────┬───────────┬───┬───────────┬───────────┬───────────┬──────────┐\n",
       "│ asin      ┆ also_buy  ┆ also_view ┆ brand     ┆ … ┆ rank      ┆ title     ┆ cant_imag ┆ cant_cat │\n",
       "│ ---       ┆ ---       ┆ ---       ┆ ---       ┆   ┆ ---       ┆ ---       ┆ e         ┆ egory    │\n",
       "│ str       ┆ list[str] ┆ list[str] ┆ str       ┆   ┆ str       ┆ str       ┆ ---       ┆ ---      │\n",
       "│           ┆           ┆           ┆           ┆   ┆           ┆           ┆ u32       ┆ u32      │\n",
       "╞═══════════╪═══════════╪═══════════╪═══════════╪═══╪═══════════╪═══════════╪═══════════╪══════════╡\n",
       "│ B00Q9MZ1V ┆ [\"B01H0FS ┆ []        ┆ PEPPERLON ┆ … ┆ [\">#254,8 ┆ PEPPERLON ┆ 2         ┆ 5        │\n",
       "│ 6         ┆ OPK\", \"B0 ┆           ┆ ELY       ┆   ┆ 95 in     ┆ ELY Brand ┆           ┆          │\n",
       "│           ┆ 0WJD7YIW\" ┆           ┆           ┆   ┆ Arts,     ┆ 10PC      ┆           ┆          │\n",
       "│           ┆ , … \"…    ┆           ┆           ┆   ┆ Crafts &  ┆ Antiqued… ┆           ┆          │\n",
       "│           ┆           ┆           ┆           ┆   ┆ Se…       ┆           ┆           ┆          │\n",
       "│ B00Q9N0EN ┆ []        ┆ [\"B0734WN ┆ PEPPERLON ┆ … ┆ [\">#608,8 ┆ PEPPERLON ┆ 2         ┆ 5        │\n",
       "│ U         ┆           ┆ 4RW\", \"B0 ┆ ELY       ┆   ┆ 80 in     ┆ ELY Brand ┆           ┆          │\n",
       "│           ┆           ┆ 77S7SHMF\" ┆           ┆   ┆ Arts,     ┆ 200 Sets  ┆           ┆          │\n",
       "│           ┆           ┆ , \"B0…    ┆           ┆   ┆ Crafts &  ┆ Whit…     ┆           ┆          │\n",
       "│           ┆           ┆           ┆           ┆   ┆ Se…       ┆           ┆           ┆          │\n",
       "└───────────┴───────────┴───────────┴───────────┴───┴───────────┴───────────┴───────────┴──────────┘"
      ]
     },
     "execution_count": 172,
     "metadata": {},
     "output_type": "execute_result"
    }
   ],
   "source": [
    "# Transform \"image\" and \"category\" for \"image_count\" and \"category_count\".\n",
    "metadata2_processed = metadata2_processed.with_columns((pl.col(\"image\").list.lengths()).alias(\"cant_image\")).drop(\"image\")\n",
    "metadata2_processed = metadata2_processed.with_columns((pl.col(\"category\").list.lengths()).alias(\"cant_category\")).drop(\"category\")\n",
    "metadata2_processed.head(2)"
   ]
  },
  {
   "cell_type": "code",
   "execution_count": 173,
   "metadata": {},
   "outputs": [
    {
     "data": {
      "text/html": [
       "<div><style>\n",
       ".dataframe > thead > tr > th,\n",
       ".dataframe > tbody > tr > td {\n",
       "  text-align: right;\n",
       "}\n",
       "</style>\n",
       "<small>shape: (2, 11)</small><table border=\"1\" class=\"dataframe\"><thead><tr><th>asin</th><th>also_buy</th><th>also_view</th><th>brand</th><th>date</th><th>price</th><th>rank</th><th>title</th><th>cant_image</th><th>cant_category</th><th>main_category</th></tr><tr><td>str</td><td>list[str]</td><td>list[str]</td><td>str</td><td>str</td><td>str</td><td>str</td><td>str</td><td>u32</td><td>u32</td><td>str</td></tr></thead><tbody><tr><td>&quot;B00Q9MZ1V6&quot;</td><td>[&quot;B01H0FSOPK&quot;, &quot;B00WJD7YIW&quot;, … &quot;B015OFLIEM&quot;]</td><td>[]</td><td>&quot;PEPPERLONELY&quot;</td><td>&quot;&quot;</td><td>&quot;$8.99&quot;</td><td>&quot;[&quot;&gt;#254,895 in…</td><td>&quot;PEPPERLONELY B…</td><td>2</td><td>5</td><td>&quot;Arts, Crafts &amp;…</td></tr><tr><td>&quot;B00Q9N0ENU&quot;</td><td>[]</td><td>[&quot;B0734WN4RW&quot;, &quot;B077S7SHMF&quot;, &quot;B015Y8E2LK&quot;]</td><td>&quot;PEPPERLONELY&quot;</td><td>&quot;&quot;</td><td>&quot;$10.99&quot;</td><td>&quot;[&quot;&gt;#608,880 in…</td><td>&quot;PEPPERLONELY B…</td><td>2</td><td>5</td><td>&quot;Arts, Crafts &amp;…</td></tr></tbody></table></div>"
      ],
      "text/plain": [
       "shape: (2, 11)\n",
       "┌───────────┬───────────┬───────────┬───────────┬───┬───────────┬───────────┬───────────┬──────────┐\n",
       "│ asin      ┆ also_buy  ┆ also_view ┆ brand     ┆ … ┆ title     ┆ cant_imag ┆ cant_cate ┆ main_cat │\n",
       "│ ---       ┆ ---       ┆ ---       ┆ ---       ┆   ┆ ---       ┆ e         ┆ gory      ┆ egory    │\n",
       "│ str       ┆ list[str] ┆ list[str] ┆ str       ┆   ┆ str       ┆ ---       ┆ ---       ┆ ---      │\n",
       "│           ┆           ┆           ┆           ┆   ┆           ┆ u32       ┆ u32       ┆ str      │\n",
       "╞═══════════╪═══════════╪═══════════╪═══════════╪═══╪═══════════╪═══════════╪═══════════╪══════════╡\n",
       "│ B00Q9MZ1V ┆ [\"B01H0FS ┆ []        ┆ PEPPERLON ┆ … ┆ PEPPERLON ┆ 2         ┆ 5         ┆ Arts,    │\n",
       "│ 6         ┆ OPK\", \"B0 ┆           ┆ ELY       ┆   ┆ ELY Brand ┆           ┆           ┆ Crafts & │\n",
       "│           ┆ 0WJD7YIW\" ┆           ┆           ┆   ┆ 10PC      ┆           ┆           ┆ Sewing   │\n",
       "│           ┆ , … \"…    ┆           ┆           ┆   ┆ Antiqued… ┆           ┆           ┆          │\n",
       "│ B00Q9N0EN ┆ []        ┆ [\"B0734WN ┆ PEPPERLON ┆ … ┆ PEPPERLON ┆ 2         ┆ 5         ┆ Arts,    │\n",
       "│ U         ┆           ┆ 4RW\", \"B0 ┆ ELY       ┆   ┆ ELY Brand ┆           ┆           ┆ Crafts & │\n",
       "│           ┆           ┆ 77S7SHMF\" ┆           ┆   ┆ 200 Sets  ┆           ┆           ┆ Sewing   │\n",
       "│           ┆           ┆ , \"B0…    ┆           ┆   ┆ Whit…     ┆           ┆           ┆          │\n",
       "└───────────┴───────────┴───────────┴───────────┴───┴───────────┴───────────┴───────────┴──────────┘"
      ]
     },
     "execution_count": 173,
     "metadata": {},
     "output_type": "execute_result"
    }
   ],
   "source": [
    "# Replace all useless \"main_cat\" rows with nulls. Rename the col \"main_category\".\n",
    "metadata2_processed = metadata2_processed.with_columns((pl.col(\"main_cat\").str.replace(r\"^<.*$\", \"\"))\n",
    "                                       .alias(\"main_category\")).drop(\"main_cat\")\n",
    "metadata2_processed.head(2)"
   ]
  },
  {
   "cell_type": "code",
   "execution_count": 174,
   "metadata": {},
   "outputs": [
    {
     "data": {
      "text/html": [
       "<div><style>\n",
       ".dataframe > thead > tr > th,\n",
       ".dataframe > tbody > tr > td {\n",
       "  text-align: right;\n",
       "}\n",
       "</style>\n",
       "<small>shape: (2, 11)</small><table border=\"1\" class=\"dataframe\"><thead><tr><th>asin</th><th>also_buy</th><th>also_view</th><th>brand</th><th>date</th><th>price</th><th>title</th><th>cant_image</th><th>cant_category</th><th>main_category</th><th>rank_in_category</th></tr><tr><td>str</td><td>list[str]</td><td>list[str]</td><td>str</td><td>str</td><td>str</td><td>str</td><td>u32</td><td>u32</td><td>str</td><td>str</td></tr></thead><tbody><tr><td>&quot;B00Q9MZ1V6&quot;</td><td>[&quot;B01H0FSOPK&quot;, &quot;B00WJD7YIW&quot;, … &quot;B015OFLIEM&quot;]</td><td>[]</td><td>&quot;PEPPERLONELY&quot;</td><td>&quot;&quot;</td><td>&quot;$8.99&quot;</td><td>&quot;PEPPERLONELY B…</td><td>2</td><td>5</td><td>&quot;Arts, Crafts &amp;…</td><td>&quot;254,895&quot;</td></tr><tr><td>&quot;B00Q9N0ENU&quot;</td><td>[]</td><td>[&quot;B0734WN4RW&quot;, &quot;B077S7SHMF&quot;, &quot;B015Y8E2LK&quot;]</td><td>&quot;PEPPERLONELY&quot;</td><td>&quot;&quot;</td><td>&quot;$10.99&quot;</td><td>&quot;PEPPERLONELY B…</td><td>2</td><td>5</td><td>&quot;Arts, Crafts &amp;…</td><td>&quot;608,880&quot;</td></tr></tbody></table></div>"
      ],
      "text/plain": [
       "shape: (2, 11)\n",
       "┌───────────┬───────────┬───────────┬───────────┬───┬───────────┬───────────┬───────────┬──────────┐\n",
       "│ asin      ┆ also_buy  ┆ also_view ┆ brand     ┆ … ┆ cant_imag ┆ cant_cate ┆ main_cate ┆ rank_in_ │\n",
       "│ ---       ┆ ---       ┆ ---       ┆ ---       ┆   ┆ e         ┆ gory      ┆ gory      ┆ category │\n",
       "│ str       ┆ list[str] ┆ list[str] ┆ str       ┆   ┆ ---       ┆ ---       ┆ ---       ┆ ---      │\n",
       "│           ┆           ┆           ┆           ┆   ┆ u32       ┆ u32       ┆ str       ┆ str      │\n",
       "╞═══════════╪═══════════╪═══════════╪═══════════╪═══╪═══════════╪═══════════╪═══════════╪══════════╡\n",
       "│ B00Q9MZ1V ┆ [\"B01H0FS ┆ []        ┆ PEPPERLON ┆ … ┆ 2         ┆ 5         ┆ Arts,     ┆ 254,895  │\n",
       "│ 6         ┆ OPK\", \"B0 ┆           ┆ ELY       ┆   ┆           ┆           ┆ Crafts &  ┆          │\n",
       "│           ┆ 0WJD7YIW\" ┆           ┆           ┆   ┆           ┆           ┆ Sewing    ┆          │\n",
       "│           ┆ , … \"…    ┆           ┆           ┆   ┆           ┆           ┆           ┆          │\n",
       "│ B00Q9N0EN ┆ []        ┆ [\"B0734WN ┆ PEPPERLON ┆ … ┆ 2         ┆ 5         ┆ Arts,     ┆ 608,880  │\n",
       "│ U         ┆           ┆ 4RW\", \"B0 ┆ ELY       ┆   ┆           ┆           ┆ Crafts &  ┆          │\n",
       "│           ┆           ┆ 77S7SHMF\" ┆           ┆   ┆           ┆           ┆ Sewing    ┆          │\n",
       "│           ┆           ┆ , \"B0…    ┆           ┆   ┆           ┆           ┆           ┆          │\n",
       "└───────────┴───────────┴───────────┴───────────┴───┴───────────┴───────────┴───────────┴──────────┘"
      ]
     },
     "execution_count": 174,
     "metadata": {},
     "output_type": "execute_result"
    }
   ],
   "source": [
    "# Obtain the \"rank_in_category\" as a single number and delete the \"rank\" column.\n",
    "metadata2_processed = metadata2_processed.with_columns((pl.col(\"rank\").str.extract(r\"[0-9,@._-]+\", 0))\n",
    "                                       .alias(\"rank_in_category\")).drop(\"rank\")\n",
    "metadata2_processed.head(2)\n"
   ]
  },
  {
   "cell_type": "code",
   "execution_count": 175,
   "metadata": {},
   "outputs": [
    {
     "data": {
      "text/html": [
       "<div><style>\n",
       ".dataframe > thead > tr > th,\n",
       ".dataframe > tbody > tr > td {\n",
       "  text-align: right;\n",
       "}\n",
       "</style>\n",
       "<small>shape: (2, 11)</small><table border=\"1\" class=\"dataframe\"><thead><tr><th>asin</th><th>also_buy</th><th>also_view</th><th>brand</th><th>date</th><th>price</th><th>title</th><th>cant_image</th><th>cant_category</th><th>main_category</th><th>rank_in_category</th></tr><tr><td>str</td><td>list[str]</td><td>list[str]</td><td>str</td><td>str</td><td>str</td><td>str</td><td>u32</td><td>u32</td><td>str</td><td>i64</td></tr></thead><tbody><tr><td>&quot;B00Q9MZ1V6&quot;</td><td>[&quot;B01H0FSOPK&quot;, &quot;B00WJD7YIW&quot;, … &quot;B015OFLIEM&quot;]</td><td>[]</td><td>&quot;PEPPERLONELY&quot;</td><td>&quot;&quot;</td><td>&quot;$8.99&quot;</td><td>&quot;PEPPERLONELY B…</td><td>2</td><td>5</td><td>&quot;Arts, Crafts &amp;…</td><td>254895</td></tr><tr><td>&quot;B00Q9N0ENU&quot;</td><td>[]</td><td>[&quot;B0734WN4RW&quot;, &quot;B077S7SHMF&quot;, &quot;B015Y8E2LK&quot;]</td><td>&quot;PEPPERLONELY&quot;</td><td>&quot;&quot;</td><td>&quot;$10.99&quot;</td><td>&quot;PEPPERLONELY B…</td><td>2</td><td>5</td><td>&quot;Arts, Crafts &amp;…</td><td>608880</td></tr></tbody></table></div>"
      ],
      "text/plain": [
       "shape: (2, 11)\n",
       "┌───────────┬───────────┬───────────┬───────────┬───┬───────────┬───────────┬───────────┬──────────┐\n",
       "│ asin      ┆ also_buy  ┆ also_view ┆ brand     ┆ … ┆ cant_imag ┆ cant_cate ┆ main_cate ┆ rank_in_ │\n",
       "│ ---       ┆ ---       ┆ ---       ┆ ---       ┆   ┆ e         ┆ gory      ┆ gory      ┆ category │\n",
       "│ str       ┆ list[str] ┆ list[str] ┆ str       ┆   ┆ ---       ┆ ---       ┆ ---       ┆ ---      │\n",
       "│           ┆           ┆           ┆           ┆   ┆ u32       ┆ u32       ┆ str       ┆ i64      │\n",
       "╞═══════════╪═══════════╪═══════════╪═══════════╪═══╪═══════════╪═══════════╪═══════════╪══════════╡\n",
       "│ B00Q9MZ1V ┆ [\"B01H0FS ┆ []        ┆ PEPPERLON ┆ … ┆ 2         ┆ 5         ┆ Arts,     ┆ 254895   │\n",
       "│ 6         ┆ OPK\", \"B0 ┆           ┆ ELY       ┆   ┆           ┆           ┆ Crafts &  ┆          │\n",
       "│           ┆ 0WJD7YIW\" ┆           ┆           ┆   ┆           ┆           ┆ Sewing    ┆          │\n",
       "│           ┆ , … \"…    ┆           ┆           ┆   ┆           ┆           ┆           ┆          │\n",
       "│ B00Q9N0EN ┆ []        ┆ [\"B0734WN ┆ PEPPERLON ┆ … ┆ 2         ┆ 5         ┆ Arts,     ┆ 608880   │\n",
       "│ U         ┆           ┆ 4RW\", \"B0 ┆ ELY       ┆   ┆           ┆           ┆ Crafts &  ┆          │\n",
       "│           ┆           ┆ 77S7SHMF\" ┆           ┆   ┆           ┆           ┆ Sewing    ┆          │\n",
       "│           ┆           ┆ , \"B0…    ┆           ┆   ┆           ┆           ┆           ┆          │\n",
       "└───────────┴───────────┴───────────┴───────────┴───┴───────────┴───────────┴───────────┴──────────┘"
      ]
     },
     "execution_count": 175,
     "metadata": {},
     "output_type": "execute_result"
    }
   ],
   "source": [
    "# Transform \"rank_in_category\" as an int\n",
    "metadata2_processed = metadata2_processed.with_columns(pl.col(\"rank_in_category\").str.replace(r\",\", \"\"))\n",
    "metadata2_processed = metadata2_processed.with_columns(pl.col(\"rank_in_category\").cast(dtype=pl.Int64(), strict=False))\n",
    "\n",
    "metadata2_processed.head(2)"
   ]
  },
  {
   "cell_type": "code",
   "execution_count": 176,
   "metadata": {},
   "outputs": [
    {
     "data": {
      "text/html": [
       "<div><style>\n",
       ".dataframe > thead > tr > th,\n",
       ".dataframe > tbody > tr > td {\n",
       "  text-align: right;\n",
       "}\n",
       "</style>\n",
       "<small>shape: (2, 11)</small><table border=\"1\" class=\"dataframe\"><thead><tr><th>asin</th><th>also_buy</th><th>also_view</th><th>brand</th><th>date</th><th>price</th><th>title</th><th>cant_image</th><th>cant_category</th><th>main_category</th><th>rank_in_category</th></tr><tr><td>str</td><td>list[str]</td><td>list[str]</td><td>str</td><td>datetime[μs]</td><td>str</td><td>str</td><td>u32</td><td>u32</td><td>str</td><td>i64</td></tr></thead><tbody><tr><td>&quot;B00Q9MZ1V6&quot;</td><td>[&quot;B01H0FSOPK&quot;, &quot;B00WJD7YIW&quot;, … &quot;B015OFLIEM&quot;]</td><td>[]</td><td>&quot;PEPPERLONELY&quot;</td><td>null</td><td>&quot;$8.99&quot;</td><td>&quot;PEPPERLONELY B…</td><td>2</td><td>5</td><td>&quot;Arts, Crafts &amp;…</td><td>254895</td></tr><tr><td>&quot;B00Q9N0ENU&quot;</td><td>[]</td><td>[&quot;B0734WN4RW&quot;, &quot;B077S7SHMF&quot;, &quot;B015Y8E2LK&quot;]</td><td>&quot;PEPPERLONELY&quot;</td><td>null</td><td>&quot;$10.99&quot;</td><td>&quot;PEPPERLONELY B…</td><td>2</td><td>5</td><td>&quot;Arts, Crafts &amp;…</td><td>608880</td></tr></tbody></table></div>"
      ],
      "text/plain": [
       "shape: (2, 11)\n",
       "┌───────────┬───────────┬───────────┬───────────┬───┬───────────┬───────────┬───────────┬──────────┐\n",
       "│ asin      ┆ also_buy  ┆ also_view ┆ brand     ┆ … ┆ cant_imag ┆ cant_cate ┆ main_cate ┆ rank_in_ │\n",
       "│ ---       ┆ ---       ┆ ---       ┆ ---       ┆   ┆ e         ┆ gory      ┆ gory      ┆ category │\n",
       "│ str       ┆ list[str] ┆ list[str] ┆ str       ┆   ┆ ---       ┆ ---       ┆ ---       ┆ ---      │\n",
       "│           ┆           ┆           ┆           ┆   ┆ u32       ┆ u32       ┆ str       ┆ i64      │\n",
       "╞═══════════╪═══════════╪═══════════╪═══════════╪═══╪═══════════╪═══════════╪═══════════╪══════════╡\n",
       "│ B00Q9MZ1V ┆ [\"B01H0FS ┆ []        ┆ PEPPERLON ┆ … ┆ 2         ┆ 5         ┆ Arts,     ┆ 254895   │\n",
       "│ 6         ┆ OPK\", \"B0 ┆           ┆ ELY       ┆   ┆           ┆           ┆ Crafts &  ┆          │\n",
       "│           ┆ 0WJD7YIW\" ┆           ┆           ┆   ┆           ┆           ┆ Sewing    ┆          │\n",
       "│           ┆ , … \"…    ┆           ┆           ┆   ┆           ┆           ┆           ┆          │\n",
       "│ B00Q9N0EN ┆ []        ┆ [\"B0734WN ┆ PEPPERLON ┆ … ┆ 2         ┆ 5         ┆ Arts,     ┆ 608880   │\n",
       "│ U         ┆           ┆ 4RW\", \"B0 ┆ ELY       ┆   ┆           ┆           ┆ Crafts &  ┆          │\n",
       "│           ┆           ┆ 77S7SHMF\" ┆           ┆   ┆           ┆           ┆ Sewing    ┆          │\n",
       "│           ┆           ┆ , \"B0…    ┆           ┆   ┆           ┆           ┆           ┆          │\n",
       "└───────────┴───────────┴───────────┴───────────┴───┴───────────┴───────────┴───────────┴──────────┘"
      ]
     },
     "execution_count": 176,
     "metadata": {},
     "output_type": "execute_result"
    }
   ],
   "source": [
    "# Transform date column\n",
    "metadata2_processed = metadata2_processed.with_columns(pl.col('date').str.strptime(pl.Date, format='%B %d, %Y', strict=False).cast(pl.Datetime))\n",
    "\n",
    "metadata2_processed.head(2)"
   ]
  },
  {
   "cell_type": "code",
   "execution_count": 179,
   "metadata": {},
   "outputs": [
    {
     "data": {
      "text/html": [
       "<div><style>\n",
       ".dataframe > thead > tr > th,\n",
       ".dataframe > tbody > tr > td {\n",
       "  text-align: right;\n",
       "}\n",
       "</style>\n",
       "<small>shape: (2, 11)</small><table border=\"1\" class=\"dataframe\"><thead><tr><th>asin</th><th>also_buy</th><th>also_view</th><th>brand</th><th>date</th><th>price</th><th>title</th><th>cant_image</th><th>cant_category</th><th>main_category</th><th>rank_in_category</th></tr><tr><td>str</td><td>list[str]</td><td>list[str]</td><td>str</td><td>datetime[μs]</td><td>str</td><td>str</td><td>u32</td><td>u32</td><td>str</td><td>i64</td></tr></thead><tbody><tr><td>&quot;B00Q9MZ1V6&quot;</td><td>[&quot;B01H0FSOPK&quot;, &quot;B00WJD7YIW&quot;, … &quot;B015OFLIEM&quot;]</td><td>[]</td><td>&quot;PEPPERLONELY&quot;</td><td>null</td><td>&quot;8.99&quot;</td><td>&quot;PEPPERLONELY B…</td><td>2</td><td>5</td><td>&quot;Arts, Crafts &amp;…</td><td>254895</td></tr><tr><td>&quot;B00Q9N0ENU&quot;</td><td>[]</td><td>[&quot;B0734WN4RW&quot;, &quot;B077S7SHMF&quot;, &quot;B015Y8E2LK&quot;]</td><td>&quot;PEPPERLONELY&quot;</td><td>null</td><td>&quot;10.99&quot;</td><td>&quot;PEPPERLONELY B…</td><td>2</td><td>5</td><td>&quot;Arts, Crafts &amp;…</td><td>608880</td></tr></tbody></table></div>"
      ],
      "text/plain": [
       "shape: (2, 11)\n",
       "┌───────────┬───────────┬───────────┬───────────┬───┬───────────┬───────────┬───────────┬──────────┐\n",
       "│ asin      ┆ also_buy  ┆ also_view ┆ brand     ┆ … ┆ cant_imag ┆ cant_cate ┆ main_cate ┆ rank_in_ │\n",
       "│ ---       ┆ ---       ┆ ---       ┆ ---       ┆   ┆ e         ┆ gory      ┆ gory      ┆ category │\n",
       "│ str       ┆ list[str] ┆ list[str] ┆ str       ┆   ┆ ---       ┆ ---       ┆ ---       ┆ ---      │\n",
       "│           ┆           ┆           ┆           ┆   ┆ u32       ┆ u32       ┆ str       ┆ i64      │\n",
       "╞═══════════╪═══════════╪═══════════╪═══════════╪═══╪═══════════╪═══════════╪═══════════╪══════════╡\n",
       "│ B00Q9MZ1V ┆ [\"B01H0FS ┆ []        ┆ PEPPERLON ┆ … ┆ 2         ┆ 5         ┆ Arts,     ┆ 254895   │\n",
       "│ 6         ┆ OPK\", \"B0 ┆           ┆ ELY       ┆   ┆           ┆           ┆ Crafts &  ┆          │\n",
       "│           ┆ 0WJD7YIW\" ┆           ┆           ┆   ┆           ┆           ┆ Sewing    ┆          │\n",
       "│           ┆ , … \"…    ┆           ┆           ┆   ┆           ┆           ┆           ┆          │\n",
       "│ B00Q9N0EN ┆ []        ┆ [\"B0734WN ┆ PEPPERLON ┆ … ┆ 2         ┆ 5         ┆ Arts,     ┆ 608880   │\n",
       "│ U         ┆           ┆ 4RW\", \"B0 ┆ ELY       ┆   ┆           ┆           ┆ Crafts &  ┆          │\n",
       "│           ┆           ┆ 77S7SHMF\" ┆           ┆   ┆           ┆           ┆ Sewing    ┆          │\n",
       "│           ┆           ┆ , \"B0…    ┆           ┆   ┆           ┆           ┆           ┆          │\n",
       "└───────────┴───────────┴───────────┴───────────┴───┴───────────┴───────────┴───────────┴──────────┘"
      ]
     },
     "execution_count": 179,
     "metadata": {},
     "output_type": "execute_result"
    }
   ],
   "source": [
    "# Pre Transform \"price\": remove blanks and $\n",
    "metadata2_processed.select(pl.col('price').str.strip())\n",
    "metadata2_processed = metadata2_processed.with_columns(pl.col(\"price\").str.replace(r\" \", \"\"))\n",
    "metadata2_processed = metadata2_processed.with_columns(pl.col(\"price\").str.replace(r\"\\$\", \"\"))\n",
    "metadata2_processed = metadata2_processed.with_columns(pl.col(\"price\").str.replace(r\"$\", \"\"))\n",
    "metadata2_processed = metadata2_processed.with_columns(pl.col(\"price\").str.replace(r\",\", \"\"))\n",
    "metadata2_processed = metadata2_processed.with_columns(pl.col(\"price\").str.replace(r\"\\,\", \"\"))\n",
    "\n",
    "metadata2_processed.head(2)"
   ]
  },
  {
   "cell_type": "code",
   "execution_count": 180,
   "metadata": {},
   "outputs": [
    {
     "data": {
      "text/html": [
       "<div><style>\n",
       ".dataframe > thead > tr > th,\n",
       ".dataframe > tbody > tr > td {\n",
       "  text-align: right;\n",
       "}\n",
       "</style>\n",
       "<small>shape: (2, 11)</small><table border=\"1\" class=\"dataframe\"><thead><tr><th>asin</th><th>also_buy</th><th>also_view</th><th>brand</th><th>date</th><th>price</th><th>title</th><th>cant_image</th><th>cant_category</th><th>main_category</th><th>rank_in_category</th></tr><tr><td>str</td><td>list[str]</td><td>list[str]</td><td>str</td><td>datetime[μs]</td><td>f64</td><td>str</td><td>u32</td><td>u32</td><td>str</td><td>i64</td></tr></thead><tbody><tr><td>&quot;B00Q9MZ1V6&quot;</td><td>[&quot;B01H0FSOPK&quot;, &quot;B00WJD7YIW&quot;, … &quot;B015OFLIEM&quot;]</td><td>[]</td><td>&quot;PEPPERLONELY&quot;</td><td>null</td><td>8.99</td><td>&quot;PEPPERLONELY B…</td><td>2</td><td>5</td><td>&quot;Arts, Crafts &amp;…</td><td>254895</td></tr><tr><td>&quot;B00Q9N0ENU&quot;</td><td>[]</td><td>[&quot;B0734WN4RW&quot;, &quot;B077S7SHMF&quot;, &quot;B015Y8E2LK&quot;]</td><td>&quot;PEPPERLONELY&quot;</td><td>null</td><td>10.99</td><td>&quot;PEPPERLONELY B…</td><td>2</td><td>5</td><td>&quot;Arts, Crafts &amp;…</td><td>608880</td></tr></tbody></table></div>"
      ],
      "text/plain": [
       "shape: (2, 11)\n",
       "┌───────────┬───────────┬───────────┬───────────┬───┬───────────┬───────────┬───────────┬──────────┐\n",
       "│ asin      ┆ also_buy  ┆ also_view ┆ brand     ┆ … ┆ cant_imag ┆ cant_cate ┆ main_cate ┆ rank_in_ │\n",
       "│ ---       ┆ ---       ┆ ---       ┆ ---       ┆   ┆ e         ┆ gory      ┆ gory      ┆ category │\n",
       "│ str       ┆ list[str] ┆ list[str] ┆ str       ┆   ┆ ---       ┆ ---       ┆ ---       ┆ ---      │\n",
       "│           ┆           ┆           ┆           ┆   ┆ u32       ┆ u32       ┆ str       ┆ i64      │\n",
       "╞═══════════╪═══════════╪═══════════╪═══════════╪═══╪═══════════╪═══════════╪═══════════╪══════════╡\n",
       "│ B00Q9MZ1V ┆ [\"B01H0FS ┆ []        ┆ PEPPERLON ┆ … ┆ 2         ┆ 5         ┆ Arts,     ┆ 254895   │\n",
       "│ 6         ┆ OPK\", \"B0 ┆           ┆ ELY       ┆   ┆           ┆           ┆ Crafts &  ┆          │\n",
       "│           ┆ 0WJD7YIW\" ┆           ┆           ┆   ┆           ┆           ┆ Sewing    ┆          │\n",
       "│           ┆ , … \"…    ┆           ┆           ┆   ┆           ┆           ┆           ┆          │\n",
       "│ B00Q9N0EN ┆ []        ┆ [\"B0734WN ┆ PEPPERLON ┆ … ┆ 2         ┆ 5         ┆ Arts,     ┆ 608880   │\n",
       "│ U         ┆           ┆ 4RW\", \"B0 ┆ ELY       ┆   ┆           ┆           ┆ Crafts &  ┆          │\n",
       "│           ┆           ┆ 77S7SHMF\" ┆           ┆   ┆           ┆           ┆ Sewing    ┆          │\n",
       "│           ┆           ┆ , \"B0…    ┆           ┆   ┆           ┆           ┆           ┆          │\n",
       "└───────────┴───────────┴───────────┴───────────┴───┴───────────┴───────────┴───────────┴──────────┘"
      ]
     },
     "execution_count": 180,
     "metadata": {},
     "output_type": "execute_result"
    }
   ],
   "source": [
    "# Transform and change type of \"price\" from str to int\n",
    "\n",
    "def transform_price(price: str) -> pl.Series:\n",
    "    \"\"\"Transforms the price to an integer. \n",
    "    Args:\n",
    "        price: The price as a string.\n",
    "    Returns:\n",
    "        The price as an integer.\n",
    "    \"\"\"\n",
    "    try:\n",
    "        price_list = price.split(\"-\")\n",
    "    except: \n",
    "        price_list = []\n",
    "    if len(price_list) == 2:\n",
    "        # The price is in the format \"9.99-12.50\".\n",
    "        price = (float(price_list[0]) + float(price_list[1])) / 2\n",
    "    else:\n",
    "        # The price is not in the format \"9.99-12.50\".\n",
    "        try:\n",
    "            price = float(price)\n",
    "        except ValueError:\n",
    "            # The price is not a valid number.\n",
    "            price = None\n",
    "    return price\n",
    "\n",
    "metadata2_processed = metadata2_processed.with_columns(pl.col(\"price\").apply(transform_price))\n",
    "\n",
    "metadata2_processed.head(2)"
   ]
  },
  {
   "cell_type": "code",
   "execution_count": 181,
   "metadata": {},
   "outputs": [
    {
     "data": {
      "text/html": [
       "<div><style>\n",
       ".dataframe > thead > tr > th,\n",
       ".dataframe > tbody > tr > td {\n",
       "  text-align: right;\n",
       "}\n",
       "</style>\n",
       "<small>shape: (2, 13)</small><table border=\"1\" class=\"dataframe\"><thead><tr><th>asin</th><th>also_buy</th><th>also_view</th><th>brand</th><th>date</th><th>price</th><th>title</th><th>cant_image</th><th>cant_category</th><th>main_category</th><th>rank_in_category</th><th>also_buy_count</th><th>also_view_count</th></tr><tr><td>str</td><td>list[str]</td><td>list[str]</td><td>str</td><td>datetime[μs]</td><td>f64</td><td>str</td><td>u32</td><td>u32</td><td>str</td><td>i64</td><td>u32</td><td>u32</td></tr></thead><tbody><tr><td>&quot;B00Q9MZ1V6&quot;</td><td>[&quot;B01H0FSOPK&quot;, &quot;B00WJD7YIW&quot;, … &quot;B015OFLIEM&quot;]</td><td>[]</td><td>&quot;PEPPERLONELY&quot;</td><td>null</td><td>8.99</td><td>&quot;PEPPERLONELY B…</td><td>2</td><td>5</td><td>&quot;Arts, Crafts &amp;…</td><td>254895</td><td>21</td><td>0</td></tr><tr><td>&quot;B00Q9N0ENU&quot;</td><td>[]</td><td>[&quot;B0734WN4RW&quot;, &quot;B077S7SHMF&quot;, &quot;B015Y8E2LK&quot;]</td><td>&quot;PEPPERLONELY&quot;</td><td>null</td><td>10.99</td><td>&quot;PEPPERLONELY B…</td><td>2</td><td>5</td><td>&quot;Arts, Crafts &amp;…</td><td>608880</td><td>0</td><td>3</td></tr></tbody></table></div>"
      ],
      "text/plain": [
       "shape: (2, 13)\n",
       "┌───────────┬───────────┬───────────┬───────────┬───┬───────────┬───────────┬───────────┬──────────┐\n",
       "│ asin      ┆ also_buy  ┆ also_view ┆ brand     ┆ … ┆ main_cate ┆ rank_in_c ┆ also_buy_ ┆ also_vie │\n",
       "│ ---       ┆ ---       ┆ ---       ┆ ---       ┆   ┆ gory      ┆ ategory   ┆ count     ┆ w_count  │\n",
       "│ str       ┆ list[str] ┆ list[str] ┆ str       ┆   ┆ ---       ┆ ---       ┆ ---       ┆ ---      │\n",
       "│           ┆           ┆           ┆           ┆   ┆ str       ┆ i64       ┆ u32       ┆ u32      │\n",
       "╞═══════════╪═══════════╪═══════════╪═══════════╪═══╪═══════════╪═══════════╪═══════════╪══════════╡\n",
       "│ B00Q9MZ1V ┆ [\"B01H0FS ┆ []        ┆ PEPPERLON ┆ … ┆ Arts,     ┆ 254895    ┆ 21        ┆ 0        │\n",
       "│ 6         ┆ OPK\", \"B0 ┆           ┆ ELY       ┆   ┆ Crafts &  ┆           ┆           ┆          │\n",
       "│           ┆ 0WJD7YIW\" ┆           ┆           ┆   ┆ Sewing    ┆           ┆           ┆          │\n",
       "│           ┆ , … \"…    ┆           ┆           ┆   ┆           ┆           ┆           ┆          │\n",
       "│ B00Q9N0EN ┆ []        ┆ [\"B0734WN ┆ PEPPERLON ┆ … ┆ Arts,     ┆ 608880    ┆ 0         ┆ 3        │\n",
       "│ U         ┆           ┆ 4RW\", \"B0 ┆ ELY       ┆   ┆ Crafts &  ┆           ┆           ┆          │\n",
       "│           ┆           ┆ 77S7SHMF\" ┆           ┆   ┆ Sewing    ┆           ┆           ┆          │\n",
       "│           ┆           ┆ , \"B0…    ┆           ┆   ┆           ┆           ┆           ┆          │\n",
       "└───────────┴───────────┴───────────┴───────────┴───┴───────────┴───────────┴───────────┴──────────┘"
      ]
     },
     "execution_count": 181,
     "metadata": {},
     "output_type": "execute_result"
    }
   ],
   "source": [
    "# Calculate how many products are also bought/viewed\n",
    "metadata2_processed = metadata2_processed.with_columns((pl.col(\"also_buy\").list.lengths()).alias(\"also_buy_count\"))\n",
    "metadata2_processed = metadata2_processed.with_columns((pl.col(\"also_view\").list.lengths()).alias(\"also_view_count\"))\n",
    "\n",
    "metadata2_processed.head(2)"
   ]
  },
  {
   "cell_type": "code",
   "execution_count": 182,
   "metadata": {},
   "outputs": [
    {
     "data": {
      "text/html": [
       "<div><style>\n",
       ".dataframe > thead > tr > th,\n",
       ".dataframe > tbody > tr > td {\n",
       "  text-align: right;\n",
       "}\n",
       "</style>\n",
       "<small>shape: (5, 13)</small><table border=\"1\" class=\"dataframe\"><thead><tr><th>asin</th><th>also_buy</th><th>also_view</th><th>brand</th><th>date</th><th>price</th><th>title</th><th>cant_image</th><th>cant_category</th><th>main_category</th><th>rank_in_category</th><th>also_buy_count</th><th>also_view_count</th></tr><tr><td>str</td><td>list[str]</td><td>list[str]</td><td>str</td><td>datetime[μs]</td><td>f64</td><td>str</td><td>u32</td><td>u32</td><td>str</td><td>i64</td><td>u32</td><td>u32</td></tr></thead><tbody><tr><td>&quot;B00Q9MZ1V6&quot;</td><td>[&quot;B01H0FSOPK&quot;, &quot;B00WJD7YIW&quot;, … &quot;B015OFLIEM&quot;]</td><td>[]</td><td>&quot;PEPPERLONELY&quot;</td><td>null</td><td>8.99</td><td>&quot;PEPPERLONELY B…</td><td>2</td><td>5</td><td>&quot;Arts, Crafts &amp;…</td><td>254895</td><td>21</td><td>0</td></tr><tr><td>&quot;B00Q9N0ENU&quot;</td><td>[]</td><td>[&quot;B0734WN4RW&quot;, &quot;B077S7SHMF&quot;, &quot;B015Y8E2LK&quot;]</td><td>&quot;PEPPERLONELY&quot;</td><td>null</td><td>10.99</td><td>&quot;PEPPERLONELY B…</td><td>2</td><td>5</td><td>&quot;Arts, Crafts &amp;…</td><td>608880</td><td>0</td><td>3</td></tr><tr><td>&quot;B00Q9MYPOA&quot;</td><td>[&quot;B00UWEBWCY&quot;, &quot;B00WJDD0IA&quot;, … &quot;B015OFLTTQ&quot;]</td><td>[]</td><td>&quot;PEPPERLONELY&quot;</td><td>null</td><td>8.99</td><td>&quot;PEPPERLONELY B…</td><td>2</td><td>5</td><td>&quot;Arts, Crafts &amp;…</td><td>21329</td><td>33</td><td>0</td></tr><tr><td>&quot;B00Q9MYY0K&quot;</td><td>[]</td><td>[]</td><td>&quot;PEPPERLONELY&quot;</td><td>null</td><td>null</td><td>&quot;PEPPERLONELY B…</td><td>1</td><td>5</td><td>&quot;Arts, Crafts &amp;…</td><td>null</td><td>0</td><td>0</td></tr><tr><td>&quot;B00Q9MZGWK&quot;</td><td>[]</td><td>[]</td><td>&quot;PEPPERLONELY&quot;</td><td>null</td><td>null</td><td>&quot;PEPPERLONELY B…</td><td>1</td><td>5</td><td>&quot;Arts, Crafts &amp;…</td><td>null</td><td>0</td><td>0</td></tr></tbody></table></div>"
      ],
      "text/plain": [
       "shape: (5, 13)\n",
       "┌───────────┬───────────┬───────────┬───────────┬───┬───────────┬───────────┬───────────┬──────────┐\n",
       "│ asin      ┆ also_buy  ┆ also_view ┆ brand     ┆ … ┆ main_cate ┆ rank_in_c ┆ also_buy_ ┆ also_vie │\n",
       "│ ---       ┆ ---       ┆ ---       ┆ ---       ┆   ┆ gory      ┆ ategory   ┆ count     ┆ w_count  │\n",
       "│ str       ┆ list[str] ┆ list[str] ┆ str       ┆   ┆ ---       ┆ ---       ┆ ---       ┆ ---      │\n",
       "│           ┆           ┆           ┆           ┆   ┆ str       ┆ i64       ┆ u32       ┆ u32      │\n",
       "╞═══════════╪═══════════╪═══════════╪═══════════╪═══╪═══════════╪═══════════╪═══════════╪══════════╡\n",
       "│ B00Q9MZ1V ┆ [\"B01H0FS ┆ []        ┆ PEPPERLON ┆ … ┆ Arts,     ┆ 254895    ┆ 21        ┆ 0        │\n",
       "│ 6         ┆ OPK\", \"B0 ┆           ┆ ELY       ┆   ┆ Crafts &  ┆           ┆           ┆          │\n",
       "│           ┆ 0WJD7YIW\" ┆           ┆           ┆   ┆ Sewing    ┆           ┆           ┆          │\n",
       "│           ┆ , … \"…    ┆           ┆           ┆   ┆           ┆           ┆           ┆          │\n",
       "│ B00Q9N0EN ┆ []        ┆ [\"B0734WN ┆ PEPPERLON ┆ … ┆ Arts,     ┆ 608880    ┆ 0         ┆ 3        │\n",
       "│ U         ┆           ┆ 4RW\", \"B0 ┆ ELY       ┆   ┆ Crafts &  ┆           ┆           ┆          │\n",
       "│           ┆           ┆ 77S7SHMF\" ┆           ┆   ┆ Sewing    ┆           ┆           ┆          │\n",
       "│           ┆           ┆ , \"B0…    ┆           ┆   ┆           ┆           ┆           ┆          │\n",
       "│ B00Q9MYPO ┆ [\"B00UWEB ┆ []        ┆ PEPPERLON ┆ … ┆ Arts,     ┆ 21329     ┆ 33        ┆ 0        │\n",
       "│ A         ┆ WCY\", \"B0 ┆           ┆ ELY       ┆   ┆ Crafts &  ┆           ┆           ┆          │\n",
       "│           ┆ 0WJDD0IA\" ┆           ┆           ┆   ┆ Sewing    ┆           ┆           ┆          │\n",
       "│           ┆ , … \"…    ┆           ┆           ┆   ┆           ┆           ┆           ┆          │\n",
       "│ B00Q9MYY0 ┆ []        ┆ []        ┆ PEPPERLON ┆ … ┆ Arts,     ┆ null      ┆ 0         ┆ 0        │\n",
       "│ K         ┆           ┆           ┆ ELY       ┆   ┆ Crafts &  ┆           ┆           ┆          │\n",
       "│           ┆           ┆           ┆           ┆   ┆ Sewing    ┆           ┆           ┆          │\n",
       "│ B00Q9MZGW ┆ []        ┆ []        ┆ PEPPERLON ┆ … ┆ Arts,     ┆ null      ┆ 0         ┆ 0        │\n",
       "│ K         ┆           ┆           ┆ ELY       ┆   ┆ Crafts &  ┆           ┆           ┆          │\n",
       "│           ┆           ┆           ┆           ┆   ┆ Sewing    ┆           ┆           ┆          │\n",
       "└───────────┴───────────┴───────────┴───────────┴───┴───────────┴───────────┴───────────┴──────────┘"
      ]
     },
     "execution_count": 182,
     "metadata": {},
     "output_type": "execute_result"
    }
   ],
   "source": [
    "metadata2_processed.head()"
   ]
  },
  {
   "cell_type": "code",
   "execution_count": 127,
   "metadata": {},
   "outputs": [],
   "source": [
    "#metadata2_processed['rank_in_category'].value_counts().sort(by='counts', descending=True)\n",
    "#metadata2_processed['price'].value_counts().sort(by='counts', descending=True)\n",
    "#metadata2_processed['date'].value_counts().sort(by='counts', descending=True)"
   ]
  },
  {
   "cell_type": "code",
   "execution_count": 183,
   "metadata": {},
   "outputs": [],
   "source": [
    "metadata2_processed.write_parquet('metadata6_processed.parquet')"
   ]
  }
 ],
 "metadata": {
  "kernelspec": {
   "display_name": "Python 3",
   "language": "python",
   "name": "python3"
  },
  "language_info": {
   "codemirror_mode": {
    "name": "ipython",
    "version": 3
   },
   "file_extension": ".py",
   "mimetype": "text/x-python",
   "name": "python",
   "nbconvert_exporter": "python",
   "pygments_lexer": "ipython3",
   "version": "3.10.5"
  },
  "orig_nbformat": 4
 },
 "nbformat": 4,
 "nbformat_minor": 2
}
