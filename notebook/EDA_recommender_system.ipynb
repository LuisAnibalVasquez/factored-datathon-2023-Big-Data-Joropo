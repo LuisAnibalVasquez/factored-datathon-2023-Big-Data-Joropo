{
 "cells": [
  {
   "cell_type": "code",
   "execution_count": 154,
   "metadata": {},
   "outputs": [],
   "source": [
    "import os\n",
    "import polars as pl"
   ]
  },
  {
   "cell_type": "markdown",
   "metadata": {},
   "source": [
    "# Load Data"
   ]
  },
  {
   "cell_type": "markdown",
   "metadata": {},
   "source": [
    "Loop over the review path to count the amount of files  existting"
   ]
  },
  {
   "cell_type": "code",
   "execution_count": 155,
   "metadata": {},
   "outputs": [
    {
     "name": "stdout",
     "output_type": "stream",
     "text": [
      "['reviews40.parquet', 'reviews41.parquet', 'reviews42.parquet', 'reviews43.parquet', 'reviews44.parquet', 'reviews45.parquet', 'reviews46.parquet', 'reviews47.parquet', 'reviews48.parquet', 'reviews49.parquet']\n"
     ]
    }
   ],
   "source": [
    "path_metadata = \"../data/raw/metadata4_processed.parquet\" \n",
    "reviews_path = '../data/raw/reviews'\n",
    "processed_path = \"../data/processed/processed.parquet\"\n",
    "\n",
    "with os.scandir(reviews_path) as reviewFiles:\n",
    "    reviewFiles = [file.name for file in reviewFiles if file.is_file()]\n",
    "print(reviewFiles)"
   ]
  },
  {
   "cell_type": "markdown",
   "metadata": {},
   "source": [
    "Load the Metadata file and the review files"
   ]
  },
  {
   "cell_type": "code",
   "execution_count": 156,
   "metadata": {},
   "outputs": [
    {
     "name": "stdout",
     "output_type": "stream",
     "text": [
      "reading ../data/raw/reviews/reviews40.parquet\n",
      "Adding...../data/raw/reviews/reviews40.parquet\n",
      "reading ../data/raw/reviews/reviews41.parquet\n",
      "Adding...../data/raw/reviews/reviews41.parquet\n",
      "reading ../data/raw/reviews/reviews42.parquet\n",
      "Adding...../data/raw/reviews/reviews42.parquet\n",
      "reading ../data/raw/reviews/reviews43.parquet\n",
      "Adding...../data/raw/reviews/reviews43.parquet\n",
      "reading ../data/raw/reviews/reviews44.parquet\n",
      "Adding...../data/raw/reviews/reviews44.parquet\n",
      "reading ../data/raw/reviews/reviews45.parquet\n",
      "Adding...../data/raw/reviews/reviews45.parquet\n",
      "reading ../data/raw/reviews/reviews46.parquet\n",
      "Adding...../data/raw/reviews/reviews46.parquet\n",
      "reading ../data/raw/reviews/reviews47.parquet\n",
      "Adding...../data/raw/reviews/reviews47.parquet\n",
      "reading ../data/raw/reviews/reviews48.parquet\n",
      "Adding...../data/raw/reviews/reviews48.parquet\n",
      "reading ../data/raw/reviews/reviews49.parquet\n",
      "Adding...../data/raw/reviews/reviews49.parquet\n"
     ]
    }
   ],
   "source": [
    "df_metadata = pl.read_parquet(path_metadata, columns=[\"asin\"])\n",
    "df_reviews = pl.DataFrame()\n",
    "for f in reviewFiles:\n",
    "    n = str.format(\"../data/raw/reviews/{}\", f)\n",
    "    print(\"reading \" + n)\n",
    "    df_aux = pl.read_parquet(n,columns=['asin','reviewerID', 'overall', 'unixReviewTime'])\n",
    "    print(\"Adding...\" + n)\n",
    "    df_reviews = df_reviews.vstack(df_aux)\n",
    "    n = \"\""
   ]
  },
  {
   "cell_type": "code",
   "execution_count": 157,
   "metadata": {},
   "outputs": [
    {
     "name": "stdout",
     "output_type": "stream",
     "text": [
      "(1000000, 1)\n",
      "(26735974, 4)\n"
     ]
    }
   ],
   "source": [
    "print(df_metadata.shape)\n",
    "print(df_reviews.shape)"
   ]
  },
  {
   "cell_type": "markdown",
   "metadata": {},
   "source": [
    "# Join the 2 dataset created"
   ]
  },
  {
   "cell_type": "code",
   "execution_count": 158,
   "metadata": {},
   "outputs": [],
   "source": [
    "join_keys = [\"asin\"]\n",
    "df_joined = df_metadata.join(df_reviews, join_keys)"
   ]
  },
  {
   "cell_type": "code",
   "execution_count": 159,
   "metadata": {},
   "outputs": [
    {
     "data": {
      "text/html": [
       "<div><style>\n",
       ".dataframe > thead > tr > th,\n",
       ".dataframe > tbody > tr > td {\n",
       "  text-align: right;\n",
       "}\n",
       "</style>\n",
       "<small>shape: (5, 4)</small><table border=\"1\" class=\"dataframe\"><thead><tr><th>asin</th><th>reviewerID</th><th>overall</th><th>unixReviewTime</th></tr><tr><td>str</td><td>str</td><td>str</td><td>str</td></tr></thead><tbody><tr><td>&quot;B00JC39W1Y&quot;</td><td>&quot;A88X07GEKZBJ5&quot;</td><td>&quot;5.0&quot;</td><td>&quot;1409184000&quot;</td></tr><tr><td>&quot;B00JC39W1Y&quot;</td><td>&quot;A16R5JWQN9BDQ4…</td><td>&quot;3.0&quot;</td><td>&quot;1402531200&quot;</td></tr><tr><td>&quot;B00JC39W1Y&quot;</td><td>&quot;A1FHH3W45TY7XN…</td><td>&quot;4.0&quot;</td><td>&quot;1401753600&quot;</td></tr><tr><td>&quot;B00JC39W1Y&quot;</td><td>&quot;AROFTQI5I04DB&quot;</td><td>&quot;5.0&quot;</td><td>&quot;1401235200&quot;</td></tr><tr><td>&quot;B00JC39W1Y&quot;</td><td>&quot;A3FR27C0VGOHQX…</td><td>&quot;2.0&quot;</td><td>&quot;1400371200&quot;</td></tr></tbody></table></div>"
      ],
      "text/plain": [
       "shape: (5, 4)\n",
       "┌────────────┬────────────────┬─────────┬────────────────┐\n",
       "│ asin       ┆ reviewerID     ┆ overall ┆ unixReviewTime │\n",
       "│ ---        ┆ ---            ┆ ---     ┆ ---            │\n",
       "│ str        ┆ str            ┆ str     ┆ str            │\n",
       "╞════════════╪════════════════╪═════════╪════════════════╡\n",
       "│ B00JC39W1Y ┆ A88X07GEKZBJ5  ┆ 5.0     ┆ 1409184000     │\n",
       "│ B00JC39W1Y ┆ A16R5JWQN9BDQ4 ┆ 3.0     ┆ 1402531200     │\n",
       "│ B00JC39W1Y ┆ A1FHH3W45TY7XN ┆ 4.0     ┆ 1401753600     │\n",
       "│ B00JC39W1Y ┆ AROFTQI5I04DB  ┆ 5.0     ┆ 1401235200     │\n",
       "│ B00JC39W1Y ┆ A3FR27C0VGOHQX ┆ 2.0     ┆ 1400371200     │\n",
       "└────────────┴────────────────┴─────────┴────────────────┘"
      ]
     },
     "execution_count": 159,
     "metadata": {},
     "output_type": "execute_result"
    }
   ],
   "source": [
    "df_joined.head()"
   ]
  },
  {
   "cell_type": "code",
   "execution_count": 160,
   "metadata": {},
   "outputs": [
    {
     "data": {
      "text/plain": [
       "(1465270, 4)"
      ]
     },
     "execution_count": 160,
     "metadata": {},
     "output_type": "execute_result"
    }
   ],
   "source": [
    "df_joined.shape"
   ]
  },
  {
   "cell_type": "markdown",
   "metadata": {},
   "source": [
    "# Some preprecessing"
   ]
  },
  {
   "cell_type": "markdown",
   "metadata": {},
   "source": [
    "Remove duplicated rows if exist"
   ]
  },
  {
   "cell_type": "code",
   "execution_count": 161,
   "metadata": {},
   "outputs": [],
   "source": [
    "df_joined = df_joined.unique()"
   ]
  },
  {
   "cell_type": "markdown",
   "metadata": {},
   "source": [
    "Check for null values if exist"
   ]
  },
  {
   "cell_type": "code",
   "execution_count": 162,
   "metadata": {},
   "outputs": [],
   "source": [
    "null_values = df_joined.null_count()"
   ]
  },
  {
   "cell_type": "code",
   "execution_count": 163,
   "metadata": {},
   "outputs": [
    {
     "data": {
      "text/html": [
       "<div><style>\n",
       ".dataframe > thead > tr > th,\n",
       ".dataframe > tbody > tr > td {\n",
       "  text-align: right;\n",
       "}\n",
       "</style>\n",
       "<small>shape: (1, 4)</small><table border=\"1\" class=\"dataframe\"><thead><tr><th>asin</th><th>reviewerID</th><th>overall</th><th>unixReviewTime</th></tr><tr><td>u32</td><td>u32</td><td>u32</td><td>u32</td></tr></thead><tbody><tr><td>0</td><td>0</td><td>0</td><td>0</td></tr></tbody></table></div>"
      ],
      "text/plain": [
       "shape: (1, 4)\n",
       "┌──────┬────────────┬─────────┬────────────────┐\n",
       "│ asin ┆ reviewerID ┆ overall ┆ unixReviewTime │\n",
       "│ ---  ┆ ---        ┆ ---     ┆ ---            │\n",
       "│ u32  ┆ u32        ┆ u32     ┆ u32            │\n",
       "╞══════╪════════════╪═════════╪════════════════╡\n",
       "│ 0    ┆ 0          ┆ 0       ┆ 0              │\n",
       "└──────┴────────────┴─────────┴────────────────┘"
      ]
     },
     "execution_count": 163,
     "metadata": {},
     "output_type": "execute_result"
    }
   ],
   "source": [
    "null_values"
   ]
  },
  {
   "cell_type": "markdown",
   "metadata": {},
   "source": [
    "Cast the overall column datatype"
   ]
  },
  {
   "cell_type": "code",
   "execution_count": 164,
   "metadata": {},
   "outputs": [
    {
     "data": {
      "text/html": [
       "<div><style>\n",
       ".dataframe > thead > tr > th,\n",
       ".dataframe > tbody > tr > td {\n",
       "  text-align: right;\n",
       "}\n",
       "</style>\n",
       "<small>shape: (1_464_459, 4)</small><table border=\"1\" class=\"dataframe\"><thead><tr><th>asin</th><th>reviewerID</th><th>unixReviewTime</th><th>rating</th></tr><tr><td>str</td><td>str</td><td>str</td><td>i16</td></tr></thead><tbody><tr><td>&quot;B00JC39W1Y&quot;</td><td>&quot;A1FHH3W45TY7XN…</td><td>&quot;1401753600&quot;</td><td>4</td></tr><tr><td>&quot;B00JC39W1Y&quot;</td><td>&quot;AROFTQI5I04DB&quot;</td><td>&quot;1401235200&quot;</td><td>5</td></tr><tr><td>&quot;B00JC39W1Y&quot;</td><td>&quot;A2F2PEGBKO3OLY…</td><td>&quot;1392940800&quot;</td><td>2</td></tr><tr><td>&quot;B00JC39W1Y&quot;</td><td>&quot;A3MIPPR6CPQF48…</td><td>&quot;1392508800&quot;</td><td>5</td></tr><tr><td>&quot;B00JC39W1Y&quot;</td><td>&quot;A7C1PPBQQV4JU&quot;</td><td>&quot;1532908800&quot;</td><td>2</td></tr><tr><td>&quot;B00JC39W1Y&quot;</td><td>&quot;ALHZXPXMADVKD&quot;</td><td>&quot;1532649600&quot;</td><td>5</td></tr><tr><td>&quot;B00JC39W1Y&quot;</td><td>&quot;ABWZ0X880U8P6&quot;</td><td>&quot;1532217600&quot;</td><td>4</td></tr><tr><td>&quot;B00JC39W1Y&quot;</td><td>&quot;A1IYT42FUYV0PP…</td><td>&quot;1532217600&quot;</td><td>3</td></tr><tr><td>&quot;B00JC39W1Y&quot;</td><td>&quot;A1N2YT63RMPFIW…</td><td>&quot;1532131200&quot;</td><td>5</td></tr><tr><td>&quot;B00JC39W1Y&quot;</td><td>&quot;A1ZGJLLW43ACI4…</td><td>&quot;1531958400&quot;</td><td>5</td></tr><tr><td>&quot;B00JC39W1Y&quot;</td><td>&quot;A34HXM7LO6EFIW…</td><td>&quot;1531958400&quot;</td><td>5</td></tr><tr><td>&quot;B00JC39W1Y&quot;</td><td>&quot;A3LOL24K01CH9E…</td><td>&quot;1531872000&quot;</td><td>4</td></tr><tr><td>&hellip;</td><td>&hellip;</td><td>&hellip;</td><td>&hellip;</td></tr><tr><td>&quot;B00SBDHVB4&quot;</td><td>&quot;A1BIAZIFPQOFWN…</td><td>&quot;1492992000&quot;</td><td>5</td></tr><tr><td>&quot;B00SBDHVB4&quot;</td><td>&quot;A1JB5UQKG13F2G…</td><td>&quot;1401580800&quot;</td><td>4</td></tr><tr><td>&quot;B00SBDUKGW&quot;</td><td>&quot;A1E1BWNMFPC0SH…</td><td>&quot;1519257600&quot;</td><td>1</td></tr><tr><td>&quot;B00SBDHFSS&quot;</td><td>&quot;A1NJ88N8U6T2AG…</td><td>&quot;1493942400&quot;</td><td>5</td></tr><tr><td>&quot;B00SBDHFSS&quot;</td><td>&quot;A2NBH3Z5Y4TFPH…</td><td>&quot;1307318400&quot;</td><td>4</td></tr><tr><td>&quot;B00SBEGMAY&quot;</td><td>&quot;AN6EFUBWJA0H6&quot;</td><td>&quot;1482278400&quot;</td><td>4</td></tr><tr><td>&quot;B00SBEGMAY&quot;</td><td>&quot;AP7I19QAAKL5&quot;</td><td>&quot;1454716800&quot;</td><td>5</td></tr><tr><td>&quot;B00SBHXKQU&quot;</td><td>&quot;A2XPREDXON2IDB…</td><td>&quot;1510876800&quot;</td><td>5</td></tr><tr><td>&quot;B00SBHU6C6&quot;</td><td>&quot;AN0E3MTKPCMNY&quot;</td><td>&quot;1454112000&quot;</td><td>5</td></tr><tr><td>&quot;B00SBHW7Q4&quot;</td><td>&quot;AHWIPQXM1FJWA&quot;</td><td>&quot;1472342400&quot;</td><td>5</td></tr><tr><td>&quot;B00SBHTI5M&quot;</td><td>&quot;A31LAG2ZVE213&quot;</td><td>&quot;1529366400&quot;</td><td>5</td></tr><tr><td>&quot;B00SBHTI5M&quot;</td><td>&quot;A1GNNEKXI8QCTW…</td><td>&quot;1521331200&quot;</td><td>5</td></tr></tbody></table></div>"
      ],
      "text/plain": [
       "shape: (1_464_459, 4)\n",
       "┌────────────┬────────────────┬────────────────┬────────┐\n",
       "│ asin       ┆ reviewerID     ┆ unixReviewTime ┆ rating │\n",
       "│ ---        ┆ ---            ┆ ---            ┆ ---    │\n",
       "│ str        ┆ str            ┆ str            ┆ i16    │\n",
       "╞════════════╪════════════════╪════════════════╪════════╡\n",
       "│ B00JC39W1Y ┆ A1FHH3W45TY7XN ┆ 1401753600     ┆ 4      │\n",
       "│ B00JC39W1Y ┆ AROFTQI5I04DB  ┆ 1401235200     ┆ 5      │\n",
       "│ B00JC39W1Y ┆ A2F2PEGBKO3OLY ┆ 1392940800     ┆ 2      │\n",
       "│ B00JC39W1Y ┆ A3MIPPR6CPQF48 ┆ 1392508800     ┆ 5      │\n",
       "│ …          ┆ …              ┆ …              ┆ …      │\n",
       "│ B00SBHU6C6 ┆ AN0E3MTKPCMNY  ┆ 1454112000     ┆ 5      │\n",
       "│ B00SBHW7Q4 ┆ AHWIPQXM1FJWA  ┆ 1472342400     ┆ 5      │\n",
       "│ B00SBHTI5M ┆ A31LAG2ZVE213  ┆ 1529366400     ┆ 5      │\n",
       "│ B00SBHTI5M ┆ A1GNNEKXI8QCTW ┆ 1521331200     ┆ 5      │\n",
       "└────────────┴────────────────┴────────────────┴────────┘"
      ]
     },
     "execution_count": 164,
     "metadata": {},
     "output_type": "execute_result"
    }
   ],
   "source": [
    "df_joined = df_joined.with_columns(( pl.col(\"overall\").str.extract(r\"[+-]?([1-9]*[.])?[1-9]+\", 0)).alias(\"rating\")).drop(\"overall\")\n",
    "df_joined.with_columns(pl.col(\"rating\").cast(pl.Int16))"
   ]
  },
  {
   "cell_type": "code",
   "execution_count": 165,
   "metadata": {},
   "outputs": [
    {
     "data": {
      "text/plain": [
       "(1464459, 4)"
      ]
     },
     "execution_count": 165,
     "metadata": {},
     "output_type": "execute_result"
    }
   ],
   "source": [
    "df_joined.shape"
   ]
  },
  {
   "cell_type": "markdown",
   "metadata": {},
   "source": [
    "# Save files"
   ]
  },
  {
   "cell_type": "code",
   "execution_count": 167,
   "metadata": {},
   "outputs": [],
   "source": [
    "df_joined.write_parquet(processed_path)"
   ]
  },
  {
   "cell_type": "code",
   "execution_count": null,
   "metadata": {},
   "outputs": [],
   "source": []
  }
 ],
 "metadata": {
  "kernelspec": {
   "display_name": "Factored_Datathon",
   "language": "python",
   "name": "python3"
  },
  "language_info": {
   "codemirror_mode": {
    "name": "ipython",
    "version": 3
   },
   "file_extension": ".py",
   "mimetype": "text/x-python",
   "name": "python",
   "nbconvert_exporter": "python",
   "pygments_lexer": "ipython3",
   "version": "3.10.12"
  },
  "orig_nbformat": 4
 },
 "nbformat": 4,
 "nbformat_minor": 2
}
