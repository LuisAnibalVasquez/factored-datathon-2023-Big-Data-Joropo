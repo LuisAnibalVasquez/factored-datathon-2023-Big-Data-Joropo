{
 "cells": [
  {
   "cell_type": "code",
   "execution_count": 26,
   "metadata": {},
   "outputs": [],
   "source": [
    "import mlflow\n",
    "import pandas as pd\n",
    "import tensorflow as tf\n",
    "import matplotlib.pyplot as plt \n",
    "import tensorflow_recommenders as tfrs"
   ]
  },
  {
   "cell_type": "markdown",
   "metadata": {},
   "source": [
    "# MLFlow setup"
   ]
  },
  {
   "cell_type": "code",
   "execution_count": 27,
   "metadata": {},
   "outputs": [],
   "source": [
    "experiment_name = \"Joropo_Expreriment\"\n",
    "\n",
    "if not mlflow.get_experiment_by_name(experiment_name):\n",
    "    mlflow.create_experiment(name=experiment_name) \n",
    "\n",
    "experiment = mlflow.get_experiment_by_name(experiment_name)"
   ]
  },
  {
   "cell_type": "markdown",
   "metadata": {},
   "source": [
    "# Variables"
   ]
  },
  {
   "cell_type": "code",
   "execution_count": 28,
   "metadata": {},
   "outputs": [],
   "source": [
    "path_data = \"../data/processed/processed.parquet\"\n",
    "epochs = 15\n",
    "embedding_dimension = 1024\n",
    "layers_size = \"128 64 1\"\n",
    "learning_rate = 0\n"
   ]
  },
  {
   "cell_type": "markdown",
   "metadata": {},
   "source": [
    "# Functions"
   ]
  },
  {
   "cell_type": "code",
   "execution_count": 29,
   "metadata": {},
   "outputs": [],
   "source": [
    "def plot_loss(m):\n",
    "    plt.plot(m.history['loss']) \n",
    "    plt.title('Model loss') \n",
    "    plt.ylabel('Loss') \n",
    "    plt.xlabel('Epoch') \n",
    "    plt.legend(['Loss'], loc='upper right')\n",
    "    plt.show()    "
   ]
  },
  {
   "cell_type": "code",
   "execution_count": 30,
   "metadata": {},
   "outputs": [],
   "source": [
    "def plot_metrics(m):\n",
    "    plt.plot(m.history['root_mean_squared_error']) \n",
    "    plt.title('Model root_mean_squared_error') \n",
    "    plt.ylabel('root_mean_squared_error') \n",
    "    plt.xlabel('Epoch') \n",
    "    plt.legend(['root_mean_squared_error'], loc='upper right')\n",
    "    plt.show()"
   ]
  },
  {
   "cell_type": "code",
   "execution_count": 31,
   "metadata": {},
   "outputs": [],
   "source": [
    "def find_lower_value(list_of_integers):\n",
    "  lower_value = list_of_integers[0]\n",
    "  for integer in list_of_integers:\n",
    "    if integer < lower_value:\n",
    "      lower_value = integer\n",
    "\n",
    "  return lower_value"
   ]
  },
  {
   "cell_type": "markdown",
   "metadata": {},
   "source": [
    "# Load data"
   ]
  },
  {
   "cell_type": "code",
   "execution_count": 32,
   "metadata": {},
   "outputs": [],
   "source": [
    "df = pd.read_parquet(path_data)"
   ]
  },
  {
   "cell_type": "code",
   "execution_count": 33,
   "metadata": {},
   "outputs": [],
   "source": [
    "unique_asin = df.asin.unique()\n",
    "unique_reviewerID = df.reviewerID.unique()\n",
    "total_ratings= len(df.index)"
   ]
  },
  {
   "cell_type": "markdown",
   "metadata": {},
   "source": [
    "# Create classes"
   ]
  },
  {
   "cell_type": "code",
   "execution_count": 34,
   "metadata": {},
   "outputs": [],
   "source": [
    "class RankingModel(tf.keras.Model):\n",
    "    def __init__(self):\n",
    "        super().__init__()       \n",
    "\n",
    "        self.user_embeddings = tf.keras.Sequential([\n",
    "                                    tf.keras.layers.experimental.preprocessing.StringLookup(\n",
    "                                        vocabulary=unique_reviewerID, mask_token=None),\n",
    "                                    tf.keras.layers.Embedding(len(unique_reviewerID)+1, embedding_dimension)\n",
    "                                    ])\n",
    "\n",
    "        self.product_embeddings = tf.keras.Sequential([\n",
    "                                    tf.keras.layers.experimental.preprocessing.StringLookup(\n",
    "                                        vocabulary=unique_asin , mask_token=None),\n",
    "                                    tf.keras.layers.Embedding(len(unique_asin)+1, embedding_dimension)\n",
    "                                    ])\n",
    "        self.ratings = tf.keras.Sequential([      \n",
    "                            tf.keras.layers.Dense(128, activation=\"relu\"),\n",
    "                            tf.keras.layers.Dense(64,  activation=\"relu\"),\n",
    "                            tf.keras.layers.Dense(1)\n",
    "                              ])\n",
    "    def call(self, userId, productId):\n",
    "        user_embeddings  = self.user_embeddings (userId)\n",
    "        product_embeddings = self.product_embeddings(productId)\n",
    "        return self.ratings(tf.concat([user_embeddings,product_embeddings], axis=1))"
   ]
  },
  {
   "cell_type": "code",
   "execution_count": 35,
   "metadata": {},
   "outputs": [],
   "source": [
    "class amazonModel(tfrs.models.Model):\n",
    "    def __init__(self):\n",
    "        super().__init__()\n",
    "        self.ranking_model: tf.keras.Model = RankingModel()\n",
    "        self.task: tf.keras.layers.Layer   = tfrs.tasks.Ranking(\n",
    "                                                    loss    =  tf.keras.losses.MeanSquaredError(),\n",
    "                                                    metrics = [tf.keras.metrics.RootMeanSquaredError()])\n",
    "            \n",
    "\n",
    "    def compute_loss(self, features, training=False):\n",
    "        rating_predictions = self.ranking_model(features[\"reviewerID\"], features[\"asin\"]  )\n",
    "\n",
    "        return self.task( labels=features[\"rating\"], predictions=rating_predictions)"
   ]
  },
  {
   "cell_type": "code",
   "execution_count": 36,
   "metadata": {},
   "outputs": [],
   "source": [
    "ratings = tf.data.Dataset.from_tensor_slices( {\"reviewerID\":tf.cast( df.reviewerID.values, tf.string),\n",
    "                                                \"asin\":tf.cast( df.asin.values, tf.string),\n",
    "                                                \"rating\": df.rating.values.astype('int16')     } )"
   ]
  },
  {
   "cell_type": "code",
   "execution_count": 37,
   "metadata": {},
   "outputs": [],
   "source": [
    "tf.random.set_seed(42)\n",
    "\n",
    "shuffled = ratings.shuffle(100_000, seed=42, reshuffle_each_iteration=False)\n",
    "\n",
    "train = shuffled.take( int(total_ratings*0.8) )\n",
    "test = shuffled.skip(int(total_ratings*0.8)).take(int(total_ratings*0.2))"
   ]
  },
  {
   "cell_type": "markdown",
   "metadata": {},
   "source": [
    "# Compile, fit and evaluate the model"
   ]
  },
  {
   "cell_type": "code",
   "execution_count": 38,
   "metadata": {},
   "outputs": [],
   "source": [
    "Loss_call_back = tf.keras.callbacks.EarlyStopping(monitor=\"loss\", patience=3, verbose=1, mode='min')"
   ]
  },
  {
   "cell_type": "code",
   "execution_count": 39,
   "metadata": {},
   "outputs": [],
   "source": [
    "model = amazonModel()\n",
    "model.compile(optimizer=tf.keras.optimizers.Adagrad( learning_rate=learning_rate ))"
   ]
  },
  {
   "cell_type": "code",
   "execution_count": 40,
   "metadata": {},
   "outputs": [],
   "source": [
    "cached_train = train.shuffle(100_000).batch(8192).cache()\n",
    "cached_test = test.batch(4096).cache()"
   ]
  },
  {
   "cell_type": "code",
   "execution_count": 41,
   "metadata": {},
   "outputs": [
    {
     "name": "stdout",
     "output_type": "stream",
     "text": [
      "Epoch 1/15\n"
     ]
    },
    {
     "name": "stdout",
     "output_type": "stream",
     "text": [
      "144/144 [==============================] - 174s 327ms/step - root_mean_squared_error: 1.4524 - loss: 2.1005 - regularization_loss: 0.0000e+00 - total_loss: 2.1005\n",
      "Epoch 2/15\n",
      "144/144 [==============================] - 41s 285ms/step - root_mean_squared_error: 1.3143 - loss: 1.7201 - regularization_loss: 0.0000e+00 - total_loss: 1.7201\n",
      "Epoch 3/15\n",
      "144/144 [==============================] - 40s 280ms/step - root_mean_squared_error: 1.3085 - loss: 1.7012 - regularization_loss: 0.0000e+00 - total_loss: 1.7012\n",
      "Epoch 4/15\n",
      "144/144 [==============================] - 39s 270ms/step - root_mean_squared_error: 1.3025 - loss: 1.6818 - regularization_loss: 0.0000e+00 - total_loss: 1.6818\n",
      "Epoch 5/15\n",
      "144/144 [==============================] - 40s 276ms/step - root_mean_squared_error: 1.2963 - loss: 1.6625 - regularization_loss: 0.0000e+00 - total_loss: 1.6625\n",
      "Epoch 6/15\n",
      "144/144 [==============================] - 40s 277ms/step - root_mean_squared_error: 1.2896 - loss: 1.6434 - regularization_loss: 0.0000e+00 - total_loss: 1.6434\n",
      "Epoch 7/15\n",
      "144/144 [==============================] - 38s 266ms/step - root_mean_squared_error: 1.2824 - loss: 1.6240 - regularization_loss: 0.0000e+00 - total_loss: 1.6240\n",
      "Epoch 8/15\n",
      "144/144 [==============================] - 39s 272ms/step - root_mean_squared_error: 1.2743 - loss: 1.6034 - regularization_loss: 0.0000e+00 - total_loss: 1.6034\n",
      "Epoch 9/15\n",
      "144/144 [==============================] - 35s 245ms/step - root_mean_squared_error: 1.2654 - loss: 1.5807 - regularization_loss: 0.0000e+00 - total_loss: 1.5807\n",
      "Epoch 10/15\n",
      "144/144 [==============================] - 37s 257ms/step - root_mean_squared_error: 1.2554 - loss: 1.5557 - regularization_loss: 0.0000e+00 - total_loss: 1.5557\n",
      "Epoch 11/15\n",
      "144/144 [==============================] - 39s 272ms/step - root_mean_squared_error: 1.2442 - loss: 1.5280 - regularization_loss: 0.0000e+00 - total_loss: 1.5280\n",
      "Epoch 12/15\n",
      "144/144 [==============================] - 38s 262ms/step - root_mean_squared_error: 1.2321 - loss: 1.4980 - regularization_loss: 0.0000e+00 - total_loss: 1.4980\n",
      "Epoch 13/15\n",
      "144/144 [==============================] - 43s 298ms/step - root_mean_squared_error: 1.2190 - loss: 1.4662 - regularization_loss: 0.0000e+00 - total_loss: 1.4662\n",
      "Epoch 14/15\n",
      "144/144 [==============================] - 42s 293ms/step - root_mean_squared_error: 1.2053 - loss: 1.4332 - regularization_loss: 0.0000e+00 - total_loss: 1.4332\n",
      "Epoch 15/15\n",
      "144/144 [==============================] - 43s 296ms/step - root_mean_squared_error: 1.1910 - loss: 1.3992 - regularization_loss: 0.0000e+00 - total_loss: 1.3992\n"
     ]
    }
   ],
   "source": [
    "model_hist = model.fit(cached_train, \n",
    "                            epochs=epochs, \n",
    "                            callbacks=[Loss_call_back])"
   ]
  },
  {
   "cell_type": "code",
   "execution_count": 42,
   "metadata": {},
   "outputs": [],
   "source": [
    "RootMeanSquaredError = find_lower_value(model_hist.history['root_mean_squared_error'])\n",
    "Loss = find_lower_value(model_hist.history['loss'])\n",
    "regularization_loss = find_lower_value(model_hist.history['regularization_loss'])"
   ]
  },
  {
   "cell_type": "code",
   "execution_count": 43,
   "metadata": {},
   "outputs": [],
   "source": [
    "mlflow.start_run(experiment_id=experiment.experiment_id)\n",
    "\n",
    "mlflow.log_param(\"epochs\", epochs)\n",
    "mlflow.log_param(\"embedding_dimension\", embedding_dimension)\n",
    "mlflow.log_param(\"learning_rate\", learning_rate)\n",
    "\n",
    "mlflow.log_metric(\"RootMeanSquaredError\", RootMeanSquaredError)\n",
    "mlflow.log_metric(\"Loss\", Loss)\n",
    "mlflow.log_metric(\"Regularization_Loss\", regularization_loss)"
   ]
  },
  {
   "cell_type": "code",
   "execution_count": 44,
   "metadata": {},
   "outputs": [
    {
     "name": "stdout",
     "output_type": "stream",
     "text": [
      "72/72 [==============================] - 12s 56ms/step - root_mean_squared_error: 1.3155 - loss: 1.7300 - regularization_loss: 0.0000e+00 - total_loss: 1.7300\n"
     ]
    }
   ],
   "source": [
    "eval = model.evaluate(cached_test, return_dict=True)"
   ]
  },
  {
   "cell_type": "code",
   "execution_count": 45,
   "metadata": {},
   "outputs": [],
   "source": [
    "mlflow.log_metric(\"y_RootMeanSquaredError\", eval[\"root_mean_squared_error\"])\n",
    "mlflow.log_metric(\"y_Loss\", eval[\"loss\"])\n",
    "mlflow.log_metric(\"y_Regularization_Loss\", eval[\"regularization_loss\"])\n",
    "mlflow.log_param(\"Dropout\", \"0.2\")\n",
    "mlflow.end_run()"
   ]
  },
  {
   "cell_type": "code",
   "execution_count": 46,
   "metadata": {},
   "outputs": [
    {
     "data": {
      "image/png": "[encoded data removed]",
      "text/plain": [
       "<Figure size 640x480 with 1 Axes>"
      ]
     },
     "metadata": {},
     "output_type": "display_data"
    }
   ],
   "source": [
    "plot_loss(model_hist)"
   ]
  },
  {
   "cell_type": "code",
   "execution_count": 47,
   "metadata": {},
   "outputs": [
    {
     "data": {
      "image/png": "[encoded data removed]",
      "text/plain": [
       "<Figure size 640x480 with 1 Axes>"
      ]
     },
     "metadata": {},
     "output_type": "display_data"
    }
   ],
   "source": [
    "plot_metrics(model_hist)"
   ]
  },
  {
   "cell_type": "markdown",
   "metadata": {},
   "source": [
    "# Some manual test"
   ]
  },
  {
   "cell_type": "code",
   "execution_count": 48,
   "metadata": {},
   "outputs": [],
   "source": [
    "# unique_reviewerID[15488]"
   ]
  },
  {
   "cell_type": "code",
   "execution_count": 49,
   "metadata": {},
   "outputs": [],
   "source": [
    "# user_rand = unique_reviewerID[123]\n",
    "# test_rating = {}\n",
    "# for m in test.take(5):   \n",
    "#     test_rating[m[\"asin\"].numpy()] = RankingModel()(tf.convert_to_tensor([user_rand]),tf.convert_to_tensor([m[\"asin\"]]))"
   ]
  },
  {
   "cell_type": "code",
   "execution_count": 50,
   "metadata": {},
   "outputs": [],
   "source": [
    "# print(\"Top 5 recommended products for User {}: \".format(user_rand))\n",
    "\n",
    "# for m in sorted(test_rating, key=test_rating.get, reverse=True):\n",
    "#     print(m.decode())"
   ]
  }
 ],
 "metadata": {
  "kernelspec": {
   "display_name": "Factored_Datathon",
   "language": "python",
   "name": "python3"
  },
  "language_info": {
   "codemirror_mode": {
    "name": "ipython",
    "version": 3
   },
   "file_extension": ".py",
   "mimetype": "text/x-python",
   "name": "python",
   "nbconvert_exporter": "python",
   "pygments_lexer": "ipython3",
   "version": "3.10.12"
  },
  "orig_nbformat": 4
 },
 "nbformat": 4,
 "nbformat_minor": 2
}
