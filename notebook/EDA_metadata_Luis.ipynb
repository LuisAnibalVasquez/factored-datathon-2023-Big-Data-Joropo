{
 "cells": [
  {
   "cell_type": "code",
   "execution_count": 121,
   "metadata": {},
   "outputs": [],
   "source": [
    "import polars as pol"
   ]
  },
  {
   "cell_type": "code",
   "execution_count": 122,
   "metadata": {},
   "outputs": [],
   "source": [
    "with pol.Config() as cfg:\n",
    "    cfg.set_tbl_cols(5)\n",
    "    cfg.set_tbl_rows(5)"
   ]
  },
  {
   "cell_type": "markdown",
   "metadata": {},
   "source": [
    "# Load parquet files"
   ]
  },
  {
   "cell_type": "code",
   "execution_count": 123,
   "metadata": {},
   "outputs": [],
   "source": [
    "df_metadata = pol.read_parquet(\"../data/raw/metadata1.parquet\", \n",
    "                      columns=[\"asin\",\"brand\",\"category\", \"date\", \"main_cat\", \"price\",\"rank\", \"title\", \"image\"], \n",
    "                      n_rows=50)"
   ]
  },
  {
   "cell_type": "markdown",
   "metadata": {},
   "source": [
    "# Functions"
   ]
  },
  {
   "cell_type": "code",
   "execution_count": 138,
   "metadata": {},
   "outputs": [],
   "source": [
    "def save_file(df, t):\n",
    "    p = str.format(\"../data/processed/{}.json\", t)\n",
    "    df.write_json(p)"
   ]
  },
  {
   "cell_type": "markdown",
   "metadata": {},
   "source": [
    "# EDA"
   ]
  },
  {
   "cell_type": "code",
   "execution_count": 125,
   "metadata": {},
   "outputs": [
    {
     "name": "stdout",
     "output_type": "stream",
     "text": [
      "(50, 9)\n",
      "<class 'polars.dataframe.frame.DataFrame'>\n"
     ]
    }
   ],
   "source": [
    "print(df_metadata.shape)\n",
    "print(type(df_metadata))"
   ]
  },
  {
   "cell_type": "code",
   "execution_count": 126,
   "metadata": {},
   "outputs": [
    {
     "data": {
      "text/html": [
       "<div><style>\n",
       ".dataframe > thead > tr > th,\n",
       ".dataframe > tbody > tr > td {\n",
       "  text-align: right;\n",
       "}\n",
       "</style>\n",
       "<small>shape: (5, 9)</small><table border=\"1\" class=\"dataframe\"><thead><tr><th>asin</th><th>brand</th><th>category</th><th>date</th><th>main_cat</th><th>price</th><th>rank</th><th>title</th><th>image</th></tr><tr><td>str</td><td>str</td><td>list[str]</td><td>str</td><td>str</td><td>str</td><td>str</td><td>str</td><td>list[str]</td></tr></thead><tbody><tr><td>&quot;7293005946&quot;</td><td>&quot;BSK Eyewear&quot;</td><td>[&quot;Clothing, Shoes &amp; Jewelry&quot;, &quot;Women&quot;, … &quot;Sunglasses&quot;]</td><td>&quot;&quot;</td><td>&quot;Sports &amp; Outdo…</td><td>&quot;&quot;</td><td>&quot;4,044,815 in S…</td><td>&quot;BSK Eyewear Un…</td><td>[&quot;https://images-na.ssl-images-amazon.com/images/I/3176Crl-QuL._SS40_.jpg&quot;]</td></tr><tr><td>&quot;6319781610&quot;</td><td>&quot;Alion&quot;</td><td>[&quot;Clothing, Shoes &amp; Jewelry&quot;, &quot;Women&quot;, … &quot;US Medium=China X-Large:Length:70.47&quot;(179cm),Bust:38.58&quot;(98cm),Waist:33.86&quot;(86cm),Hip:42.13&quot;(107cm)&quot;]</td><td>&quot;&lt;div class=&quot;a-…</td><td>&quot;&lt;img src=&quot;http…</td><td>&quot;$24.88 - $26.8…</td><td>&quot;14,151,913 in …</td><td>&quot;Alion Women Cl…</td><td>[&quot;https://images-na.ssl-images-amazon.com/images/I/41uCeNnYHeL._SR38,50_.jpg&quot;, &quot;https://images-na.ssl-images-amazon.com/images/I/61Yf6nfUAyL._SR38,50_.jpg&quot;]</td></tr><tr><td>&quot;6342506256&quot;</td><td>&quot;Gaok&quot;</td><td>[&quot;Clothing, Shoes &amp; Jewelry&quot;, &quot;Men&quot;, … &quot;For detailed size information from PRODUCT DESCRIPTION before ordering and choose fits size&quot;]</td><td>&quot;&lt;div class=&quot;a-…</td><td>&quot;&lt;img src=&quot;http…</td><td>&quot;$26.99&quot;</td><td>&quot;2,877,972 in C…</td><td>&quot;Gaok Men&#x27;s Ret…</td><td>[&quot;https://images-na.ssl-images-amazon.com/images/I/61yKRB3EJIL._SR38,50_.jpg&quot;, &quot;https://images-na.ssl-images-amazon.com/images/I/615X5QZ99ML._SR38,50_.jpg&quot;, … &quot;https://images-na.ssl-images-amazon.com/images/I/41VCKEGXC3L._SX38_SY50_CR,0,0,38,50_.jpg&quot;]</td></tr><tr><td>&quot;634252209X&quot;</td><td>&quot;OLO&quot;</td><td>[&quot;Clothing, Shoes &amp; Jewelry&quot;, &quot;Women&quot;, … &quot;Sunglasses&quot;]</td><td>&quot;&quot;</td><td>&quot;Sports &amp; Outdo…</td><td>&quot;$3.29&quot;</td><td>&quot;936,295 in Spo…</td><td>&quot;Crazy Explosio…</td><td>[&quot;https://images-na.ssl-images-amazon.com/images/I/31HV7SFXkhL._SS40_.jpg&quot;, &quot;https://images-na.ssl-images-amazon.com/images/I/41ot2OsJ8TL._SS40_.jpg&quot;, … &quot;https://images-na.ssl-images-amazon.com/images/I/41hN2%2BUjIyL._SS36_.jpg&quot;]</td></tr><tr><td>&quot;7482782788&quot;</td><td>&quot;Gifts by Lulee…</td><td>[&quot;Clothing, Shoes &amp; Jewelry&quot;, &quot;Men&quot;, … &quot;plus another 18 inches extra&quot;]</td><td>&quot;Gifts by Lulee…</td><td>&quot;&lt;img src=&quot;http…</td><td>&quot;$10.99&quot;</td><td>&quot;6,425,160 in C…</td><td>&quot;Unisex Genuine…</td><td>[&quot;https://images-na.ssl-images-amazon.com/images/I/61wjN%2BdpnEL._US40_.jpg&quot;]</td></tr></tbody></table></div>"
      ],
      "text/plain": [
       "shape: (5, 9)\n",
       "┌───────────┬───────────┬───────────┬───────────┬───┬───────────┬───────────┬───────────┬──────────┐\n",
       "│ asin      ┆ brand     ┆ category  ┆ date      ┆ … ┆ price     ┆ rank      ┆ title     ┆ image    │\n",
       "│ ---       ┆ ---       ┆ ---       ┆ ---       ┆   ┆ ---       ┆ ---       ┆ ---       ┆ ---      │\n",
       "│ str       ┆ str       ┆ list[str] ┆ str       ┆   ┆ str       ┆ str       ┆ str       ┆ list[str │\n",
       "│           ┆           ┆           ┆           ┆   ┆           ┆           ┆           ┆ ]        │\n",
       "╞═══════════╪═══════════╪═══════════╪═══════════╪═══╪═══════════╪═══════════╪═══════════╪══════════╡\n",
       "│ 729300594 ┆ BSK       ┆ [\"Clothin ┆           ┆ … ┆           ┆ 4,044,815 ┆ BSK       ┆ [\"https: │\n",
       "│ 6         ┆ Eyewear   ┆ g, Shoes  ┆           ┆   ┆           ┆ in Sports ┆ Eyewear   ┆ //images │\n",
       "│           ┆           ┆ &         ┆           ┆   ┆           ┆ &         ┆ Unisex    ┆ -na.ssl- │\n",
       "│           ┆           ┆ Jewelry\", ┆           ┆   ┆           ┆ Outdoors  ┆ (Mens /   ┆ images-a │\n",
       "│           ┆           ┆ \"W…       ┆           ┆   ┆           ┆ (         ┆ Womes…    ┆ …        │\n",
       "│ 631978161 ┆ Alion     ┆ [\"Clothin ┆ <div clas ┆ … ┆ $24.88 -  ┆ 14,151,91 ┆ Alion     ┆ [\"https: │\n",
       "│ 0         ┆           ┆ g, Shoes  ┆ s=\"a-fixe ┆   ┆ $26.88    ┆ 3 in      ┆ Women     ┆ //images │\n",
       "│           ┆           ┆ &         ┆ d-left-gr ┆   ┆           ┆ Clothing, ┆ Classic   ┆ -na.ssl- │\n",
       "│           ┆           ┆ Jewelry\", ┆ id a-…    ┆   ┆           ┆ Shoes & … ┆ Sexy      ┆ images-a │\n",
       "│           ┆           ┆ \"W…       ┆           ┆   ┆           ┆           ┆ Plunge …  ┆ …        │\n",
       "│ 634250625 ┆ Gaok      ┆ [\"Clothin ┆ <div clas ┆ … ┆ $26.99    ┆ 2,877,972 ┆ Gaok      ┆ [\"https: │\n",
       "│ 6         ┆           ┆ g, Shoes  ┆ s=\"a-fixe ┆   ┆           ┆ in        ┆ Men's     ┆ //images │\n",
       "│           ┆           ┆ &         ┆ d-left-gr ┆   ┆           ┆ Clothing, ┆ Retro     ┆ -na.ssl- │\n",
       "│           ┆           ┆ Jewelry\", ┆ id a-…    ┆   ┆           ┆ Shoes &   ┆ Cotton    ┆ images-a │\n",
       "│           ┆           ┆ \"M…       ┆           ┆   ┆           ┆ J…        ┆ Multi-Po… ┆ …        │\n",
       "│ 634252209 ┆ OLO       ┆ [\"Clothin ┆           ┆ … ┆ $3.29     ┆ 936,295   ┆ Crazy Exp ┆ [\"https: │\n",
       "│ X         ┆           ┆ g, Shoes  ┆           ┆   ┆           ┆ in Sports ┆ losion-pr ┆ //images │\n",
       "│           ┆           ┆ &         ┆           ┆   ┆           ┆ &         ┆ oof Lens  ┆ -na.ssl- │\n",
       "│           ┆           ┆ Jewelry\", ┆           ┆   ┆           ┆ Outdoors  ┆ Polar…    ┆ images-a │\n",
       "│           ┆           ┆ \"W…       ┆           ┆   ┆           ┆ (         ┆           ┆ …        │\n",
       "│ 748278278 ┆ Gifts by  ┆ [\"Clothin ┆ Gifts by  ┆ … ┆ $10.99    ┆ 6,425,160 ┆ Unisex    ┆ [\"https: │\n",
       "│ 8         ┆ Lulee,    ┆ g, Shoes  ┆ Lulee,    ┆   ┆           ┆ in        ┆ Genuine   ┆ //images │\n",
       "│           ┆ LLC       ┆ &         ┆ LLC       ┆   ┆           ┆ Clothing, ┆ Cowrie    ┆ -na.ssl- │\n",
       "│           ┆           ┆ Jewelry\", ┆           ┆   ┆           ┆ Shoes &   ┆ and Wood  ┆ images-a │\n",
       "│           ┆           ┆ \"M…       ┆           ┆   ┆           ┆ J…        ┆ S…        ┆ …        │\n",
       "└───────────┴───────────┴───────────┴───────────┴───┴───────────┴───────────┴───────────┴──────────┘"
      ]
     },
     "execution_count": 126,
     "metadata": {},
     "output_type": "execute_result"
    }
   ],
   "source": [
    "df_metadata.sample(5)"
   ]
  },
  {
   "cell_type": "markdown",
   "metadata": {},
   "source": [
    "# Preprocessing and feature generation"
   ]
  },
  {
   "cell_type": "code",
   "execution_count": 127,
   "metadata": {},
   "outputs": [
    {
     "data": {
      "text/html": [
       "<div><style>\n",
       ".dataframe > thead > tr > th,\n",
       ".dataframe > tbody > tr > td {\n",
       "  text-align: right;\n",
       "}\n",
       "</style>\n",
       "<small>shape: (2, 9)</small><table border=\"1\" class=\"dataframe\"><thead><tr><th>asin</th><th>brand</th><th>date</th><th>main_cat</th><th>price</th><th>rank</th><th>title</th><th>cant_image</th><th>cant_category</th></tr><tr><td>str</td><td>str</td><td>str</td><td>str</td><td>str</td><td>str</td><td>str</td><td>u32</td><td>u32</td></tr></thead><tbody><tr><td>&quot;6342520577&quot;</td><td>&quot;Y-BIN&quot;</td><td>&quot;&lt;div class=&quot;a-…</td><td>&quot;&lt;img src=&quot;http…</td><td>&quot;$7.99&quot;</td><td>&quot;3,644,131 in C…</td><td>&quot;Y-BIN Women&#x27;s …</td><td>3</td><td>9</td></tr><tr><td>&quot;7293005946&quot;</td><td>&quot;BSK Eyewear&quot;</td><td>&quot;&quot;</td><td>&quot;Sports &amp; Outdo…</td><td>&quot;&quot;</td><td>&quot;4,044,815 in S…</td><td>&quot;BSK Eyewear Un…</td><td>1</td><td>5</td></tr></tbody></table></div>"
      ],
      "text/plain": [
       "shape: (2, 9)\n",
       "┌───────────┬───────────┬───────────┬───────────┬───┬───────────┬───────────┬───────────┬──────────┐\n",
       "│ asin      ┆ brand     ┆ date      ┆ main_cat  ┆ … ┆ rank      ┆ title     ┆ cant_imag ┆ cant_cat │\n",
       "│ ---       ┆ ---       ┆ ---       ┆ ---       ┆   ┆ ---       ┆ ---       ┆ e         ┆ egory    │\n",
       "│ str       ┆ str       ┆ str       ┆ str       ┆   ┆ str       ┆ str       ┆ ---       ┆ ---      │\n",
       "│           ┆           ┆           ┆           ┆   ┆           ┆           ┆ u32       ┆ u32      │\n",
       "╞═══════════╪═══════════╪═══════════╪═══════════╪═══╪═══════════╪═══════════╪═══════════╪══════════╡\n",
       "│ 634252057 ┆ Y-BIN     ┆ <div clas ┆ <img src= ┆ … ┆ 3,644,131 ┆ Y-BIN     ┆ 3         ┆ 9        │\n",
       "│ 7         ┆           ┆ s=\"a-fixe ┆ \"https:// ┆   ┆ in        ┆ Women's   ┆           ┆          │\n",
       "│           ┆           ┆ d-left-gr ┆ images-na ┆   ┆ Clothing, ┆ Capri     ┆           ┆          │\n",
       "│           ┆           ┆ id a-…    ┆ .ssl-…    ┆   ┆ Shoes &   ┆ Tights    ┆           ┆          │\n",
       "│           ┆           ┆           ┆           ┆   ┆ J…        ┆ leggi…    ┆           ┆          │\n",
       "│ 729300594 ┆ BSK       ┆           ┆ Sports &  ┆ … ┆ 4,044,815 ┆ BSK       ┆ 1         ┆ 5        │\n",
       "│ 6         ┆ Eyewear   ┆           ┆ Outdoors  ┆   ┆ in Sports ┆ Eyewear   ┆           ┆          │\n",
       "│           ┆           ┆           ┆           ┆   ┆ &         ┆ Unisex    ┆           ┆          │\n",
       "│           ┆           ┆           ┆           ┆   ┆ Outdoors  ┆ (Mens /   ┆           ┆          │\n",
       "│           ┆           ┆           ┆           ┆   ┆ (         ┆ Womes…    ┆           ┆          │\n",
       "└───────────┴───────────┴───────────┴───────────┴───┴───────────┴───────────┴───────────┴──────────┘"
      ]
     },
     "execution_count": 127,
     "metadata": {},
     "output_type": "execute_result"
    }
   ],
   "source": [
    "# Primero se cuentan cuantas imagenes tiene el producto y la cantidad de categorias a las que esta asociado\n",
    "# luego se eliminan las columnas IMAGE y CATEGORY\n",
    "\n",
    "df_metadata = df_metadata.with_columns(( pol.col(\"image\").list.lengths()).alias(\"cant_image\")).drop(\"image\")\n",
    "df_metadata = df_metadata.with_columns(( pol.col(\"category\").list.lengths()).alias(\"cant_category\")).drop(\"category\")\n",
    "df_metadata.sample(2)"
   ]
  },
  {
   "cell_type": "code",
   "execution_count": 128,
   "metadata": {},
   "outputs": [
    {
     "data": {
      "text/html": [
       "<div><style>\n",
       ".dataframe > thead > tr > th,\n",
       ".dataframe > tbody > tr > td {\n",
       "  text-align: right;\n",
       "}\n",
       "</style>\n",
       "<small>shape: (3, 10)</small><table border=\"1\" class=\"dataframe\"><thead><tr><th>asin</th><th>brand</th><th>date</th><th>main_cat</th><th>price</th><th>rank</th><th>title</th><th>cant_image</th><th>cant_category</th><th>cant_star_from_date</th></tr><tr><td>str</td><td>str</td><td>str</td><td>str</td><td>str</td><td>str</td><td>str</td><td>u32</td><td>u32</td><td>str</td></tr></thead><tbody><tr><td>&quot;6342502315&quot;</td><td>&quot;Crazy&quot;</td><td>&quot;&lt;div class=&quot;a-…</td><td>&quot;&lt;img src=&quot;http…</td><td>&quot;$0.50&quot;</td><td>&quot;273,519 in Clo…</td><td>&quot;Crazy Women&#x27;s …</td><td>11</td><td>8</td><td>&quot;2&quot;</td></tr><tr><td>&quot;7293005946&quot;</td><td>&quot;BSK Eyewear&quot;</td><td>&quot;&quot;</td><td>&quot;Sports &amp; Outdo…</td><td>&quot;&quot;</td><td>&quot;4,044,815 in S…</td><td>&quot;BSK Eyewear Un…</td><td>1</td><td>5</td><td>null</td></tr><tr><td>&quot;6342523002&quot;</td><td>&quot;FQQ&quot;</td><td>&quot;&lt;div class=&quot;a-…</td><td>&quot;&lt;img src=&quot;http…</td><td>&quot;$4.50&quot;</td><td>&quot;1,761,440 in C…</td><td>&quot;FQQ Women&#x27;s Se…</td><td>3</td><td>12</td><td>&quot;2&quot;</td></tr></tbody></table></div>"
      ],
      "text/plain": [
       "shape: (3, 10)\n",
       "┌───────────┬───────────┬───────────┬───────────┬───┬───────────┬───────────┬───────────┬──────────┐\n",
       "│ asin      ┆ brand     ┆ date      ┆ main_cat  ┆ … ┆ title     ┆ cant_imag ┆ cant_cate ┆ cant_sta │\n",
       "│ ---       ┆ ---       ┆ ---       ┆ ---       ┆   ┆ ---       ┆ e         ┆ gory      ┆ r_from_d │\n",
       "│ str       ┆ str       ┆ str       ┆ str       ┆   ┆ str       ┆ ---       ┆ ---       ┆ ate      │\n",
       "│           ┆           ┆           ┆           ┆   ┆           ┆ u32       ┆ u32       ┆ ---      │\n",
       "│           ┆           ┆           ┆           ┆   ┆           ┆           ┆           ┆ str      │\n",
       "╞═══════════╪═══════════╪═══════════╪═══════════╪═══╪═══════════╪═══════════╪═══════════╪══════════╡\n",
       "│ 634250231 ┆ Crazy     ┆ <div clas ┆ <img src= ┆ … ┆ Crazy     ┆ 11        ┆ 8         ┆ 2        │\n",
       "│ 5         ┆           ┆ s=\"a-fixe ┆ \"https:// ┆   ┆ Women's   ┆           ┆           ┆          │\n",
       "│           ┆           ┆ d-left-gr ┆ images-na ┆   ┆ Voile     ┆           ┆           ┆          │\n",
       "│           ┆           ┆ id a-…    ┆ .ssl-…    ┆   ┆ Crinkle   ┆           ┆           ┆          │\n",
       "│           ┆           ┆           ┆           ┆   ┆ Scar…     ┆           ┆           ┆          │\n",
       "│ 729300594 ┆ BSK       ┆           ┆ Sports &  ┆ … ┆ BSK       ┆ 1         ┆ 5         ┆ null     │\n",
       "│ 6         ┆ Eyewear   ┆           ┆ Outdoors  ┆   ┆ Eyewear   ┆           ┆           ┆          │\n",
       "│           ┆           ┆           ┆           ┆   ┆ Unisex    ┆           ┆           ┆          │\n",
       "│           ┆           ┆           ┆           ┆   ┆ (Mens /   ┆           ┆           ┆          │\n",
       "│           ┆           ┆           ┆           ┆   ┆ Womes…    ┆           ┆           ┆          │\n",
       "│ 634252300 ┆ FQQ       ┆ <div clas ┆ <img src= ┆ … ┆ FQQ       ┆ 3         ┆ 12        ┆ 2        │\n",
       "│ 2         ┆           ┆ s=\"a-fixe ┆ \"https:// ┆   ┆ Women's   ┆           ┆           ┆          │\n",
       "│           ┆           ┆ d-left-gr ┆ images-na ┆   ┆ Sexy      ┆           ┆           ┆          │\n",
       "│           ┆           ┆ id a-…    ┆ .ssl-…    ┆   ┆ Lingerie  ┆           ┆           ┆          │\n",
       "│           ┆           ┆           ┆           ┆   ┆ Babydo…   ┆           ┆           ┆          │\n",
       "└───────────┴───────────┴───────────┴───────────┴───┴───────────┴───────────┴───────────┴──────────┘"
      ]
     },
     "execution_count": 128,
     "metadata": {},
     "output_type": "execute_result"
    }
   ],
   "source": [
    "# de la columna DATE se extrae la unica info que me parece util y se borra todo el HTML existente, la info util\n",
    "# es basicamente un ranking algo como 5 star 4 star 3 star y si consecutivamente\n",
    "df_metadata = df_metadata.with_columns(( pol.col(\"date\").str.extract(r\"[0-5]\", 0))\n",
    "                                       .alias(\"cant_star_from_date\")) #.drop(\"date\")\n",
    "df_metadata.sample(3)\n"
   ]
  },
  {
   "cell_type": "code",
   "execution_count": 129,
   "metadata": {},
   "outputs": [
    {
     "data": {
      "text/html": [
       "<div><style>\n",
       ".dataframe > thead > tr > th,\n",
       ".dataframe > tbody > tr > td {\n",
       "  text-align: right;\n",
       "}\n",
       "</style>\n",
       "<small>shape: (3, 11)</small><table border=\"1\" class=\"dataframe\"><thead><tr><th>asin</th><th>brand</th><th>date</th><th>main_cat</th><th>price</th><th>rank</th><th>title</th><th>cant_image</th><th>cant_category</th><th>cant_star_from_date</th><th>main_category_clean</th></tr><tr><td>str</td><td>str</td><td>str</td><td>str</td><td>str</td><td>str</td><td>str</td><td>u32</td><td>u32</td><td>str</td><td>str</td></tr></thead><tbody><tr><td>&quot;6319781610&quot;</td><td>&quot;Alion&quot;</td><td>&quot;&lt;div class=&quot;a-…</td><td>&quot;&lt;img src=&quot;http…</td><td>&quot;$24.88 - $26.8…</td><td>&quot;14,151,913 in …</td><td>&quot;Alion Women Cl…</td><td>2</td><td>9</td><td>&quot;2&quot;</td><td>&quot;&quot;</td></tr><tr><td>&quot;6976380817&quot;</td><td>&quot;Suncolor8&quot;</td><td>&quot;&lt;div class=&quot;a-…</td><td>&quot;&lt;img src=&quot;http…</td><td>&quot;$6.36 - $8.66&quot;</td><td>&quot;[]&quot;</td><td>&quot;Suncolor8 Wome…</td><td>4</td><td>10</td><td>&quot;2&quot;</td><td>&quot;&quot;</td></tr><tr><td>&quot;6342510598&quot;</td><td>&quot;MengK&quot;</td><td>&quot;&lt;div class=&quot;a-…</td><td>&quot;&lt;img src=&quot;http…</td><td>&quot;&quot;</td><td>&quot;11,233,196 in …</td><td>&quot;MENGK Womens D…</td><td>2</td><td>4</td><td>&quot;2&quot;</td><td>&quot;&quot;</td></tr></tbody></table></div>"
      ],
      "text/plain": [
       "shape: (3, 11)\n",
       "┌───────────┬───────────┬───────────┬───────────┬───┬───────────┬───────────┬───────────┬──────────┐\n",
       "│ asin      ┆ brand     ┆ date      ┆ main_cat  ┆ … ┆ cant_imag ┆ cant_cate ┆ cant_star ┆ main_cat │\n",
       "│ ---       ┆ ---       ┆ ---       ┆ ---       ┆   ┆ e         ┆ gory      ┆ _from_dat ┆ egory_cl │\n",
       "│ str       ┆ str       ┆ str       ┆ str       ┆   ┆ ---       ┆ ---       ┆ e         ┆ ean      │\n",
       "│           ┆           ┆           ┆           ┆   ┆ u32       ┆ u32       ┆ ---       ┆ ---      │\n",
       "│           ┆           ┆           ┆           ┆   ┆           ┆           ┆ str       ┆ str      │\n",
       "╞═══════════╪═══════════╪═══════════╪═══════════╪═══╪═══════════╪═══════════╪═══════════╪══════════╡\n",
       "│ 631978161 ┆ Alion     ┆ <div clas ┆ <img src= ┆ … ┆ 2         ┆ 9         ┆ 2         ┆          │\n",
       "│ 0         ┆           ┆ s=\"a-fixe ┆ \"https:// ┆   ┆           ┆           ┆           ┆          │\n",
       "│           ┆           ┆ d-left-gr ┆ images-na ┆   ┆           ┆           ┆           ┆          │\n",
       "│           ┆           ┆ id a-…    ┆ .ssl-…    ┆   ┆           ┆           ┆           ┆          │\n",
       "│ 697638081 ┆ Suncolor8 ┆ <div clas ┆ <img src= ┆ … ┆ 4         ┆ 10        ┆ 2         ┆          │\n",
       "│ 7         ┆           ┆ s=\"a-fixe ┆ \"https:// ┆   ┆           ┆           ┆           ┆          │\n",
       "│           ┆           ┆ d-left-gr ┆ images-na ┆   ┆           ┆           ┆           ┆          │\n",
       "│           ┆           ┆ id a-…    ┆ .ssl-…    ┆   ┆           ┆           ┆           ┆          │\n",
       "│ 634251059 ┆ MengK     ┆ <div clas ┆ <img src= ┆ … ┆ 2         ┆ 4         ┆ 2         ┆          │\n",
       "│ 8         ┆           ┆ s=\"a-fixe ┆ \"https:// ┆   ┆           ┆           ┆           ┆          │\n",
       "│           ┆           ┆ d-left-gr ┆ images-na ┆   ┆           ┆           ┆           ┆          │\n",
       "│           ┆           ┆ id a-…    ┆ .ssl-…    ┆   ┆           ┆           ┆           ┆          │\n",
       "└───────────┴───────────┴───────────┴───────────┴───┴───────────┴───────────┴───────────┴──────────┘"
      ]
     },
     "execution_count": 129,
     "metadata": {},
     "output_type": "execute_result"
    }
   ],
   "source": [
    "# en la columna MAIN_CAT se elimina todo el HTML existente ya que como tal no dice nada acerca de la categoria a la que pertenece\n",
    "df_metadata = df_metadata.with_columns(( pol.col(\"main_cat\").str.replace(r\"^<.*$\", \"\") )\n",
    "                                       .alias(\"main_category_clean\")) #.drop(\"main_cat\")\n",
    "df_metadata.sample(3)\n",
    "\n",
    "\n",
    "# si la columna main_cat lo que tiene e HTML basicamente lo cambia por un espacio en blanco ya que como tal no hay categoria \n",
    "# en ese caso habria que ver de donde se obtiene esa categoria para ser usada\n",
    "# o\n",
    "# si vamos a centrarnos solo en una sola categoria este problema se evitaria por completo ya que \n",
    "# todos los records deberian venir con ese campo válido"
   ]
  },
  {
   "cell_type": "code",
   "execution_count": 164,
   "metadata": {},
   "outputs": [
    {
     "data": {
      "text/html": [
       "<div><style>\n",
       ".dataframe > thead > tr > th,\n",
       ".dataframe > tbody > tr > td {\n",
       "  text-align: right;\n",
       "}\n",
       "</style>\n",
       "<small>shape: (3, 12)</small><table border=\"1\" class=\"dataframe\"><thead><tr><th>asin</th><th>brand</th><th>date</th><th>main_cat</th><th>price</th><th>rank</th><th>title</th><th>cant_image</th><th>cant_category</th><th>cant_star_from_date</th><th>main_category_clean</th><th>clean_rank</th></tr><tr><td>str</td><td>str</td><td>str</td><td>str</td><td>str</td><td>str</td><td>str</td><td>u32</td><td>u32</td><td>str</td><td>str</td><td>str</td></tr></thead><tbody><tr><td>&quot;7304678828&quot;</td><td>&quot;Jdress&quot;</td><td>&quot;&lt;div class=&quot;a-…</td><td>&quot;&lt;img src=&quot;http…</td><td>&quot;$89.99&quot;</td><td>&quot;5,376,665 in C…</td><td>&quot;Jdress Women&#x27;s…</td><td>18</td><td>9</td><td>&quot;2&quot;</td><td>&quot;&quot;</td><td>&quot;5,376,665&quot;</td></tr><tr><td>&quot;6665559769&quot;</td><td>&quot;Honchosfx&quot;</td><td>&quot;&lt;div class=&quot;a-…</td><td>&quot;&lt;img src=&quot;http…</td><td>&quot;$21.74&quot;</td><td>&quot;598,919 in Clo…</td><td>&quot;Honchosfx Mens…</td><td>2</td><td>13</td><td>&quot;2&quot;</td><td>&quot;&quot;</td><td>&quot;598,919&quot;</td></tr><tr><td>&quot;6338750458&quot;</td><td>&quot;F ARMAF&quot;</td><td>&quot;&quot;</td><td>&quot;Amazon Home&quot;</td><td>&quot;$29.74&quot;</td><td>&quot;[&quot;&gt;#236,120 in…</td><td>&quot;Armaf Club De …</td><td>0</td><td>7</td><td>null</td><td>&quot;Amazon Home&quot;</td><td>&quot;236,120&quot;</td></tr></tbody></table></div>"
      ],
      "text/plain": [
       "shape: (3, 12)\n",
       "┌───────────┬───────────┬───────────┬───────────┬───┬───────────┬───────────┬───────────┬──────────┐\n",
       "│ asin      ┆ brand     ┆ date      ┆ main_cat  ┆ … ┆ cant_cate ┆ cant_star ┆ main_cate ┆ clean_ra │\n",
       "│ ---       ┆ ---       ┆ ---       ┆ ---       ┆   ┆ gory      ┆ _from_dat ┆ gory_clea ┆ nk       │\n",
       "│ str       ┆ str       ┆ str       ┆ str       ┆   ┆ ---       ┆ e         ┆ n         ┆ ---      │\n",
       "│           ┆           ┆           ┆           ┆   ┆ u32       ┆ ---       ┆ ---       ┆ str      │\n",
       "│           ┆           ┆           ┆           ┆   ┆           ┆ str       ┆ str       ┆          │\n",
       "╞═══════════╪═══════════╪═══════════╪═══════════╪═══╪═══════════╪═══════════╪═══════════╪══════════╡\n",
       "│ 730467882 ┆ Jdress    ┆ <div clas ┆ <img src= ┆ … ┆ 9         ┆ 2         ┆           ┆ 5,376,66 │\n",
       "│ 8         ┆           ┆ s=\"a-fixe ┆ \"https:// ┆   ┆           ┆           ┆           ┆ 5        │\n",
       "│           ┆           ┆ d-left-gr ┆ images-na ┆   ┆           ┆           ┆           ┆          │\n",
       "│           ┆           ┆ id a-…    ┆ .ssl-…    ┆   ┆           ┆           ┆           ┆          │\n",
       "│ 666555976 ┆ Honchosfx ┆ <div clas ┆ <img src= ┆ … ┆ 13        ┆ 2         ┆           ┆ 598,919  │\n",
       "│ 9         ┆           ┆ s=\"a-fixe ┆ \"https:// ┆   ┆           ┆           ┆           ┆          │\n",
       "│           ┆           ┆ d-left-gr ┆ images-na ┆   ┆           ┆           ┆           ┆          │\n",
       "│           ┆           ┆ id a-…    ┆ .ssl-…    ┆   ┆           ┆           ┆           ┆          │\n",
       "│ 633875045 ┆ F ARMAF   ┆           ┆ Amazon    ┆ … ┆ 7         ┆ null      ┆ Amazon    ┆ 236,120  │\n",
       "│ 8         ┆           ┆           ┆ Home      ┆   ┆           ┆           ┆ Home      ┆          │\n",
       "└───────────┴───────────┴───────────┴───────────┴───┴───────────┴───────────┴───────────┴──────────┘"
      ]
     },
     "execution_count": 164,
     "metadata": {},
     "output_type": "execute_result"
    }
   ],
   "source": [
    "#extraer el ranking de la columna rank\n",
    "df_metadata = df_metadata.with_columns(( pol.col(\"rank\").str.extract(r\"[0-9,@._-]+\", 0))\n",
    "                                       .alias(\"clean_rank\")) #.drop(\"main_cat\")\n",
    "df_metadata.sample(3)"
   ]
  },
  {
   "cell_type": "markdown",
   "metadata": {},
   "source": [
    "# Save temp file"
   ]
  },
  {
   "cell_type": "code",
   "execution_count": 139,
   "metadata": {},
   "outputs": [],
   "source": [
    "#save_file(df_metadata, 'tmp_metadata')"
   ]
  }
 ],
 "metadata": {
  "kernelspec": {
   "display_name": "Factored_Datathon",
   "language": "python",
   "name": "python3"
  },
  "language_info": {
   "codemirror_mode": {
    "name": "ipython",
    "version": 3
   },
   "file_extension": ".py",
   "mimetype": "text/x-python",
   "name": "python",
   "nbconvert_exporter": "python",
   "pygments_lexer": "ipython3",
   "version": "3.10.12"
  },
  "orig_nbformat": 4
 },
 "nbformat": 4,
 "nbformat_minor": 2
}
