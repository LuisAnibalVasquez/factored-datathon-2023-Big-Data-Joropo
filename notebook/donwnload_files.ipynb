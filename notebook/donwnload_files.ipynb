{
 "cells": [
  {
   "cell_type": "code",
   "execution_count": null,
   "metadata": {},
   "outputs": [],
   "source": [
    "import os, uuid, sys\n",
    "import pandas as pd\n",
    "\n",
    "from azure.storage.filedatalake import DataLakeServiceClient\n"
   ]
  },
  {
   "cell_type": "markdown",
   "metadata": {},
   "source": [
    "# Azure DataLake service variables"
   ]
  },
  {
   "cell_type": "code",
   "execution_count": null,
   "metadata": {},
   "outputs": [],
   "source": [
    "STORAGE_ACCOUNT= \"safactoreddatathon\" \n",
    "CONTAINER = \"source-files\"\n",
    "METADATA = \"amazon_metadata\"\n",
    "REVIEW = \"amazon_reviews\"\n",
    "SAS_TOKEN = \"sp=r&st=2023-07-21T22:27:46Z&se=2023-08-19T06:27:46Z&sv=2022-11-02&sr=c&sig=VF6y7LwGSmTHpKbOwGhy6DKUxn5HYZTK4wuvA22Q%2FWI%3D\""
   ]
  },
  {
   "cell_type": "markdown",
   "metadata": {},
   "source": [
    "# Functions"
   ]
  },
  {
   "cell_type": "code",
   "execution_count": 153,
   "metadata": {},
   "outputs": [],
   "source": [
    "def download_and_save(p_file_name, p_file_client):\n",
    "    download = p_file_client.download_file()\n",
    "    with open(\"../data/raw/{}.json\".format(p_file_name), 'wb') as stream:\n",
    "        download.readinto(stream)    "
   ]
  },
  {
   "cell_type": "markdown",
   "metadata": {},
   "source": [
    "# Download the files"
   ]
  },
  {
   "cell_type": "code",
   "execution_count": 155,
   "metadata": {},
   "outputs": [],
   "source": [
    "service_client = DataLakeServiceClient(account_url=\"{}://{}.blob.core.windows.net\".format(\"https\",STORAGE_ACCOUNT), \n",
    "                                       credential=SAS_TOKEN)"
   ]
  },
  {
   "cell_type": "code",
   "execution_count": 156,
   "metadata": {},
   "outputs": [],
   "source": [
    "file_system_client = service_client.get_file_system_client(file_system=CONTAINER)"
   ]
  },
  {
   "cell_type": "code",
   "execution_count": null,
   "metadata": {},
   "outputs": [],
   "source": [
    "file_client = file_system_client.get_file_client(REVIEW)\n",
    "download_and_save(REVIEW, file_client)"
   ]
  },
  {
   "cell_type": "code",
   "execution_count": null,
   "metadata": {},
   "outputs": [],
   "source": [
    "file_client = file_system_client.get_file_client(METADATA_FILE)\n",
    "download_and_save(METADATA_FILE, file_client)"
   ]
  }
 ],
 "metadata": {
  "kernelspec": {
   "display_name": "Factored_Datathon",
   "language": "python",
   "name": "python3"
  },
  "language_info": {
   "codemirror_mode": {
    "name": "ipython",
    "version": 3
   },
   "file_extension": ".py",
   "mimetype": "text/x-python",
   "name": "python",
   "nbconvert_exporter": "python",
   "pygments_lexer": "ipython3",
   "version": "3.10.12"
  },
  "orig_nbformat": 4
 },
 "nbformat": 4,
 "nbformat_minor": 2
}
