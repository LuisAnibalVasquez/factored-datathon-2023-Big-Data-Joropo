{
 "cells": [
  {
   "cell_type": "code",
   "execution_count": 1,
   "metadata": {},
   "outputs": [],
   "source": [
    "import pandas as pd\n",
    "import polars as pol\n",
    "import parquet as pq"
   ]
  },
  {
   "cell_type": "code",
   "execution_count": 2,
   "metadata": {},
   "outputs": [],
   "source": [
    "data = pol.read_parquet(\"../data/raw/metadata1.parquet\")"
   ]
  },
  {
   "cell_type": "code",
   "execution_count": 4,
   "metadata": {},
   "outputs": [
    {
     "data": {
      "text/html": [
       "<div><style>\n",
       ".dataframe > thead > tr > th,\n",
       ".dataframe > tbody > tr > td {\n",
       "  text-align: right;\n",
       "}\n",
       "</style>\n",
       "<small>shape: (1, 57)</small><table border=\"1\" class=\"dataframe\"><thead><tr><th>also_buy</th><th>also_view</th><th>asin</th><th>brand</th><th>category</th><th>date</th><th>description</th><th>feature</th><th>fit</th><th>image</th><th>main_cat</th><th>price</th><th>rank</th><th>similar_item</th><th>tech1</th><th>tech2</th><th>title</th><th>details.ASIN: </th><th>details.Shipping Weight:</th><th>details.\n",
       "    Package Dimensions: \n",
       "    </th><th>details.ISBN-10:</th><th>details.ISBN-13:</th><th>details.Language:</th><th>details.Paperback:</th><th>details.Publisher:</th><th>details.\n",
       "    Product Dimensions: \n",
       "    </th><th>details.\n",
       "    Item Weight: \n",
       "    </th><th>details.Item model number:</th><th>details.Discontinued by manufacturer:</th><th>details.Domestic Shipping: </th><th>details.International Shipping: </th><th>details.UPC:</th><th>details.ASIN:</th><th>details.Audio CD</th><th>details.Label:</th><th>details.Number of Discs:</th><th>details.Batteries</th><th>details.Shipping Advisory:</th><th>details.Pamphlet:</th><th>details.Spiral-bound:</th><th>details.Original Release Date:</th><th>details.Run Time:</th><th>details.SPARS Code:</th><th>details.Staple Bound:</th><th>details.Subtitles:</th><th>details.Vinyl</th><th>details.File Size:</th><th>details.Lending:</th><th>details.Print Length:</th><th>details.Publication Date:</th><th>details.Simultaneous Device Usage:</th><th>details.Word Wise:</th><th>details.Plastic Comb:</th><th>details. UNSPSC Code:</th><th>details.Audio Cassette</th><th>details. Date first listed on Amazon:</th><th>details.Hardcover:</th></tr><tr><td>list[str]</td><td>list[str]</td><td>str</td><td>str</td><td>list[str]</td><td>str</td><td>list[str]</td><td>list[str]</td><td>str</td><td>list[str]</td><td>str</td><td>str</td><td>str</td><td>str</td><td>str</td><td>str</td><td>str</td><td>str</td><td>str</td><td>str</td><td>str</td><td>str</td><td>str</td><td>str</td><td>str</td><td>str</td><td>str</td><td>str</td><td>str</td><td>str</td><td>str</td><td>str</td><td>str</td><td>str</td><td>str</td><td>str</td><td>str</td><td>str</td><td>str</td><td>str</td><td>str</td><td>str</td><td>str</td><td>str</td><td>str</td><td>str</td><td>str</td><td>str</td><td>str</td><td>str</td><td>str</td><td>str</td><td>str</td><td>str</td><td>str</td><td>str</td><td>str</td></tr></thead><tbody><tr><td>[]</td><td>[]</td><td>&quot;B000AAWU7G&quot;</td><td>&quot;Add an Accent&quot;</td><td>[&quot;Patio, Lawn &amp; Garden&quot;, &quot;Outdoor Dcor&quot;, … &quot;Outdoor Statues&quot;]</td><td>&quot;&quot;</td><td>[&quot;3D hand-painted poly-stone ornaments that can be used to decorate plants and arrangements. Display stands are not included and are sold separately.&quot;]</td><td>[&quot;These figurines are based on the works of Fantasy Artist Cicely Mary Barker&quot;, &quot;Licensed by the Estate of Cicely Mary Barker to Add an Accent Inc.&quot;, … &quot;Ranging in Height an Width 2&quot;to 4&quot;&quot;]</td><td>&quot;&quot;</td><td>[]</td><td>&quot;Amazon Home&quot;</td><td>&quot;&quot;</td><td>&quot;[&quot;&gt;#460,967 in…</td><td>&quot;&quot;</td><td>&quot;&quot;</td><td>&quot;&quot;</td><td>&quot;Cicely Mary Ba…</td><td>null</td><td>null</td><td>null</td><td>null</td><td>null</td><td>null</td><td>null</td><td>null</td><td>null</td><td>null</td><td>null</td><td>null</td><td>null</td><td>null</td><td>null</td><td>null</td><td>null</td><td>null</td><td>null</td><td>null</td><td>null</td><td>null</td><td>null</td><td>null</td><td>null</td><td>null</td><td>null</td><td>null</td><td>null</td><td>null</td><td>null</td><td>null</td><td>null</td><td>null</td><td>null</td><td>null</td><td>null</td><td>null</td><td>null</td><td>null</td></tr></tbody></table></div>"
      ],
      "text/plain": [
       "shape: (1, 57)\n",
       "┌───────────┬───────────┬───────────┬───────────┬───┬───────────┬───────────┬───────────┬──────────┐\n",
       "│ also_buy  ┆ also_view ┆ asin      ┆ brand     ┆ … ┆ details.  ┆ details.A ┆ details.  ┆ details. │\n",
       "│ ---       ┆ ---       ┆ ---       ┆ ---       ┆   ┆ UNSPSC    ┆ udio      ┆ Date      ┆ Hardcove │\n",
       "│ list[str] ┆ list[str] ┆ str       ┆ str       ┆   ┆ Code:     ┆ Cassette  ┆ first     ┆ r:       │\n",
       "│           ┆           ┆           ┆           ┆   ┆ ---       ┆ ---       ┆ listed on ┆ ---      │\n",
       "│           ┆           ┆           ┆           ┆   ┆ str       ┆ str       ┆ Am…       ┆ str      │\n",
       "│           ┆           ┆           ┆           ┆   ┆           ┆           ┆ ---       ┆          │\n",
       "│           ┆           ┆           ┆           ┆   ┆           ┆           ┆ str       ┆          │\n",
       "╞═══════════╪═══════════╪═══════════╪═══════════╪═══╪═══════════╪═══════════╪═══════════╪══════════╡\n",
       "│ []        ┆ []        ┆ B000AAWU7 ┆ Add an    ┆ … ┆ null      ┆ null      ┆ null      ┆ null     │\n",
       "│           ┆           ┆ G         ┆ Accent    ┆   ┆           ┆           ┆           ┆          │\n",
       "└───────────┴───────────┴───────────┴───────────┴───┴───────────┴───────────┴───────────┴──────────┘"
      ]
     },
     "execution_count": 4,
     "metadata": {},
     "output_type": "execute_result"
    }
   ],
   "source": [
    "data.sample(1)"
   ]
  },
  {
   "cell_type": "code",
   "execution_count": 8,
   "metadata": {},
   "outputs": [
    {
     "data": {
      "text/plain": [
       "<bound method DataFrame.describe of shape: (990_000, 57)\n",
       "┌───────────┬───────────┬───────────┬───────────┬───┬───────────┬───────────┬───────────┬──────────┐\n",
       "│ also_buy  ┆ also_view ┆ asin      ┆ brand     ┆ … ┆ details.  ┆ details.A ┆ details.  ┆ details. │\n",
       "│ ---       ┆ ---       ┆ ---       ┆ ---       ┆   ┆ UNSPSC    ┆ udio      ┆ Date      ┆ Hardcove │\n",
       "│ list[str] ┆ list[str] ┆ str       ┆ str       ┆   ┆ Code:     ┆ Cassette  ┆ first     ┆ r:       │\n",
       "│           ┆           ┆           ┆           ┆   ┆ ---       ┆ ---       ┆ listed on ┆ ---      │\n",
       "│           ┆           ┆           ┆           ┆   ┆ str       ┆ str       ┆ Am…       ┆ str      │\n",
       "│           ┆           ┆           ┆           ┆   ┆           ┆           ┆ ---       ┆          │\n",
       "│           ┆           ┆           ┆           ┆   ┆           ┆           ┆ str       ┆          │\n",
       "╞═══════════╪═══════════╪═══════════╪═══════════╪═══╪═══════════╪═══════════╪═══════════╪══════════╡\n",
       "│ []        ┆ []        ┆ 630512186 ┆ Ninasill_ ┆ … ┆ null      ┆ null      ┆ null      ┆ null     │\n",
       "│           ┆           ┆ 9         ┆ Blouse    ┆   ┆           ┆           ┆           ┆          │\n",
       "│ []        ┆ []        ┆ 631870805 ┆ Coolred-W ┆ … ┆ null      ┆ null      ┆ null      ┆ null     │\n",
       "│           ┆           ┆ 7         ┆ omen      ┆   ┆           ┆           ┆           ┆          │\n",
       "│ []        ┆ [\"B07CRJ9 ┆ 634250625 ┆ Gaok      ┆ … ┆ null      ┆ null      ┆ null      ┆ null     │\n",
       "│           ┆ 5M7\", \"B0 ┆ 6         ┆           ┆   ┆           ┆           ┆           ┆          │\n",
       "│           ┆ 08AHISU4\" ┆           ┆           ┆   ┆           ┆           ┆           ┆          │\n",
       "│           ┆ , … \"…    ┆           ┆           ┆   ┆           ┆           ┆           ┆          │\n",
       "│ [\"B077GQQ ┆ [\"B07H2Z6 ┆ 634250937 ┆ QIBOE     ┆ … ┆ null      ┆ null      ┆ null      ┆ null     │\n",
       "│ KRV\", \"B0 ┆ S9J\", \"B0 ┆ 9         ┆           ┆   ┆           ┆           ┆           ┆          │\n",
       "│ 7CBJQTF6\" ┆ 77GQQKRV\" ┆           ┆           ┆   ┆           ┆           ┆           ┆          │\n",
       "│ , … \"…    ┆ , … \"…    ┆           ┆           ┆   ┆           ┆           ┆           ┆          │\n",
       "│ …         ┆ …         ┆ …         ┆ …         ┆ … ┆ …         ┆ …         ┆ …         ┆ …        │\n",
       "│ [\"B01LXI3 ┆ []        ┆ B00KHZ250 ┆ Crews     ┆ … ┆ null      ┆ null      ┆ null      ┆ null     │\n",
       "│ F4A\", \"B0 ┆           ┆ G         ┆           ┆   ┆           ┆           ┆           ┆          │\n",
       "│ 0AQMOR7O\" ┆           ┆           ┆           ┆   ┆           ┆           ┆           ┆          │\n",
       "│ , … \"…    ┆           ┆           ┆           ┆   ┆           ┆           ┆           ┆          │\n",
       "│ []        ┆ []        ┆ B00KHYVNR ┆ Waterpik  ┆ … ┆ null      ┆ null      ┆ null      ┆ null     │\n",
       "│           ┆           ┆ S         ┆           ┆   ┆           ┆           ┆           ┆          │\n",
       "│ []        ┆ [\"B000LNQ ┆ B00KHZAUN ┆ Oatey     ┆ … ┆ null      ┆ null      ┆ null      ┆ null     │\n",
       "│           ┆ XG6\", \"B0 ┆ 0         ┆           ┆   ┆           ┆           ┆           ┆          │\n",
       "│           ┆ 0PB9DZLQ\" ┆           ┆           ┆   ┆           ┆           ┆           ┆          │\n",
       "│           ┆ , … \"…    ┆           ┆           ┆   ┆           ┆           ┆           ┆          │\n",
       "│ []        ┆ []        ┆ B00KHZ8KF ┆ LUCKY     ┆ … ┆ null      ┆ null      ┆ null      ┆ null     │\n",
       "│           ┆           ┆ A         ┆ GIRL      ┆   ┆           ┆           ┆           ┆          │\n",
       "│           ┆           ┆           ┆ DECALS    ┆   ┆           ┆           ┆           ┆          │\n",
       "└───────────┴───────────┴───────────┴───────────┴───┴───────────┴───────────┴───────────┴──────────┘>"
      ]
     },
     "execution_count": 8,
     "metadata": {},
     "output_type": "execute_result"
    }
   ],
   "source": [
    "data.describe"
   ]
  },
  {
   "cell_type": "code",
   "execution_count": null,
   "metadata": {},
   "outputs": [],
   "source": []
  }
 ],
 "metadata": {
  "kernelspec": {
   "display_name": "Factored_Datathon",
   "language": "python",
   "name": "python3"
  },
  "language_info": {
   "codemirror_mode": {
    "name": "ipython",
    "version": 3
   },
   "file_extension": ".py",
   "mimetype": "text/x-python",
   "name": "python",
   "nbconvert_exporter": "python",
   "pygments_lexer": "ipython3",
   "version": "3.10.12"
  },
  "orig_nbformat": 4
 },
 "nbformat": 4,
 "nbformat_minor": 2
}
