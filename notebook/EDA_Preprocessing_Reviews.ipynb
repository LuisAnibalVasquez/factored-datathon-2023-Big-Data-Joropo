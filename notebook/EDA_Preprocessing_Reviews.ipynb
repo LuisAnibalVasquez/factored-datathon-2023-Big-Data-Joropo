{
 "cells": [
  {
   "cell_type": "code",
   "execution_count": 374,
   "metadata": {},
   "outputs": [],
   "source": [
    "import os\n",
    "import re\n",
    "import nltk\n",
    "import string\n",
    "import polars as pl\n",
    "import transformers\n",
    "\n",
    "from textblob import TextBlob\n",
    "from nltk.corpus import stopwords\n",
    "from nltk.stem import WordNetLemmatizer\n",
    "from nltk.stem.porter import PorterStemmer\n",
    "\n",
    "from sklearn.preprocessing import OneHotEncoder\n",
    "from sklearn.model_selection import train_test_split\n",
    "\n",
    "from transformers import (TextClassificationPipeline)"
   ]
  },
  {
   "cell_type": "markdown",
   "metadata": {},
   "source": [
    "# Variable definition for NLP"
   ]
  },
  {
   "cell_type": "code",
   "execution_count": 375,
   "metadata": {},
   "outputs": [],
   "source": [
    "tokenizer_name = \"distilbert-base-uncased\"\n",
    "model_name = \"distilbert-base-uncased-finetuned-sst-2-english\"\n",
    "\n",
    "stops = set(stopwords.words('english'))\n",
    "lemmatizer = WordNetLemmatizer()\n",
    "ps = PorterStemmer()\n",
    "only_english = set(nltk.corpus.words.words())"
   ]
  },
  {
   "cell_type": "markdown",
   "metadata": {},
   "source": [
    "# List all reviews parquet files to be loaded"
   ]
  },
  {
   "cell_type": "code",
   "execution_count": 376,
   "metadata": {},
   "outputs": [
    {
     "name": "stdout",
     "output_type": "stream",
     "text": [
      "['reviews1.parquet', 'reviews2.parquet']\n"
     ]
    }
   ],
   "source": [
    "path = '../data/raw/reviews'\n",
    "with os.scandir(path) as reviewFiles:\n",
    "    reviewFiles = [file.name for file in reviewFiles if file.is_file()]\n",
    "print(reviewFiles)"
   ]
  },
  {
   "cell_type": "markdown",
   "metadata": {},
   "source": [
    "# Functions"
   ]
  },
  {
   "cell_type": "code",
   "execution_count": 377,
   "metadata": {},
   "outputs": [],
   "source": [
    "def correct_text(text, stem=False, lemma=False, spell=False):\n",
    "    if lemma and stem:\n",
    "        raise Exception('Either stem or lemma can be true, not both!')\n",
    "        return text\n",
    "    \n",
    "    sample = text\n",
    "    \n",
    "    #removing stopwords\n",
    "    sample = sample.lower()\n",
    "    sample = [word for word in sample.split() if not word in stops]\n",
    "    sample = ' '.join(sample)\n",
    "    \n",
    "    if lemma:\n",
    "        sample = sample.split()\n",
    "        sample = [lemmatizer.lemmatize(word) for word in sample]\n",
    "        sample = ' '.join(sample)\n",
    "        \n",
    "    if stem:\n",
    "        sample = sample.split()\n",
    "        sample = [ps.stem(word) for word in sample]\n",
    "        sample = ' '.join(sample)\n",
    "    \n",
    "    if spell:\n",
    "        sample = str(TextBlob(text).correct())\n",
    "    \n",
    "    return sample"
   ]
  },
  {
   "cell_type": "code",
   "execution_count": 378,
   "metadata": {},
   "outputs": [],
   "source": [
    "def clean_text(text):\n",
    "    \n",
    "    sample = text\n",
    "    sample = \" \".join([x.lower() for x in sample.split()])\n",
    "    sample = re.sub(r\"\\S*https?:\\S*\", '', sample) #links and urls\n",
    "    sample = re.sub('\\[.*?\\]', '', sample) #text between [square brackets]\n",
    "    sample = re.sub('\\(.*?\\)', '', sample) #text between (parenthesis)\n",
    "    sample = re.sub('[%s]' % re.escape(string.punctuation), '', sample) #punctuations\n",
    "    sample = re.sub('\\w*\\d\\w', '', sample) #digits with trailing or preceeding text\n",
    "    sample = re.sub(r'\\n', ' ', sample) #new line character\n",
    "    sample = re.sub(r'\\\\n', ' ', sample) #new line character\n",
    "    sample = re.sub(\"[''\"\"...“”‘’…]\", '', sample) #list of quotation marks\n",
    "    sample = re.sub(r', /<[^>]+>/', '', sample)    #HTML attributes\n",
    "    \n",
    "    sample = ' '.join([w for w in nltk.wordpunct_tokenize(sample) if w.lower() in only_english or not w.isalpha()]) #doesn't remove indian languages\n",
    "    sample = ' '.join(list(filter(lambda ele: re.search(\"[a-zA-Z\\s]+\", ele) is not None, sample.split()))) #languages other than english\n",
    "    \n",
    "    sample = re.compile(\"[\"\n",
    "                               u\"\\U0001F600-\\U0001F64F\"  # emoticons\n",
    "                               u\"\\U0001F300-\\U0001F5FF\"  # symbols & pictographs\n",
    "                               u\"\\U0001F680-\\U0001F6FF\"  # transport & map symbols\n",
    "                               u\"\\U0001F1E0-\\U0001F1FF\"  # flags (iOS)\n",
    "                               u\"\\U00002500-\\U00002BEF\"  # chinese char\n",
    "                               u\"\\U00002702-\\U000027B0\"\n",
    "                               u\"\\U00002702-\\U000027B0\"\n",
    "                               u\"\\U000024C2-\\U0001F251\"\n",
    "                               u\"\\U0001f926-\\U0001f937\"\n",
    "                               u\"\\U00010000-\\U0010ffff\"\n",
    "                               u\"\\u2640-\\u2642\"\n",
    "                               u\"\\u2600-\\u2B55\"\n",
    "                               u\"\\u200d\"\n",
    "                               u\"\\u23cf\"\n",
    "                               u\"\\u23e9\"\n",
    "                               u\"\\u231a\"\n",
    "                               u\"\\ufe0f\"  # dingbats\n",
    "                               u\"\\u3030\"\n",
    "                               \"]+\", flags=re.UNICODE).sub(r'', sample) #emojis and symbols\n",
    "    sample = sample.strip()\n",
    "    sample = \" \".join([x.strip() for x in sample.split()])\n",
    "    \n",
    "    return sample"
   ]
  },
  {
   "cell_type": "code",
   "execution_count": 379,
   "metadata": {},
   "outputs": [],
   "source": [
    "def get_sentiment(r):\n",
    "    tokenizer = transformers.DistilBertTokenizerFast.from_pretrained(tokenizer_name)\n",
    "    trn = transformers.DistilBertForSequenceClassification.from_pretrained(model_name).cpu()\n",
    "    pipe = TextClassificationPipeline(model=trn, tokenizer=tokenizer, return_all_scores=True)\n",
    "    sentiment = pipe(r)\n",
    "    neg = sentiment[0][0]\n",
    "    pos = sentiment[0][1]\n",
    "    return neg['score'], pos['score']\n"
   ]
  },
  {
   "cell_type": "markdown",
   "metadata": {},
   "source": [
    "# Load all parquet files in the directory"
   ]
  },
  {
   "cell_type": "code",
   "execution_count": 380,
   "metadata": {},
   "outputs": [
    {
     "name": "stdout",
     "output_type": "stream",
     "text": [
      "reading ../data/raw/reviews/reviews1.parquet\n",
      "Adding...\n",
      "reading ../data/raw/reviews/reviews2.parquet\n",
      "Adding...\n"
     ]
    }
   ],
   "source": [
    "df = pl.DataFrame()\n",
    "for f in reviewFiles:\n",
    "    n = str.format(\"../data/raw/reviews/{}\", f)\n",
    "    print(\"reading \" + n)\n",
    "\n",
    "    df_aux = pl.read_parquet(n, n_rows=5).drop([\"asin\", \"reviewerID\", \"reviewerName\", \"unixReviewTime\", \"style\", \"vote\", \"image\"])\n",
    "\n",
    "    print(\"Adding...\")\n",
    "    df = df.vstack(df_aux)\n",
    "    n = \"\"\n"
   ]
  },
  {
   "cell_type": "code",
   "execution_count": 381,
   "metadata": {},
   "outputs": [
    {
     "data": {
      "text/html": [
       "<div><style>\n",
       ".dataframe > thead > tr > th,\n",
       ".dataframe > tbody > tr > td {\n",
       "  text-align: right;\n",
       "}\n",
       "</style>\n",
       "<small>shape: (5, 4)</small><table border=\"1\" class=\"dataframe\"><thead><tr><th>overall</th><th>reviewText</th><th>summary</th><th>verified</th></tr><tr><td>str</td><td>str</td><td>str</td><td>str</td></tr></thead><tbody><tr><td>&quot;5.0&quot;</td><td>&quot;Crazy Taxi is …</td><td>&quot;It&#x27;s Party Tim…</td><td>&quot;false&quot;</td></tr><tr><td>&quot;4.0&quot;</td><td>&quot;I love these p…</td><td>&quot;Durable, good …</td><td>&quot;true&quot;</td></tr><tr><td>&quot;2.0&quot;</td><td>&quot;Anyone who has…</td><td>&quot;A fun game tha…</td><td>&quot;false&quot;</td></tr><tr><td>&quot;5.0&quot;</td><td>&quot;Great pants an…</td><td>&quot;Great Product&quot;</td><td>&quot;true&quot;</td></tr><tr><td>&quot;4.0&quot;</td><td>&quot;In this game y…</td><td>&quot;Fun and Entert…</td><td>&quot;false&quot;</td></tr></tbody></table></div>"
      ],
      "text/plain": [
       "shape: (5, 4)\n",
       "┌─────────┬───────────────────────────────────┬───────────────────────────────────┬──────────┐\n",
       "│ overall ┆ reviewText                        ┆ summary                           ┆ verified │\n",
       "│ ---     ┆ ---                               ┆ ---                               ┆ ---      │\n",
       "│ str     ┆ str                               ┆ str                               ┆ str      │\n",
       "╞═════════╪═══════════════════════════════════╪═══════════════════════════════════╪══════════╡\n",
       "│ 5.0     ┆ Crazy Taxi is by far one of the … ┆ It's Party Time! Let's Have Some… ┆ false    │\n",
       "│ 4.0     ┆ I love these pants!               ┆ Durable, good looking slacks at … ┆ true     │\n",
       "│         ┆                                   ┆                                   ┆          │\n",
       "│         ┆ For those o…                      ┆                                   ┆          │\n",
       "│ 2.0     ┆ Anyone who hasn't played this ga… ┆ A fun game that gets old too qui… ┆ false    │\n",
       "│ 5.0     ┆ Great pants and nice crease.      ┆ Great Product                     ┆ true     │\n",
       "│ 4.0     ┆ In this game you choose a driver… ┆ Fun and Entertaining              ┆ false    │\n",
       "└─────────┴───────────────────────────────────┴───────────────────────────────────┴──────────┘"
      ]
     },
     "execution_count": 381,
     "metadata": {},
     "output_type": "execute_result"
    }
   ],
   "source": [
    "df.head()"
   ]
  },
  {
   "cell_type": "markdown",
   "metadata": {},
   "source": [
    "# Preprocessing"
   ]
  },
  {
   "cell_type": "code",
   "execution_count": 382,
   "metadata": {},
   "outputs": [
    {
     "data": {
      "text/html": [
       "<div><style>\n",
       ".dataframe > thead > tr > th,\n",
       ".dataframe > tbody > tr > td {\n",
       "  text-align: right;\n",
       "}\n",
       "</style>\n",
       "<small>shape: (1, 4)</small><table border=\"1\" class=\"dataframe\"><thead><tr><th>overall</th><th>reviewText</th><th>summary</th><th>verified</th></tr><tr><td>str</td><td>str</td><td>str</td><td>str</td></tr></thead><tbody><tr><td>&quot;5.0&quot;</td><td>&quot;This is a most…</td><td>&quot;Very unique id…</td><td>&quot;false&quot;</td></tr></tbody></table></div>"
      ],
      "text/plain": [
       "shape: (1, 4)\n",
       "┌─────────┬───────────────────────────────────┬──────────────────┬──────────┐\n",
       "│ overall ┆ reviewText                        ┆ summary          ┆ verified │\n",
       "│ ---     ┆ ---                               ┆ ---              ┆ ---      │\n",
       "│ str     ┆ str                               ┆ str              ┆ str      │\n",
       "╞═════════╪═══════════════════════════════════╪══════════════════╪══════════╡\n",
       "│ 5.0     ┆ This is a most unusual book.  It… ┆ Very unique idea ┆ false    │\n",
       "└─────────┴───────────────────────────────────┴──────────────────┴──────────┘"
      ]
     },
     "execution_count": 382,
     "metadata": {},
     "output_type": "execute_result"
    }
   ],
   "source": [
    "# se cambia el tipo de datos de la colu,na overall\n",
    "df.with_columns([pl.col(\"overall\").cast(pl.Float64)])\n",
    "df.sample(1)"
   ]
  },
  {
   "cell_type": "code",
   "execution_count": 383,
   "metadata": {},
   "outputs": [
    {
     "data": {
      "text/html": [
       "<div><style>\n",
       ".dataframe > thead > tr > th,\n",
       ".dataframe > tbody > tr > td {\n",
       "  text-align: right;\n",
       "}\n",
       "</style>\n",
       "<small>shape: (1, 6)</small><table border=\"1\" class=\"dataframe\"><thead><tr><th>overall</th><th>reviewText</th><th>summary</th><th>verified</th><th>cant_words_in_review</th><th>cant_words_in_sumary</th></tr><tr><td>str</td><td>str</td><td>str</td><td>str</td><td>i64</td><td>i64</td></tr></thead><tbody><tr><td>&quot;5.0&quot;</td><td>&quot;This is a most…</td><td>&quot;Very unique id…</td><td>&quot;false&quot;</td><td>56</td><td>3</td></tr></tbody></table></div>"
      ],
      "text/plain": [
       "shape: (1, 6)\n",
       "┌─────────┬───────────────────┬──────────────────┬──────────┬───────────────────┬──────────────────┐\n",
       "│ overall ┆ reviewText        ┆ summary          ┆ verified ┆ cant_words_in_rev ┆ cant_words_in_su │\n",
       "│ ---     ┆ ---               ┆ ---              ┆ ---      ┆ iew               ┆ mary             │\n",
       "│ str     ┆ str               ┆ str              ┆ str      ┆ ---               ┆ ---              │\n",
       "│         ┆                   ┆                  ┆          ┆ i64               ┆ i64              │\n",
       "╞═════════╪═══════════════════╪══════════════════╪══════════╪═══════════════════╪══════════════════╡\n",
       "│ 5.0     ┆ This is a most    ┆ Very unique idea ┆ false    ┆ 56                ┆ 3                │\n",
       "│         ┆ unusual book.     ┆                  ┆          ┆                   ┆                  │\n",
       "│         ┆ It…               ┆                  ┆          ┆                   ┆                  │\n",
       "└─────────┴───────────────────┴──────────────────┴──────────┴───────────────────┴──────────────────┘"
      ]
     },
     "execution_count": 383,
     "metadata": {},
     "output_type": "execute_result"
    }
   ],
   "source": [
    "# nuevas columnas numericas\n",
    "df = df.with_columns(( pl.col(\"reviewText\").apply(lambda x: len(str(x).split(\" \")) ) ).alias(\"cant_words_in_review\"))\n",
    "df = df.with_columns(( pl.col(\"summary\").apply(lambda x: len(str(x).split(\" \")) ) ).alias(\"cant_words_in_sumary\"))\n",
    "df.sample(1)\n"
   ]
  },
  {
   "cell_type": "markdown",
   "metadata": {},
   "source": [
    "# Prepare review column to determinate the sentiment"
   ]
  },
  {
   "cell_type": "code",
   "execution_count": 384,
   "metadata": {},
   "outputs": [
    {
     "data": {
      "text/html": [
       "<div><style>\n",
       ".dataframe > thead > tr > th,\n",
       ".dataframe > tbody > tr > td {\n",
       "  text-align: right;\n",
       "}\n",
       "</style>\n",
       "<small>shape: (1, 8)</small><table border=\"1\" class=\"dataframe\"><thead><tr><th>overall</th><th>reviewText</th><th>summary</th><th>verified</th><th>cant_words_in_review</th><th>cant_words_in_sumary</th><th>cleaned_text</th><th>correct_text</th></tr><tr><td>str</td><td>str</td><td>str</td><td>str</td><td>i64</td><td>i64</td><td>str</td><td>str</td></tr></thead><tbody><tr><td>&quot;4.0&quot;</td><td>&quot;In this game y…</td><td>&quot;Fun and Entert…</td><td>&quot;false&quot;</td><td>99</td><td>3</td><td>&quot;in this game y…</td><td>&quot;game choose dr…</td></tr></tbody></table></div>"
      ],
      "text/plain": [
       "shape: (1, 8)\n",
       "┌─────────┬────────────┬────────────┬──────────┬────────────┬────────────┬────────────┬────────────┐\n",
       "│ overall ┆ reviewText ┆ summary    ┆ verified ┆ cant_words ┆ cant_words ┆ cleaned_te ┆ correct_te │\n",
       "│ ---     ┆ ---        ┆ ---        ┆ ---      ┆ _in_review ┆ _in_sumary ┆ xt         ┆ xt         │\n",
       "│ str     ┆ str        ┆ str        ┆ str      ┆ ---        ┆ ---        ┆ ---        ┆ ---        │\n",
       "│         ┆            ┆            ┆          ┆ i64        ┆ i64        ┆ str        ┆ str        │\n",
       "╞═════════╪════════════╪════════════╪══════════╪════════════╪════════════╪════════════╪════════════╡\n",
       "│ 4.0     ┆ In this    ┆ Fun and    ┆ false    ┆ 99         ┆ 3          ┆ in this    ┆ game       │\n",
       "│         ┆ game you   ┆ Entertaini ┆          ┆            ┆            ┆ game you   ┆ choose     │\n",
       "│         ┆ choose a   ┆ ng         ┆          ┆            ┆            ┆ choose a   ┆ driver car │\n",
       "│         ┆ driver…    ┆            ┆          ┆            ┆            ┆ driver…    ┆ pick peop… │\n",
       "└─────────┴────────────┴────────────┴──────────┴────────────┴────────────┴────────────┴────────────┘"
      ]
     },
     "execution_count": 384,
     "metadata": {},
     "output_type": "execute_result"
    }
   ],
   "source": [
    "df = df.with_columns(( pl.col(\"reviewText\").apply(lambda x: clean_text(x)) ).alias(\"cleaned_text\"))\n",
    "df = df.with_columns(( pl.col(\"cleaned_text\").apply(lambda x: correct_text(x)) ).alias(\"correct_text\"))\n",
    "df.sample(1)"
   ]
  },
  {
   "cell_type": "markdown",
   "metadata": {},
   "source": [
    "# Determinate sentiment of the review"
   ]
  },
  {
   "cell_type": "code",
   "execution_count": 385,
   "metadata": {},
   "outputs": [
    {
     "name": "stderr",
     "output_type": "stream",
     "text": [
      "c:\\Users\\laptop\\Anaconda3\\envs\\Factored_Datathon\\lib\\site-packages\\transformers\\pipelines\\text_classification.py:104: UserWarning: `return_all_scores` is now deprecated,  if want a similar functionality use `top_k=None` instead of `return_all_scores=True` or `top_k=1` instead of `return_all_scores=False`.\n",
      "  warnings.warn(\n"
     ]
    },
    {
     "data": {
      "text/html": [
       "<div><style>\n",
       ".dataframe > thead > tr > th,\n",
       ".dataframe > tbody > tr > td {\n",
       "  text-align: right;\n",
       "}\n",
       "</style>\n",
       "<small>shape: (1, 9)</small><table border=\"1\" class=\"dataframe\"><thead><tr><th>overall</th><th>reviewText</th><th>summary</th><th>verified</th><th>cant_words_in_review</th><th>cant_words_in_sumary</th><th>cleaned_text</th><th>correct_text</th><th>sentiment</th></tr><tr><td>str</td><td>str</td><td>str</td><td>str</td><td>i64</td><td>i64</td><td>str</td><td>str</td><td>list[f64]</td></tr></thead><tbody><tr><td>&quot;1.0&quot;</td><td>&quot;This was a Chr…</td><td>&quot;I would recomm…</td><td>&quot;false&quot;</td><td>54</td><td>6</td><td>&quot;this was a gif…</td><td>&quot;gift year old …</td><td>[0.927894, 0.072106]</td></tr></tbody></table></div>"
      ],
      "text/plain": [
       "shape: (1, 9)\n",
       "┌─────────┬────────────┬────────────┬──────────┬───┬───────────┬───────────┬───────────┬───────────┐\n",
       "│ overall ┆ reviewText ┆ summary    ┆ verified ┆ … ┆ cant_word ┆ cleaned_t ┆ correct_t ┆ sentiment │\n",
       "│ ---     ┆ ---        ┆ ---        ┆ ---      ┆   ┆ s_in_suma ┆ ext       ┆ ext       ┆ ---       │\n",
       "│ str     ┆ str        ┆ str        ┆ str      ┆   ┆ ry        ┆ ---       ┆ ---       ┆ list[f64] │\n",
       "│         ┆            ┆            ┆          ┆   ┆ ---       ┆ str       ┆ str       ┆           │\n",
       "│         ┆            ┆            ┆          ┆   ┆ i64       ┆           ┆           ┆           │\n",
       "╞═════════╪════════════╪════════════╪══════════╪═══╪═══════════╪═══════════╪═══════════╪═══════════╡\n",
       "│ 1.0     ┆ This was a ┆ I would    ┆ false    ┆ … ┆ 6         ┆ this was  ┆ gift year ┆ [0.927894 │\n",
       "│         ┆ Christmas  ┆ recommend  ┆          ┆   ┆           ┆ a gift    ┆ old       ┆ ,         │\n",
       "│         ┆ gift from  ┆ for adults ┆          ┆   ┆           ┆ from for  ┆ daughter  ┆ 0.072106] │\n",
       "│         ┆ S…         ┆ onl…       ┆          ┆   ┆           ┆ my year…  ┆ didnt     ┆           │\n",
       "│         ┆            ┆            ┆          ┆   ┆           ┆           ┆ wor…      ┆           │\n",
       "└─────────┴────────────┴────────────┴──────────┴───┴───────────┴───────────┴───────────┴───────────┘"
      ]
     },
     "execution_count": 385,
     "metadata": {},
     "output_type": "execute_result"
    }
   ],
   "source": [
    "df = df.with_columns(( pl.col(\"correct_text\").apply(lambda x: get_sentiment(x)) ).alias(\"sentiment\"))\n",
    "df.sample(1)"
   ]
  },
  {
   "cell_type": "code",
   "execution_count": 386,
   "metadata": {},
   "outputs": [
    {
     "data": {
      "text/html": [
       "<div><style>\n",
       ".dataframe > thead > tr > th,\n",
       ".dataframe > tbody > tr > td {\n",
       "  text-align: right;\n",
       "}\n",
       "</style>\n",
       "<small>shape: (2, 11)</small><table border=\"1\" class=\"dataframe\"><thead><tr><th>overall</th><th>reviewText</th><th>summary</th><th>verified</th><th>cant_words_in_review</th><th>cant_words_in_sumary</th><th>cleaned_text</th><th>correct_text</th><th>sentiment</th><th>sentiment_negative</th><th>sentiment_positive</th></tr><tr><td>str</td><td>str</td><td>str</td><td>str</td><td>i64</td><td>i64</td><td>str</td><td>str</td><td>list[f64]</td><td>f64</td><td>f64</td></tr></thead><tbody><tr><td>&quot;5.0&quot;</td><td>&quot;Great pants an…</td><td>&quot;Great Product&quot;</td><td>&quot;true&quot;</td><td>5</td><td>2</td><td>&quot;great pants an…</td><td>&quot;great pants ni…</td><td>[0.000467, 0.999533]</td><td>0.000467</td><td>0.999533</td></tr><tr><td>&quot;4.0&quot;</td><td>&quot;I love these p…</td><td>&quot;Durable, good …</td><td>&quot;true&quot;</td><td>87</td><td>8</td><td>&quot;i love these p…</td><td>&quot;love pants us …</td><td>[0.00074, 0.99926]</td><td>0.00074</td><td>0.99926</td></tr></tbody></table></div>"
      ],
      "text/plain": [
       "shape: (2, 11)\n",
       "┌─────────┬────────────┬────────────┬──────────┬───┬───────────┬───────────┬───────────┬───────────┐\n",
       "│ overall ┆ reviewText ┆ summary    ┆ verified ┆ … ┆ correct_t ┆ sentiment ┆ sentiment ┆ sentiment │\n",
       "│ ---     ┆ ---        ┆ ---        ┆ ---      ┆   ┆ ext       ┆ ---       ┆ _negative ┆ _positive │\n",
       "│ str     ┆ str        ┆ str        ┆ str      ┆   ┆ ---       ┆ list[f64] ┆ ---       ┆ ---       │\n",
       "│         ┆            ┆            ┆          ┆   ┆ str       ┆           ┆ f64       ┆ f64       │\n",
       "╞═════════╪════════════╪════════════╪══════════╪═══╪═══════════╪═══════════╪═══════════╪═══════════╡\n",
       "│ 5.0     ┆ Great      ┆ Great      ┆ true     ┆ … ┆ great     ┆ [0.000467 ┆ 0.000467  ┆ 0.999533  │\n",
       "│         ┆ pants and  ┆ Product    ┆          ┆   ┆ pants     ┆ ,         ┆           ┆           │\n",
       "│         ┆ nice       ┆            ┆          ┆   ┆ nice      ┆ 0.999533] ┆           ┆           │\n",
       "│         ┆ crease.    ┆            ┆          ┆   ┆ crease    ┆           ┆           ┆           │\n",
       "│ 4.0     ┆ I love     ┆ Durable,   ┆ true     ┆ … ┆ love      ┆ [0.00074, ┆ 0.00074   ┆ 0.99926   │\n",
       "│         ┆ these      ┆ good       ┆          ┆   ┆ pants us  ┆ 0.99926]  ┆           ┆           │\n",
       "│         ┆ pants!     ┆ looking    ┆          ┆   ┆ slave     ┆           ┆           ┆           │\n",
       "│         ┆            ┆ slacks at  ┆          ┆   ┆ business  ┆           ┆           ┆           │\n",
       "│         ┆ For those  ┆ …          ┆          ┆   ┆ cas…      ┆           ┆           ┆           │\n",
       "│         ┆ o…         ┆            ┆          ┆   ┆           ┆           ┆           ┆           │\n",
       "└─────────┴────────────┴────────────┴──────────┴───┴───────────┴───────────┴───────────┴───────────┘"
      ]
     },
     "execution_count": 386,
     "metadata": {},
     "output_type": "execute_result"
    }
   ],
   "source": [
    "df = df.with_columns(( pl.col(\"sentiment\").apply(lambda x: x[0]) ).alias(\"sentiment_negative\"))\n",
    "df = df.with_columns(( pl.col(\"sentiment\").apply(lambda x: x[1]) ).alias(\"sentiment_positive\"))\n",
    "df.sample(2)"
   ]
  },
  {
   "cell_type": "code",
   "execution_count": 393,
   "metadata": {},
   "outputs": [
    {
     "name": "stdout",
     "output_type": "stream",
     "text": [
      "<class 'polars.series.series.Series'>\n"
     ]
    },
    {
     "data": {
      "text/html": [
       "<div><style>\n",
       ".dataframe > thead > tr > th,\n",
       ".dataframe > tbody > tr > td {\n",
       "  text-align: right;\n",
       "}\n",
       "</style>\n",
       "<small>shape: (10,)</small><table border=\"1\" class=\"dataframe\"><thead><tr><th>verified</th></tr><tr><td>str</td></tr></thead><tbody><tr><td>&quot;false&quot;</td></tr><tr><td>&quot;true&quot;</td></tr><tr><td>&quot;false&quot;</td></tr><tr><td>&quot;true&quot;</td></tr><tr><td>&quot;false&quot;</td></tr><tr><td>&quot;true&quot;</td></tr><tr><td>&quot;true&quot;</td></tr><tr><td>&quot;false&quot;</td></tr><tr><td>&quot;false&quot;</td></tr><tr><td>&quot;true&quot;</td></tr></tbody></table></div>"
      ],
      "text/plain": [
       "shape: (10,)\n",
       "Series: 'verified' [str]\n",
       "[\n",
       "\t\"false\"\n",
       "\t\"true\"\n",
       "\t\"false\"\n",
       "\t\"true\"\n",
       "\t\"false\"\n",
       "\t\"true\"\n",
       "\t\"true\"\n",
       "\t\"false\"\n",
       "\t\"false\"\n",
       "\t\"true\"\n",
       "]"
      ]
     },
     "execution_count": 393,
     "metadata": {},
     "output_type": "execute_result"
    }
   ],
   "source": [
    "#usar to_dummies de polars"
   ]
  },
  {
   "cell_type": "markdown",
   "metadata": {},
   "source": [
    "# Create X y "
   ]
  },
  {
   "cell_type": "code",
   "execution_count": null,
   "metadata": {},
   "outputs": [],
   "source": [
    "# X = df.drop_in_place([\"overall\", ])\n",
    "# y = df[\"overall\"]"
   ]
  },
  {
   "cell_type": "code",
   "execution_count": null,
   "metadata": {},
   "outputs": [],
   "source": []
  }
 ],
 "metadata": {
  "kernelspec": {
   "display_name": "Factored_Datathon",
   "language": "python",
   "name": "python3"
  },
  "language_info": {
   "codemirror_mode": {
    "name": "ipython",
    "version": 3
   },
   "file_extension": ".py",
   "mimetype": "text/x-python",
   "name": "python",
   "nbconvert_exporter": "python",
   "pygments_lexer": "ipython3",
   "version": "3.10.12"
  },
  "orig_nbformat": 4
 },
 "nbformat": 4,
 "nbformat_minor": 2
}
