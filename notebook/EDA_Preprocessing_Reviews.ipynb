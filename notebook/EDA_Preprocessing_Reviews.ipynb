{
 "cells": [
  {
   "cell_type": "code",
   "execution_count": 142,
   "metadata": {},
   "outputs": [],
   "source": [
    "import os\n",
    "import re\n",
    "import nltk\n",
    "import string\n",
    "import polars as pl\n",
    "import transformers\n",
    "\n",
    "from textblob import TextBlob\n",
    "from nltk.corpus import stopwords\n",
    "from nltk.stem import WordNetLemmatizer\n",
    "from nltk.stem.porter import PorterStemmer\n",
    "\n",
    "from sklearn.preprocessing import OneHotEncoder\n",
    "from sklearn.model_selection import train_test_split\n",
    "\n",
    "from transformers import (TextClassificationPipeline)\n",
    "\n",
    "from statsmodels.stats.outliers_influence import variance_inflation_factor\n",
    "\n",
    "from sklearn.preprocessing import MinMaxScaler"
   ]
  },
  {
   "cell_type": "markdown",
   "metadata": {},
   "source": [
    "# Variable definition for NLP"
   ]
  },
  {
   "cell_type": "code",
   "execution_count": 143,
   "metadata": {},
   "outputs": [
    {
     "name": "stderr",
     "output_type": "stream",
     "text": [
      "c:\\Users\\laptop\\Anaconda3\\envs\\Factored_Datathon\\lib\\site-packages\\transformers\\pipelines\\text_classification.py:104: UserWarning: `return_all_scores` is now deprecated,  if want a similar functionality use `top_k=None` instead of `return_all_scores=True` or `top_k=1` instead of `return_all_scores=False`.\n",
      "  warnings.warn(\n"
     ]
    }
   ],
   "source": [
    "tokenizer_name = \"distilbert-base-uncased\"\n",
    "model_name = \"distilbert-base-uncased-finetuned-sst-2-english\"\n",
    "\n",
    "tokenizer = transformers.DistilBertTokenizerFast.from_pretrained(tokenizer_name)\n",
    "trn = transformers.DistilBertForSequenceClassification.from_pretrained(model_name).cpu()\n",
    "pipe = TextClassificationPipeline(model=trn, tokenizer=tokenizer, return_all_scores=True)\n",
    "\n",
    "stops = set(stopwords.words('english'))\n",
    "lemmatizer = WordNetLemmatizer()\n",
    "ps = PorterStemmer()\n",
    "only_english = set(nltk.corpus.words.words())"
   ]
  },
  {
   "cell_type": "markdown",
   "metadata": {},
   "source": [
    "# List all reviews parquet files to be loaded"
   ]
  },
  {
   "cell_type": "code",
   "execution_count": 144,
   "metadata": {},
   "outputs": [
    {
     "name": "stdout",
     "output_type": "stream",
     "text": [
      "['reviews1.parquet', 'reviews10.parquet', 'reviews11.parquet', 'reviews12.parquet', 'reviews13.parquet', 'reviews14.parquet', 'reviews15.parquet', 'reviews16.parquet', 'reviews2.parquet']\n"
     ]
    }
   ],
   "source": [
    "path = '../data/raw/reviews'\n",
    "with os.scandir(path) as reviewFiles:\n",
    "    reviewFiles = [file.name for file in reviewFiles if file.is_file()]\n",
    "print(reviewFiles)"
   ]
  },
  {
   "cell_type": "markdown",
   "metadata": {},
   "source": [
    "# Functions"
   ]
  },
  {
   "cell_type": "code",
   "execution_count": 145,
   "metadata": {},
   "outputs": [],
   "source": [
    "def correct_text(text, stem=False, lemma=False, spell=False):\n",
    "    if lemma and stem:\n",
    "        raise Exception('Either stem or lemma can be true, not both!')\n",
    "        return text\n",
    "    \n",
    "    sample = text\n",
    "    \n",
    "    #removing stopwords\n",
    "    sample = sample.lower()\n",
    "    sample = [word for word in sample.split() if not word in stops]\n",
    "    sample = ' '.join(sample)\n",
    "    \n",
    "    if lemma:\n",
    "        sample = sample.split()\n",
    "        sample = [lemmatizer.lemmatize(word) for word in sample]\n",
    "        sample = ' '.join(sample)\n",
    "        \n",
    "    if stem:\n",
    "        sample = sample.split()\n",
    "        sample = [ps.stem(word) for word in sample]\n",
    "        sample = ' '.join(sample)\n",
    "    \n",
    "    if spell:\n",
    "        sample = str(TextBlob(text).correct())\n",
    "    \n",
    "    return sample"
   ]
  },
  {
   "cell_type": "code",
   "execution_count": 146,
   "metadata": {},
   "outputs": [],
   "source": [
    "def clean_text(text):\n",
    "    \n",
    "    sample = text\n",
    "    sample = \" \".join([x.lower() for x in sample.split()])\n",
    "    sample = re.sub(r\"\\S*https?:\\S*\", '', sample) #links and urls\n",
    "    sample = re.sub('\\[.*?\\]', '', sample) #text between [square brackets]\n",
    "    sample = re.sub('\\(.*?\\)', '', sample) #text between (parenthesis)\n",
    "    sample = re.sub('[%s]' % re.escape(string.punctuation), '', sample) #punctuations\n",
    "    sample = re.sub('\\w*\\d\\w', '', sample) #digits with trailing or preceeding text\n",
    "    sample = re.sub(r'\\n', ' ', sample) #new line character\n",
    "    sample = re.sub(r'\\\\n', ' ', sample) #new line character\n",
    "    sample = re.sub(\"[''\"\"...“”‘’…]\", '', sample) #list of quotation marks\n",
    "    sample = re.sub(r', /<[^>]+>/', '', sample)    #HTML attributes\n",
    "    \n",
    "    sample = ' '.join([w for w in nltk.wordpunct_tokenize(sample) if w.lower() in only_english or not w.isalpha()]) #doesn't remove indian languages\n",
    "    sample = ' '.join(list(filter(lambda ele: re.search(\"[a-zA-Z\\s]+\", ele) is not None, sample.split()))) #languages other than english\n",
    "    \n",
    "    sample = re.compile(\"[\"\n",
    "                               u\"\\U0001F600-\\U0001F64F\"  # emoticons\n",
    "                               u\"\\U0001F300-\\U0001F5FF\"  # symbols & pictographs\n",
    "                               u\"\\U0001F680-\\U0001F6FF\"  # transport & map symbols\n",
    "                               u\"\\U0001F1E0-\\U0001F1FF\"  # flags (iOS)\n",
    "                               u\"\\U00002500-\\U00002BEF\"  # chinese char\n",
    "                               u\"\\U00002702-\\U000027B0\"\n",
    "                               u\"\\U00002702-\\U000027B0\"\n",
    "                               u\"\\U000024C2-\\U0001F251\"\n",
    "                               u\"\\U0001f926-\\U0001f937\"\n",
    "                               u\"\\U00010000-\\U0010ffff\"\n",
    "                               u\"\\u2640-\\u2642\"\n",
    "                               u\"\\u2600-\\u2B55\"\n",
    "                               u\"\\u200d\"\n",
    "                               u\"\\u23cf\"\n",
    "                               u\"\\u23e9\"\n",
    "                               u\"\\u231a\"\n",
    "                               u\"\\ufe0f\"  # dingbats\n",
    "                               u\"\\u3030\"\n",
    "                               \"]+\", flags=re.UNICODE).sub(r'', sample) #emojis and symbols\n",
    "    sample = sample.strip()\n",
    "    sample = \" \".join([x.strip() for x in sample.split()])\n",
    "    \n",
    "    return sample"
   ]
  },
  {
   "cell_type": "code",
   "execution_count": 147,
   "metadata": {},
   "outputs": [],
   "source": [
    "def get_sentiment(r):\n",
    "    sentiment = pipe(r)\n",
    "    neg = sentiment[0][0]\n",
    "    pos = sentiment[0][1]\n",
    "    return neg['score'], pos['score']\n"
   ]
  },
  {
   "cell_type": "code",
   "execution_count": 148,
   "metadata": {},
   "outputs": [],
   "source": [
    "def min_max_scaling(x, col):\n",
    "    return (x - X[col].min() ) / ( X[col].max() - X[col].min()) "
   ]
  },
  {
   "cell_type": "markdown",
   "metadata": {},
   "source": [
    "# Load all parquet files in the directory"
   ]
  },
  {
   "cell_type": "code",
   "execution_count": 149,
   "metadata": {},
   "outputs": [
    {
     "name": "stdout",
     "output_type": "stream",
     "text": [
      "reading ../data/raw/reviews/reviews1.parquet\n",
      "Adding...../data/raw/reviews/reviews1.parquet\n",
      "reading ../data/raw/reviews/reviews10.parquet\n",
      "Adding...../data/raw/reviews/reviews10.parquet\n",
      "reading ../data/raw/reviews/reviews11.parquet\n",
      "Adding...../data/raw/reviews/reviews11.parquet\n",
      "reading ../data/raw/reviews/reviews12.parquet\n",
      "Adding...../data/raw/reviews/reviews12.parquet\n",
      "reading ../data/raw/reviews/reviews13.parquet\n",
      "Adding...../data/raw/reviews/reviews13.parquet\n",
      "reading ../data/raw/reviews/reviews14.parquet\n",
      "Adding...../data/raw/reviews/reviews14.parquet\n",
      "reading ../data/raw/reviews/reviews15.parquet\n",
      "Adding...../data/raw/reviews/reviews15.parquet\n",
      "reading ../data/raw/reviews/reviews16.parquet\n",
      "Adding...../data/raw/reviews/reviews16.parquet\n",
      "reading ../data/raw/reviews/reviews2.parquet\n",
      "Adding...../data/raw/reviews/reviews2.parquet\n"
     ]
    }
   ],
   "source": [
    "df = pl.DataFrame()\n",
    "for f in reviewFiles:\n",
    "    n = str.format(\"../data/raw/reviews/{}\", f)\n",
    "    print(\"reading \" + n)\n",
    "\n",
    "    df_aux = pl.read_parquet(n, n_rows=3000).drop([\"asin\", \"reviewerID\", \"reviewerName\", \"unixReviewTime\", \"style\", \"vote\", \"image\"])\n",
    "\n",
    "    print(\"Adding...\" + n)\n",
    "    df = df.vstack(df_aux)\n",
    "    n = \"\"\n"
   ]
  },
  {
   "cell_type": "code",
   "execution_count": 150,
   "metadata": {},
   "outputs": [
    {
     "data": {
      "text/html": [
       "<div><style>\n",
       ".dataframe > thead > tr > th,\n",
       ".dataframe > tbody > tr > td {\n",
       "  text-align: right;\n",
       "}\n",
       "</style>\n",
       "<small>shape: (5, 4)</small><table border=\"1\" class=\"dataframe\"><thead><tr><th>overall</th><th>reviewText</th><th>summary</th><th>verified</th></tr><tr><td>str</td><td>str</td><td>str</td><td>str</td></tr></thead><tbody><tr><td>&quot;5.0&quot;</td><td>&quot;Crazy Taxi is …</td><td>&quot;It&#x27;s Party Tim…</td><td>&quot;false&quot;</td></tr><tr><td>&quot;4.0&quot;</td><td>&quot;I love these p…</td><td>&quot;Durable, good …</td><td>&quot;true&quot;</td></tr><tr><td>&quot;2.0&quot;</td><td>&quot;Anyone who has…</td><td>&quot;A fun game tha…</td><td>&quot;false&quot;</td></tr><tr><td>&quot;5.0&quot;</td><td>&quot;Great pants an…</td><td>&quot;Great Product&quot;</td><td>&quot;true&quot;</td></tr><tr><td>&quot;4.0&quot;</td><td>&quot;In this game y…</td><td>&quot;Fun and Entert…</td><td>&quot;false&quot;</td></tr></tbody></table></div>"
      ],
      "text/plain": [
       "shape: (5, 4)\n",
       "┌─────────┬───────────────────────────────────┬───────────────────────────────────┬──────────┐\n",
       "│ overall ┆ reviewText                        ┆ summary                           ┆ verified │\n",
       "│ ---     ┆ ---                               ┆ ---                               ┆ ---      │\n",
       "│ str     ┆ str                               ┆ str                               ┆ str      │\n",
       "╞═════════╪═══════════════════════════════════╪═══════════════════════════════════╪══════════╡\n",
       "│ 5.0     ┆ Crazy Taxi is by far one of the … ┆ It's Party Time! Let's Have Some… ┆ false    │\n",
       "│ 4.0     ┆ I love these pants!               ┆ Durable, good looking slacks at … ┆ true     │\n",
       "│         ┆                                   ┆                                   ┆          │\n",
       "│         ┆ For those o…                      ┆                                   ┆          │\n",
       "│ 2.0     ┆ Anyone who hasn't played this ga… ┆ A fun game that gets old too qui… ┆ false    │\n",
       "│ 5.0     ┆ Great pants and nice crease.      ┆ Great Product                     ┆ true     │\n",
       "│ 4.0     ┆ In this game you choose a driver… ┆ Fun and Entertaining              ┆ false    │\n",
       "└─────────┴───────────────────────────────────┴───────────────────────────────────┴──────────┘"
      ]
     },
     "execution_count": 150,
     "metadata": {},
     "output_type": "execute_result"
    }
   ],
   "source": [
    "df.head()"
   ]
  },
  {
   "cell_type": "code",
   "execution_count": 151,
   "metadata": {},
   "outputs": [
    {
     "name": "stdout",
     "output_type": "stream",
     "text": [
      "<class 'polars.dataframe.frame.DataFrame'>\n"
     ]
    }
   ],
   "source": [
    "print(type(df))"
   ]
  },
  {
   "cell_type": "code",
   "execution_count": 152,
   "metadata": {},
   "outputs": [
    {
     "data": {
      "text/plain": [
       "(27000, 4)"
      ]
     },
     "execution_count": 152,
     "metadata": {},
     "output_type": "execute_result"
    }
   ],
   "source": [
    "df.shape"
   ]
  },
  {
   "cell_type": "code",
   "execution_count": 153,
   "metadata": {},
   "outputs": [
    {
     "data": {
      "text/html": [
       "<div><style>\n",
       ".dataframe > thead > tr > th,\n",
       ".dataframe > tbody > tr > td {\n",
       "  text-align: right;\n",
       "}\n",
       "</style>\n",
       "<small>shape: (1, 4)</small><table border=\"1\" class=\"dataframe\"><thead><tr><th>overall</th><th>reviewText</th><th>summary</th><th>verified</th></tr><tr><td>u32</td><td>u32</td><td>u32</td><td>u32</td></tr></thead><tbody><tr><td>0</td><td>18</td><td>6</td><td>0</td></tr></tbody></table></div>"
      ],
      "text/plain": [
       "shape: (1, 4)\n",
       "┌─────────┬────────────┬─────────┬──────────┐\n",
       "│ overall ┆ reviewText ┆ summary ┆ verified │\n",
       "│ ---     ┆ ---        ┆ ---     ┆ ---      │\n",
       "│ u32     ┆ u32        ┆ u32     ┆ u32      │\n",
       "╞═════════╪════════════╪═════════╪══════════╡\n",
       "│ 0       ┆ 18         ┆ 6       ┆ 0        │\n",
       "└─────────┴────────────┴─────────┴──────────┘"
      ]
     },
     "execution_count": 153,
     "metadata": {},
     "output_type": "execute_result"
    }
   ],
   "source": [
    "df.null_count()"
   ]
  },
  {
   "cell_type": "code",
   "execution_count": 154,
   "metadata": {},
   "outputs": [],
   "source": [
    "df = df.drop_nulls()"
   ]
  },
  {
   "cell_type": "code",
   "execution_count": 155,
   "metadata": {},
   "outputs": [
    {
     "data": {
      "text/plain": [
       "(26977, 4)"
      ]
     },
     "execution_count": 155,
     "metadata": {},
     "output_type": "execute_result"
    }
   ],
   "source": [
    "df.shape"
   ]
  },
  {
   "cell_type": "markdown",
   "metadata": {},
   "source": [
    "# Preprocessing"
   ]
  },
  {
   "cell_type": "code",
   "execution_count": 156,
   "metadata": {},
   "outputs": [
    {
     "data": {
      "text/html": [
       "<div><style>\n",
       ".dataframe > thead > tr > th,\n",
       ".dataframe > tbody > tr > td {\n",
       "  text-align: right;\n",
       "}\n",
       "</style>\n",
       "<small>shape: (1, 6)</small><table border=\"1\" class=\"dataframe\"><thead><tr><th>overall</th><th>reviewText</th><th>summary</th><th>verified</th><th>cant_words_in_review</th><th>cant_words_in_sumary</th></tr><tr><td>str</td><td>str</td><td>str</td><td>str</td><td>i64</td><td>i64</td></tr></thead><tbody><tr><td>&quot;4.0&quot;</td><td>&quot;The sex parts …</td><td>&quot;Four Stars&quot;</td><td>&quot;true&quot;</td><td>14</td><td>2</td></tr></tbody></table></div>"
      ],
      "text/plain": [
       "shape: (1, 6)\n",
       "┌─────────┬─────────────────────┬────────────┬──────────┬─────────────────────┬────────────────────┐\n",
       "│ overall ┆ reviewText          ┆ summary    ┆ verified ┆ cant_words_in_revie ┆ cant_words_in_suma │\n",
       "│ ---     ┆ ---                 ┆ ---        ┆ ---      ┆ w                   ┆ ry                 │\n",
       "│ str     ┆ str                 ┆ str        ┆ str      ┆ ---                 ┆ ---                │\n",
       "│         ┆                     ┆            ┆          ┆ i64                 ┆ i64                │\n",
       "╞═════════╪═════════════════════╪════════════╪══════════╪═════════════════════╪════════════════════╡\n",
       "│ 4.0     ┆ The sex parts seem  ┆ Four Stars ┆ true     ┆ 14                  ┆ 2                  │\n",
       "│         ┆ superficial a…      ┆            ┆          ┆                     ┆                    │\n",
       "└─────────┴─────────────────────┴────────────┴──────────┴─────────────────────┴────────────────────┘"
      ]
     },
     "execution_count": 156,
     "metadata": {},
     "output_type": "execute_result"
    }
   ],
   "source": [
    "# nuevas columnas numericas\n",
    "df = df.with_columns(( pl.col(\"reviewText\").apply(lambda x: len(str(x).split(\" \")) ) ).alias(\"cant_words_in_review\"))\n",
    "df = df.with_columns(( pl.col(\"summary\").apply(lambda x: len(str(x).split(\" \")) ) ).alias(\"cant_words_in_sumary\"))\n",
    "df.sample(1)\n"
   ]
  },
  {
   "cell_type": "code",
   "execution_count": 157,
   "metadata": {},
   "outputs": [
    {
     "data": {
      "text/html": [
       "<div><style>\n",
       ".dataframe > thead > tr > th,\n",
       ".dataframe > tbody > tr > td {\n",
       "  text-align: right;\n",
       "}\n",
       "</style>\n",
       "<small>shape: (9, 7)</small><table border=\"1\" class=\"dataframe\"><thead><tr><th>describe</th><th>overall</th><th>reviewText</th><th>summary</th><th>verified</th><th>cant_words_in_review</th><th>cant_words_in_sumary</th></tr><tr><td>str</td><td>str</td><td>str</td><td>str</td><td>str</td><td>f64</td><td>f64</td></tr></thead><tbody><tr><td>&quot;count&quot;</td><td>&quot;26977&quot;</td><td>&quot;26977&quot;</td><td>&quot;26977&quot;</td><td>&quot;26977&quot;</td><td>26977.0</td><td>26977.0</td></tr><tr><td>&quot;null_count&quot;</td><td>&quot;0&quot;</td><td>&quot;0&quot;</td><td>&quot;0&quot;</td><td>&quot;0&quot;</td><td>0.0</td><td>0.0</td></tr><tr><td>&quot;mean&quot;</td><td>null</td><td>null</td><td>null</td><td>null</td><td>54.014494</td><td>4.37139</td></tr><tr><td>&quot;std&quot;</td><td>null</td><td>null</td><td>null</td><td>null</td><td>101.310756</td><td>3.677341</td></tr><tr><td>&quot;min&quot;</td><td>&quot;1.0&quot;</td><td>&quot; 5 STAR REVIEW…</td><td>&quot; Yummy&quot;</td><td>&quot;false&quot;</td><td>1.0</td><td>1.0</td></tr><tr><td>&quot;max&quot;</td><td>&quot;5.0&quot;</td><td>&quot;~I received a …</td><td>&quot;~~~GameCube is…</td><td>&quot;true&quot;</td><td>3251.0</td><td>31.0</td></tr><tr><td>&quot;median&quot;</td><td>null</td><td>null</td><td>null</td><td>null</td><td>24.0</td><td>3.0</td></tr><tr><td>&quot;25%&quot;</td><td>null</td><td>null</td><td>null</td><td>null</td><td>8.0</td><td>2.0</td></tr><tr><td>&quot;75%&quot;</td><td>null</td><td>null</td><td>null</td><td>null</td><td>56.0</td><td>6.0</td></tr></tbody></table></div>"
      ],
      "text/plain": [
       "shape: (9, 7)\n",
       "┌────────────┬─────────┬────────────────┬───────────────┬──────────┬───────────────┬───────────────┐\n",
       "│ describe   ┆ overall ┆ reviewText     ┆ summary       ┆ verified ┆ cant_words_in ┆ cant_words_in │\n",
       "│ ---        ┆ ---     ┆ ---            ┆ ---           ┆ ---      ┆ _review       ┆ _sumary       │\n",
       "│ str        ┆ str     ┆ str            ┆ str           ┆ str      ┆ ---           ┆ ---           │\n",
       "│            ┆         ┆                ┆               ┆          ┆ f64           ┆ f64           │\n",
       "╞════════════╪═════════╪════════════════╪═══════════════╪══════════╪═══════════════╪═══════════════╡\n",
       "│ count      ┆ 26977   ┆ 26977          ┆ 26977         ┆ 26977    ┆ 26977.0       ┆ 26977.0       │\n",
       "│ null_count ┆ 0       ┆ 0              ┆ 0             ┆ 0        ┆ 0.0           ┆ 0.0           │\n",
       "│ mean       ┆ null    ┆ null           ┆ null          ┆ null     ┆ 54.014494     ┆ 4.37139       │\n",
       "│ std        ┆ null    ┆ null           ┆ null          ┆ null     ┆ 101.310756    ┆ 3.677341      │\n",
       "│ min        ┆ 1.0     ┆ 5 STAR REVIEW  ┆  Yummy        ┆ false    ┆ 1.0           ┆ 1.0           │\n",
       "│            ┆         ┆                ┆               ┆          ┆               ┆               │\n",
       "│            ┆         ┆ As we continue ┆               ┆          ┆               ┆               │\n",
       "│            ┆         ┆ …              ┆               ┆          ┆               ┆               │\n",
       "│ max        ┆ 5.0     ┆ ~I received a  ┆ ~~~GameCube   ┆ true     ┆ 3251.0        ┆ 31.0          │\n",
       "│            ┆         ┆ free copy of   ┆ is great, but ┆          ┆               ┆               │\n",
       "│            ┆         ┆ this …         ┆ X-BOX …       ┆          ┆               ┆               │\n",
       "│ median     ┆ null    ┆ null           ┆ null          ┆ null     ┆ 24.0          ┆ 3.0           │\n",
       "│ 25%        ┆ null    ┆ null           ┆ null          ┆ null     ┆ 8.0           ┆ 2.0           │\n",
       "│ 75%        ┆ null    ┆ null           ┆ null          ┆ null     ┆ 56.0          ┆ 6.0           │\n",
       "└────────────┴─────────┴────────────────┴───────────────┴──────────┴───────────────┴───────────────┘"
      ]
     },
     "execution_count": 157,
     "metadata": {},
     "output_type": "execute_result"
    }
   ],
   "source": [
    "df.describe()"
   ]
  },
  {
   "cell_type": "code",
   "execution_count": 158,
   "metadata": {},
   "outputs": [
    {
     "name": "stderr",
     "output_type": "stream",
     "text": [
      "C:\\Users\\laptop\\AppData\\Local\\Temp\\ipykernel_7736\\719188387.py:1: DeprecationWarning: using `any` for horizontal computation is deprecated. Use `any_horizontal` instead.\n",
      "  df = df.filter(pl.any(pl.col('cant_words_in_review') < 512))\n"
     ]
    }
   ],
   "source": [
    "df = df.filter(pl.any(pl.col('cant_words_in_review') < 512))"
   ]
  },
  {
   "cell_type": "code",
   "execution_count": 159,
   "metadata": {},
   "outputs": [
    {
     "data": {
      "text/html": [
       "<div><style>\n",
       ".dataframe > thead > tr > th,\n",
       ".dataframe > tbody > tr > td {\n",
       "  text-align: right;\n",
       "}\n",
       "</style>\n",
       "<small>shape: (9, 7)</small><table border=\"1\" class=\"dataframe\"><thead><tr><th>describe</th><th>overall</th><th>reviewText</th><th>summary</th><th>verified</th><th>cant_words_in_review</th><th>cant_words_in_sumary</th></tr><tr><td>str</td><td>str</td><td>str</td><td>str</td><td>str</td><td>f64</td><td>f64</td></tr></thead><tbody><tr><td>&quot;count&quot;</td><td>&quot;26753&quot;</td><td>&quot;26753&quot;</td><td>&quot;26753&quot;</td><td>&quot;26753&quot;</td><td>26753.0</td><td>26753.0</td></tr><tr><td>&quot;null_count&quot;</td><td>&quot;0&quot;</td><td>&quot;0&quot;</td><td>&quot;0&quot;</td><td>&quot;0&quot;</td><td>0.0</td><td>0.0</td></tr><tr><td>&quot;mean&quot;</td><td>null</td><td>null</td><td>null</td><td>null</td><td>47.941165</td><td>4.344522</td></tr><tr><td>&quot;std&quot;</td><td>null</td><td>null</td><td>null</td><td>null</td><td>69.541504</td><td>3.659594</td></tr><tr><td>&quot;min&quot;</td><td>&quot;1.0&quot;</td><td>&quot; 5 STAR REVIEW…</td><td>&quot; Yummy&quot;</td><td>&quot;false&quot;</td><td>1.0</td><td>1.0</td></tr><tr><td>&quot;max&quot;</td><td>&quot;5.0&quot;</td><td>&quot;~I received a …</td><td>&quot;~~~GameCube is…</td><td>&quot;true&quot;</td><td>511.0</td><td>31.0</td></tr><tr><td>&quot;median&quot;</td><td>null</td><td>null</td><td>null</td><td>null</td><td>23.0</td><td>3.0</td></tr><tr><td>&quot;25%&quot;</td><td>null</td><td>null</td><td>null</td><td>null</td><td>8.0</td><td>2.0</td></tr><tr><td>&quot;75%&quot;</td><td>null</td><td>null</td><td>null</td><td>null</td><td>55.0</td><td>6.0</td></tr></tbody></table></div>"
      ],
      "text/plain": [
       "shape: (9, 7)\n",
       "┌────────────┬─────────┬────────────────┬───────────────┬──────────┬───────────────┬───────────────┐\n",
       "│ describe   ┆ overall ┆ reviewText     ┆ summary       ┆ verified ┆ cant_words_in ┆ cant_words_in │\n",
       "│ ---        ┆ ---     ┆ ---            ┆ ---           ┆ ---      ┆ _review       ┆ _sumary       │\n",
       "│ str        ┆ str     ┆ str            ┆ str           ┆ str      ┆ ---           ┆ ---           │\n",
       "│            ┆         ┆                ┆               ┆          ┆ f64           ┆ f64           │\n",
       "╞════════════╪═════════╪════════════════╪═══════════════╪══════════╪═══════════════╪═══════════════╡\n",
       "│ count      ┆ 26753   ┆ 26753          ┆ 26753         ┆ 26753    ┆ 26753.0       ┆ 26753.0       │\n",
       "│ null_count ┆ 0       ┆ 0              ┆ 0             ┆ 0        ┆ 0.0           ┆ 0.0           │\n",
       "│ mean       ┆ null    ┆ null           ┆ null          ┆ null     ┆ 47.941165     ┆ 4.344522      │\n",
       "│ std        ┆ null    ┆ null           ┆ null          ┆ null     ┆ 69.541504     ┆ 3.659594      │\n",
       "│ min        ┆ 1.0     ┆ 5 STAR REVIEW  ┆  Yummy        ┆ false    ┆ 1.0           ┆ 1.0           │\n",
       "│            ┆         ┆                ┆               ┆          ┆               ┆               │\n",
       "│            ┆         ┆ As we continue ┆               ┆          ┆               ┆               │\n",
       "│            ┆         ┆ …              ┆               ┆          ┆               ┆               │\n",
       "│ max        ┆ 5.0     ┆ ~I received a  ┆ ~~~GameCube   ┆ true     ┆ 511.0         ┆ 31.0          │\n",
       "│            ┆         ┆ free copy of   ┆ is great, but ┆          ┆               ┆               │\n",
       "│            ┆         ┆ this …         ┆ X-BOX …       ┆          ┆               ┆               │\n",
       "│ median     ┆ null    ┆ null           ┆ null          ┆ null     ┆ 23.0          ┆ 3.0           │\n",
       "│ 25%        ┆ null    ┆ null           ┆ null          ┆ null     ┆ 8.0           ┆ 2.0           │\n",
       "│ 75%        ┆ null    ┆ null           ┆ null          ┆ null     ┆ 55.0          ┆ 6.0           │\n",
       "└────────────┴─────────┴────────────────┴───────────────┴──────────┴───────────────┴───────────────┘"
      ]
     },
     "execution_count": 159,
     "metadata": {},
     "output_type": "execute_result"
    }
   ],
   "source": [
    "df.describe()"
   ]
  },
  {
   "cell_type": "markdown",
   "metadata": {},
   "source": [
    "# Prepare review column to determinate the sentiment"
   ]
  },
  {
   "cell_type": "code",
   "execution_count": 160,
   "metadata": {},
   "outputs": [
    {
     "data": {
      "text/html": [
       "<div><style>\n",
       ".dataframe > thead > tr > th,\n",
       ".dataframe > tbody > tr > td {\n",
       "  text-align: right;\n",
       "}\n",
       "</style>\n",
       "<small>shape: (1, 8)</small><table border=\"1\" class=\"dataframe\"><thead><tr><th>overall</th><th>reviewText</th><th>summary</th><th>verified</th><th>cant_words_in_review</th><th>cant_words_in_sumary</th><th>cleaned_text</th><th>correct_text</th></tr><tr><td>str</td><td>str</td><td>str</td><td>str</td><td>i64</td><td>i64</td><td>str</td><td>str</td></tr></thead><tbody><tr><td>&quot;5.0&quot;</td><td>&quot;Loved this boo…</td><td>&quot;Read this book…</td><td>&quot;true&quot;</td><td>133</td><td>3</td><td>&quot;this book its …</td><td>&quot;book nonstop a…</td></tr></tbody></table></div>"
      ],
      "text/plain": [
       "shape: (1, 8)\n",
       "┌─────────┬────────────┬────────────┬──────────┬────────────┬────────────┬────────────┬────────────┐\n",
       "│ overall ┆ reviewText ┆ summary    ┆ verified ┆ cant_words ┆ cant_words ┆ cleaned_te ┆ correct_te │\n",
       "│ ---     ┆ ---        ┆ ---        ┆ ---      ┆ _in_review ┆ _in_sumary ┆ xt         ┆ xt         │\n",
       "│ str     ┆ str        ┆ str        ┆ str      ┆ ---        ┆ ---        ┆ ---        ┆ ---        │\n",
       "│         ┆            ┆            ┆          ┆ i64        ┆ i64        ┆ str        ┆ str        │\n",
       "╞═════════╪════════════╪════════════╪══════════╪════════════╪════════════╪════════════╪════════════╡\n",
       "│ 5.0     ┆ Loved this ┆ Read this  ┆ true     ┆ 133        ┆ 3          ┆ this book  ┆ book       │\n",
       "│         ┆ book. Its  ┆ book.      ┆          ┆            ┆            ┆ its and    ┆ nonstop    │\n",
       "│         ┆ pacing and ┆            ┆          ┆            ┆            ┆ nonstop    ┆ action     │\n",
       "│         ┆ …          ┆            ┆          ┆            ┆            ┆ action…    ┆ make true  │\n",
       "│         ┆            ┆            ┆          ┆            ┆            ┆            ┆ pa…        │\n",
       "└─────────┴────────────┴────────────┴──────────┴────────────┴────────────┴────────────┴────────────┘"
      ]
     },
     "execution_count": 160,
     "metadata": {},
     "output_type": "execute_result"
    }
   ],
   "source": [
    "df = df.with_columns(( pl.col(\"reviewText\").apply(lambda x: clean_text(x)) ).alias(\"cleaned_text\"))\n",
    "df = df.with_columns(( pl.col(\"cleaned_text\").apply(lambda x: correct_text(x)) ).alias(\"correct_text\"))\n",
    "df.sample(1)"
   ]
  },
  {
   "cell_type": "markdown",
   "metadata": {},
   "source": [
    "# Determinate sentiment of the review"
   ]
  },
  {
   "cell_type": "code",
   "execution_count": 161,
   "metadata": {},
   "outputs": [
    {
     "data": {
      "text/html": [
       "<div><style>\n",
       ".dataframe > thead > tr > th,\n",
       ".dataframe > tbody > tr > td {\n",
       "  text-align: right;\n",
       "}\n",
       "</style>\n",
       "<small>shape: (1, 9)</small><table border=\"1\" class=\"dataframe\"><thead><tr><th>overall</th><th>reviewText</th><th>summary</th><th>verified</th><th>cant_words_in_review</th><th>cant_words_in_sumary</th><th>cleaned_text</th><th>correct_text</th><th>sentiment</th></tr><tr><td>str</td><td>str</td><td>str</td><td>str</td><td>i64</td><td>i64</td><td>str</td><td>str</td><td>list[f64]</td></tr></thead><tbody><tr><td>&quot;4.0&quot;</td><td>&quot;I like gun fir…</td><td>&quot;Four Stars&quot;</td><td>&quot;true&quot;</td><td>7</td><td>2</td><td>&quot;i like gun fir…</td><td>&quot;like gun fire …</td><td>[0.889135, 0.110865]</td></tr></tbody></table></div>"
      ],
      "text/plain": [
       "shape: (1, 9)\n",
       "┌─────────┬────────────┬────────────┬──────────┬───┬───────────┬───────────┬───────────┬───────────┐\n",
       "│ overall ┆ reviewText ┆ summary    ┆ verified ┆ … ┆ cant_word ┆ cleaned_t ┆ correct_t ┆ sentiment │\n",
       "│ ---     ┆ ---        ┆ ---        ┆ ---      ┆   ┆ s_in_suma ┆ ext       ┆ ext       ┆ ---       │\n",
       "│ str     ┆ str        ┆ str        ┆ str      ┆   ┆ ry        ┆ ---       ┆ ---       ┆ list[f64] │\n",
       "│         ┆            ┆            ┆          ┆   ┆ ---       ┆ str       ┆ str       ┆           │\n",
       "│         ┆            ┆            ┆          ┆   ┆ i64       ┆           ┆           ┆           │\n",
       "╞═════════╪════════════╪════════════╪══════════╪═══╪═══════════╪═══════════╪═══════════╪═══════════╡\n",
       "│ 4.0     ┆ I like gun ┆ Four Stars ┆ true     ┆ … ┆ 2         ┆ i like    ┆ like gun  ┆ [0.889135 │\n",
       "│         ┆ fire and   ┆            ┆          ┆   ┆           ┆ gun fire  ┆ fire      ┆ ,         │\n",
       "│         ┆ action     ┆            ┆          ┆   ┆           ┆ and       ┆ action    ┆ 0.110865] │\n",
       "│         ┆ shows      ┆            ┆          ┆   ┆           ┆ action    ┆           ┆           │\n",
       "└─────────┴────────────┴────────────┴──────────┴───┴───────────┴───────────┴───────────┴───────────┘"
      ]
     },
     "execution_count": 161,
     "metadata": {},
     "output_type": "execute_result"
    }
   ],
   "source": [
    "df = df.with_columns(( pl.col(\"correct_text\").apply(lambda x: get_sentiment(x)) ).alias(\"sentiment\"))\n",
    "df.sample(1)"
   ]
  },
  {
   "cell_type": "code",
   "execution_count": 162,
   "metadata": {},
   "outputs": [
    {
     "data": {
      "text/html": [
       "<div><style>\n",
       ".dataframe > thead > tr > th,\n",
       ".dataframe > tbody > tr > td {\n",
       "  text-align: right;\n",
       "}\n",
       "</style>\n",
       "<small>shape: (1, 11)</small><table border=\"1\" class=\"dataframe\"><thead><tr><th>overall</th><th>reviewText</th><th>summary</th><th>verified</th><th>cant_words_in_review</th><th>cant_words_in_sumary</th><th>cleaned_text</th><th>correct_text</th><th>sentiment</th><th>sentiment_negative</th><th>sentiment_positive</th></tr><tr><td>str</td><td>str</td><td>str</td><td>str</td><td>i64</td><td>i64</td><td>str</td><td>str</td><td>list[f64]</td><td>f64</td><td>f64</td></tr></thead><tbody><tr><td>&quot;5.0&quot;</td><td>&quot;Morgan Llywely…</td><td>&quot;Another brilli…</td><td>&quot;false&quot;</td><td>67</td><td>5</td><td>&quot;morgan done it…</td><td>&quot;morgan done wo…</td><td>[0.000158, 0.999842]</td><td>0.000158</td><td>0.999842</td></tr></tbody></table></div>"
      ],
      "text/plain": [
       "shape: (1, 11)\n",
       "┌─────────┬────────────┬────────────┬──────────┬───┬───────────┬───────────┬───────────┬───────────┐\n",
       "│ overall ┆ reviewText ┆ summary    ┆ verified ┆ … ┆ correct_t ┆ sentiment ┆ sentiment ┆ sentiment │\n",
       "│ ---     ┆ ---        ┆ ---        ┆ ---      ┆   ┆ ext       ┆ ---       ┆ _negative ┆ _positive │\n",
       "│ str     ┆ str        ┆ str        ┆ str      ┆   ┆ ---       ┆ list[f64] ┆ ---       ┆ ---       │\n",
       "│         ┆            ┆            ┆          ┆   ┆ str       ┆           ┆ f64       ┆ f64       │\n",
       "╞═════════╪════════════╪════════════╪══════════╪═══╪═══════════╪═══════════╪═══════════╪═══════════╡\n",
       "│ 5.0     ┆ Morgan     ┆ Another    ┆ false    ┆ … ┆ morgan    ┆ [0.000158 ┆ 0.000158  ┆ 0.999842  │\n",
       "│         ┆ Llywelyn   ┆ brilliant  ┆          ┆   ┆ done      ┆ ,         ┆           ┆           │\n",
       "│         ┆ has done   ┆ book from  ┆          ┆   ┆ wonderful ┆ 0.999842] ┆           ┆           │\n",
       "│         ┆ it agai…   ┆ Llyw…      ┆          ┆   ┆ book book ┆           ┆           ┆           │\n",
       "│         ┆            ┆            ┆          ┆   ┆ …         ┆           ┆           ┆           │\n",
       "└─────────┴────────────┴────────────┴──────────┴───┴───────────┴───────────┴───────────┴───────────┘"
      ]
     },
     "execution_count": 162,
     "metadata": {},
     "output_type": "execute_result"
    }
   ],
   "source": [
    "df = df.with_columns(( pl.col(\"sentiment\").apply(lambda x: x[0]) ).alias(\"sentiment_negative\"))\n",
    "df = df.with_columns(( pl.col(\"sentiment\").apply(lambda x: x[1]) ).alias(\"sentiment_positive\"))\n",
    "df.sample(1)"
   ]
  },
  {
   "cell_type": "markdown",
   "metadata": {},
   "source": [
    "# Encode verified column"
   ]
  },
  {
   "cell_type": "code",
   "execution_count": 163,
   "metadata": {},
   "outputs": [],
   "source": [
    "df = df.to_dummies(\"verified\")"
   ]
  },
  {
   "cell_type": "markdown",
   "metadata": {},
   "source": [
    "# Delete no numerical columns"
   ]
  },
  {
   "cell_type": "code",
   "execution_count": 164,
   "metadata": {},
   "outputs": [
    {
     "data": {
      "text/html": [
       "<div><style>\n",
       ".dataframe > thead > tr > th,\n",
       ".dataframe > tbody > tr > td {\n",
       "  text-align: right;\n",
       "}\n",
       "</style>\n",
       "<small>shape: (1, 7)</small><table border=\"1\" class=\"dataframe\"><thead><tr><th>overall</th><th>verified_false</th><th>verified_true</th><th>cant_words_in_review</th><th>cant_words_in_sumary</th><th>sentiment_negative</th><th>sentiment_positive</th></tr><tr><td>str</td><td>u8</td><td>u8</td><td>i64</td><td>i64</td><td>f64</td><td>f64</td></tr></thead><tbody><tr><td>&quot;5.0&quot;</td><td>0</td><td>1</td><td>6</td><td>2</td><td>0.000234</td><td>0.999766</td></tr></tbody></table></div>"
      ],
      "text/plain": [
       "shape: (1, 7)\n",
       "┌─────────┬──────────────┬──────────────┬──────────────┬──────────────┬──────────────┬─────────────┐\n",
       "│ overall ┆ verified_fal ┆ verified_tru ┆ cant_words_i ┆ cant_words_i ┆ sentiment_ne ┆ sentiment_p │\n",
       "│ ---     ┆ se           ┆ e            ┆ n_review     ┆ n_sumary     ┆ gative       ┆ ositive     │\n",
       "│ str     ┆ ---          ┆ ---          ┆ ---          ┆ ---          ┆ ---          ┆ ---         │\n",
       "│         ┆ u8           ┆ u8           ┆ i64          ┆ i64          ┆ f64          ┆ f64         │\n",
       "╞═════════╪══════════════╪══════════════╪══════════════╪══════════════╪══════════════╪═════════════╡\n",
       "│ 5.0     ┆ 0            ┆ 1            ┆ 6            ┆ 2            ┆ 0.000234     ┆ 0.999766    │\n",
       "└─────────┴──────────────┴──────────────┴──────────────┴──────────────┴──────────────┴─────────────┘"
      ]
     },
     "execution_count": 164,
     "metadata": {},
     "output_type": "execute_result"
    }
   ],
   "source": [
    "df = df.drop([\"reviewText\", \"summary\", \"cleaned_text\", \"correct_text\", \"sentiment\"] )\n",
    "df.sample(1)"
   ]
  },
  {
   "cell_type": "code",
   "execution_count": 165,
   "metadata": {},
   "outputs": [
    {
     "data": {
      "text/html": [
       "<div><style>\n",
       ".dataframe > thead > tr > th,\n",
       ".dataframe > tbody > tr > td {\n",
       "  text-align: right;\n",
       "}\n",
       "</style>\n",
       "<small>shape: (1, 7)</small><table border=\"1\" class=\"dataframe\"><thead><tr><th>overall</th><th>verified_false</th><th>verified_true</th><th>cant_words_in_review</th><th>cant_words_in_sumary</th><th>sentiment_negative</th><th>sentiment_positive</th></tr><tr><td>f64</td><td>u8</td><td>u8</td><td>i64</td><td>i64</td><td>f64</td><td>f64</td></tr></thead><tbody><tr><td>5.0</td><td>0</td><td>1</td><td>26</td><td>12</td><td>0.005367</td><td>0.994633</td></tr></tbody></table></div>"
      ],
      "text/plain": [
       "shape: (1, 7)\n",
       "┌─────────┬──────────────┬──────────────┬──────────────┬──────────────┬──────────────┬─────────────┐\n",
       "│ overall ┆ verified_fal ┆ verified_tru ┆ cant_words_i ┆ cant_words_i ┆ sentiment_ne ┆ sentiment_p │\n",
       "│ ---     ┆ se           ┆ e            ┆ n_review     ┆ n_sumary     ┆ gative       ┆ ositive     │\n",
       "│ f64     ┆ ---          ┆ ---          ┆ ---          ┆ ---          ┆ ---          ┆ ---         │\n",
       "│         ┆ u8           ┆ u8           ┆ i64          ┆ i64          ┆ f64          ┆ f64         │\n",
       "╞═════════╪══════════════╪══════════════╪══════════════╪══════════════╪══════════════╪═════════════╡\n",
       "│ 5.0     ┆ 0            ┆ 1            ┆ 26           ┆ 12           ┆ 0.005367     ┆ 0.994633    │\n",
       "└─────────┴──────────────┴──────────────┴──────────────┴──────────────┴──────────────┴─────────────┘"
      ]
     },
     "execution_count": 165,
     "metadata": {},
     "output_type": "execute_result"
    }
   ],
   "source": [
    "# se cambia el tipo de datos de la columna overall\n",
    "df = df.with_columns([pl.col(\"overall\").cast(pl.Float64)])\n",
    "df.sample(1)"
   ]
  },
  {
   "cell_type": "markdown",
   "metadata": {},
   "source": [
    "# Create X y "
   ]
  },
  {
   "cell_type": "code",
   "execution_count": 166,
   "metadata": {},
   "outputs": [],
   "source": [
    "y = df[\"overall\"]\n",
    "X= df.drop(\"overall\")"
   ]
  },
  {
   "cell_type": "code",
   "execution_count": 167,
   "metadata": {},
   "outputs": [
    {
     "data": {
      "text/html": [
       "<div><style>\n",
       ".dataframe > thead > tr > th,\n",
       ".dataframe > tbody > tr > td {\n",
       "  text-align: right;\n",
       "}\n",
       "</style>\n",
       "<small>shape: (9, 7)</small><table border=\"1\" class=\"dataframe\"><thead><tr><th>describe</th><th>verified_false</th><th>verified_true</th><th>cant_words_in_review</th><th>cant_words_in_sumary</th><th>sentiment_negative</th><th>sentiment_positive</th></tr><tr><td>str</td><td>f64</td><td>f64</td><td>f64</td><td>f64</td><td>f64</td><td>f64</td></tr></thead><tbody><tr><td>&quot;count&quot;</td><td>26753.0</td><td>26753.0</td><td>26753.0</td><td>26753.0</td><td>26753.0</td><td>26753.0</td></tr><tr><td>&quot;null_count&quot;</td><td>0.0</td><td>0.0</td><td>0.0</td><td>0.0</td><td>0.0</td><td>0.0</td></tr><tr><td>&quot;mean&quot;</td><td>0.20764</td><td>0.79236</td><td>47.941165</td><td>4.344522</td><td>0.292045</td><td>0.707955</td></tr><tr><td>&quot;std&quot;</td><td>0.405625</td><td>0.405625</td><td>69.541504</td><td>3.659594</td><td>0.425459</td><td>0.425459</td></tr><tr><td>&quot;min&quot;</td><td>0.0</td><td>0.0</td><td>1.0</td><td>1.0</td><td>0.000108</td><td>0.000182</td></tr><tr><td>&quot;max&quot;</td><td>1.0</td><td>1.0</td><td>511.0</td><td>31.0</td><td>0.999818</td><td>0.999892</td></tr><tr><td>&quot;median&quot;</td><td>0.0</td><td>1.0</td><td>23.0</td><td>3.0</td><td>0.004247</td><td>0.995753</td></tr><tr><td>&quot;25%&quot;</td><td>0.0</td><td>1.0</td><td>8.0</td><td>2.0</td><td>0.000258</td><td>0.121261</td></tr><tr><td>&quot;75%&quot;</td><td>0.0</td><td>1.0</td><td>55.0</td><td>6.0</td><td>0.878739</td><td>0.999742</td></tr></tbody></table></div>"
      ],
      "text/plain": [
       "shape: (9, 7)\n",
       "┌────────────┬──────────────┬──────────────┬─────────────┬─────────────┬─────────────┬─────────────┐\n",
       "│ describe   ┆ verified_fal ┆ verified_tru ┆ cant_words_ ┆ cant_words_ ┆ sentiment_n ┆ sentiment_p │\n",
       "│ ---        ┆ se           ┆ e            ┆ in_review   ┆ in_sumary   ┆ egative     ┆ ositive     │\n",
       "│ str        ┆ ---          ┆ ---          ┆ ---         ┆ ---         ┆ ---         ┆ ---         │\n",
       "│            ┆ f64          ┆ f64          ┆ f64         ┆ f64         ┆ f64         ┆ f64         │\n",
       "╞════════════╪══════════════╪══════════════╪═════════════╪═════════════╪═════════════╪═════════════╡\n",
       "│ count      ┆ 26753.0      ┆ 26753.0      ┆ 26753.0     ┆ 26753.0     ┆ 26753.0     ┆ 26753.0     │\n",
       "│ null_count ┆ 0.0          ┆ 0.0          ┆ 0.0         ┆ 0.0         ┆ 0.0         ┆ 0.0         │\n",
       "│ mean       ┆ 0.20764      ┆ 0.79236      ┆ 47.941165   ┆ 4.344522    ┆ 0.292045    ┆ 0.707955    │\n",
       "│ std        ┆ 0.405625     ┆ 0.405625     ┆ 69.541504   ┆ 3.659594    ┆ 0.425459    ┆ 0.425459    │\n",
       "│ min        ┆ 0.0          ┆ 0.0          ┆ 1.0         ┆ 1.0         ┆ 0.000108    ┆ 0.000182    │\n",
       "│ max        ┆ 1.0          ┆ 1.0          ┆ 511.0       ┆ 31.0        ┆ 0.999818    ┆ 0.999892    │\n",
       "│ median     ┆ 0.0          ┆ 1.0          ┆ 23.0        ┆ 3.0         ┆ 0.004247    ┆ 0.995753    │\n",
       "│ 25%        ┆ 0.0          ┆ 1.0          ┆ 8.0         ┆ 2.0         ┆ 0.000258    ┆ 0.121261    │\n",
       "│ 75%        ┆ 0.0          ┆ 1.0          ┆ 55.0        ┆ 6.0         ┆ 0.878739    ┆ 0.999742    │\n",
       "└────────────┴──────────────┴──────────────┴─────────────┴─────────────┴─────────────┴─────────────┘"
      ]
     },
     "execution_count": 167,
     "metadata": {},
     "output_type": "execute_result"
    }
   ],
   "source": [
    "X.describe()"
   ]
  },
  {
   "cell_type": "markdown",
   "metadata": {},
   "source": [
    "# Scaling the cant_words_in_review and cant_words_in_sumary columns"
   ]
  },
  {
   "cell_type": "code",
   "execution_count": 168,
   "metadata": {},
   "outputs": [
    {
     "data": {
      "text/html": [
       "<div><style>\n",
       ".dataframe > thead > tr > th,\n",
       ".dataframe > tbody > tr > td {\n",
       "  text-align: right;\n",
       "}\n",
       "</style>\n",
       "<small>shape: (1, 8)</small><table border=\"1\" class=\"dataframe\"><thead><tr><th>verified_false</th><th>verified_true</th><th>cant_words_in_review</th><th>cant_words_in_sumary</th><th>sentiment_negative</th><th>sentiment_positive</th><th>cant_words_in_review_scaled</th><th>cant_words_in_sumary_scaled</th></tr><tr><td>u8</td><td>u8</td><td>i64</td><td>i64</td><td>f64</td><td>f64</td><td>f64</td><td>f64</td></tr></thead><tbody><tr><td>0</td><td>1</td><td>13</td><td>3</td><td>0.000455</td><td>0.999545</td><td>0.023529</td><td>0.066667</td></tr></tbody></table></div>"
      ],
      "text/plain": [
       "shape: (1, 8)\n",
       "┌────────────┬────────────┬────────────┬───────────┬───────────┬───────────┬───────────┬───────────┐\n",
       "│ verified_f ┆ verified_t ┆ cant_words ┆ cant_word ┆ sentiment ┆ sentiment ┆ cant_word ┆ cant_word │\n",
       "│ alse       ┆ rue        ┆ _in_review ┆ s_in_suma ┆ _negative ┆ _positive ┆ s_in_revi ┆ s_in_suma │\n",
       "│ ---        ┆ ---        ┆ ---        ┆ ry        ┆ ---       ┆ ---       ┆ ew_scaled ┆ ry_scaled │\n",
       "│ u8         ┆ u8         ┆ i64        ┆ ---       ┆ f64       ┆ f64       ┆ ---       ┆ ---       │\n",
       "│            ┆            ┆            ┆ i64       ┆           ┆           ┆ f64       ┆ f64       │\n",
       "╞════════════╪════════════╪════════════╪═══════════╪═══════════╪═══════════╪═══════════╪═══════════╡\n",
       "│ 0          ┆ 1          ┆ 13         ┆ 3         ┆ 0.000455  ┆ 0.999545  ┆ 0.023529  ┆ 0.066667  │\n",
       "└────────────┴────────────┴────────────┴───────────┴───────────┴───────────┴───────────┴───────────┘"
      ]
     },
     "execution_count": 168,
     "metadata": {},
     "output_type": "execute_result"
    }
   ],
   "source": [
    "X = X.with_columns(( pl.col(\"cant_words_in_review\")\n",
    "                    .apply(lambda x: min_max_scaling(x, \"cant_words_in_review\") ) )\n",
    "                    .alias(\"cant_words_in_review_scaled\"))\n",
    "\n",
    "X = X.with_columns(( pl.col(\"cant_words_in_sumary\")\n",
    "                    .apply(lambda x: min_max_scaling(x, \"cant_words_in_sumary\") ) )\n",
    "                    .alias(\"cant_words_in_sumary_scaled\"))\n",
    "X.sample(1)\n"
   ]
  },
  {
   "cell_type": "code",
   "execution_count": 169,
   "metadata": {},
   "outputs": [],
   "source": [
    "X = X.drop([\"cant_words_in_review\", \"cant_words_in_sumary\", \"verified_true\"])"
   ]
  },
  {
   "cell_type": "code",
   "execution_count": 170,
   "metadata": {},
   "outputs": [
    {
     "name": "stdout",
     "output_type": "stream",
     "text": [
      "shape: (1, 1)\n",
      "┌────────────────┐\n",
      "│ verified_false │\n",
      "│ ---            │\n",
      "│ f64            │\n",
      "╞════════════════╡\n",
      "│ 1.441553       │\n",
      "└────────────────┘\n",
      "shape: (1, 1)\n",
      "┌────────────────────┐\n",
      "│ sentiment_negative │\n",
      "│ ---                │\n",
      "│ f64                │\n",
      "╞════════════════════╡\n",
      "│ 0.914655           │\n",
      "└────────────────────┘\n",
      "shape: (1, 1)\n",
      "┌────────────────────┐\n",
      "│ sentiment_positive │\n",
      "│ ---                │\n",
      "│ f64                │\n",
      "╞════════════════════╡\n",
      "│ -0.914655          │\n",
      "└────────────────────┘\n",
      "shape: (1, 1)\n",
      "┌─────────────────────────────┐\n",
      "│ cant_words_in_review_scaled │\n",
      "│ ---                         │\n",
      "│ f64                         │\n",
      "╞═════════════════════════════╡\n",
      "│ 3.041991                    │\n",
      "└─────────────────────────────┘\n",
      "shape: (1, 1)\n",
      "┌─────────────────────────────┐\n",
      "│ cant_words_in_sumary_scaled │\n",
      "│ ---                         │\n",
      "│ f64                         │\n",
      "╞═════════════════════════════╡\n",
      "│ 2.001908                    │\n",
      "└─────────────────────────────┘\n"
     ]
    }
   ],
   "source": [
    "# chequeando skew\n",
    "for i in X.columns:\n",
    "    print(X.select(pl.col(i).skew()))"
   ]
  },
  {
   "cell_type": "code",
   "execution_count": 171,
   "metadata": {},
   "outputs": [
    {
     "data": {
      "text/html": [
       "<div>\n",
       "<style scoped>\n",
       "    .dataframe tbody tr th:only-of-type {\n",
       "        vertical-align: middle;\n",
       "    }\n",
       "\n",
       "    .dataframe tbody tr th {\n",
       "        vertical-align: top;\n",
       "    }\n",
       "\n",
       "    .dataframe thead th {\n",
       "        text-align: right;\n",
       "    }\n",
       "</style>\n",
       "<table border=\"1\" class=\"dataframe\">\n",
       "  <thead>\n",
       "    <tr style=\"text-align: right;\">\n",
       "      <th></th>\n",
       "      <th>variables</th>\n",
       "      <th>VIF</th>\n",
       "    </tr>\n",
       "  </thead>\n",
       "  <tbody>\n",
       "    <tr>\n",
       "      <th>0</th>\n",
       "      <td>verified_false</td>\n",
       "      <td>1.564802</td>\n",
       "    </tr>\n",
       "    <tr>\n",
       "      <th>1</th>\n",
       "      <td>sentiment_negative</td>\n",
       "      <td>1.545145</td>\n",
       "    </tr>\n",
       "    <tr>\n",
       "      <th>2</th>\n",
       "      <td>sentiment_positive</td>\n",
       "      <td>1.596611</td>\n",
       "    </tr>\n",
       "    <tr>\n",
       "      <th>3</th>\n",
       "      <td>cant_words_in_review_scaled</td>\n",
       "      <td>1.969160</td>\n",
       "    </tr>\n",
       "    <tr>\n",
       "      <th>4</th>\n",
       "      <td>cant_words_in_sumary_scaled</td>\n",
       "      <td>1.996974</td>\n",
       "    </tr>\n",
       "  </tbody>\n",
       "</table>\n",
       "</div>"
      ],
      "text/plain": [
       "                     variables       VIF\n",
       "0               verified_false  1.564802\n",
       "1           sentiment_negative  1.545145\n",
       "2           sentiment_positive  1.596611\n",
       "3  cant_words_in_review_scaled  1.969160\n",
       "4  cant_words_in_sumary_scaled  1.996974"
      ]
     },
     "execution_count": 171,
     "metadata": {},
     "output_type": "execute_result"
    }
   ],
   "source": [
    "# chequeando multicolinearity\n",
    "import pandas as pd\n",
    "import pyarrow as pa\n",
    "\n",
    "x_pd = pd.DataFrame()\n",
    "vif = pd.DataFrame()\n",
    "\n",
    "x_pd = X.to_pandas()\n",
    "vif[\"variables\"] = x_pd.columns\n",
    "vif[\"VIF\"] = [variance_inflation_factor(x_pd.values, i) for i in range(x_pd.shape[1])]\n",
    "vif\n"
   ]
  },
  {
   "cell_type": "markdown",
   "metadata": {},
   "source": [
    "# Saving processed files"
   ]
  },
  {
   "cell_type": "code",
   "execution_count": 172,
   "metadata": {},
   "outputs": [],
   "source": [
    "X.write_csv(\"../data/processed/X.csv\")\n",
    "y.to_frame().write_csv(\"../data/processed/y.csv\")"
   ]
  }
 ],
 "metadata": {
  "kernelspec": {
   "display_name": "Factored_Datathon",
   "language": "python",
   "name": "python3"
  },
  "language_info": {
   "codemirror_mode": {
    "name": "ipython",
    "version": 3
   },
   "file_extension": ".py",
   "mimetype": "text/x-python",
   "name": "python",
   "nbconvert_exporter": "python",
   "pygments_lexer": "ipython3",
   "version": "3.10.12"
  },
  "orig_nbformat": 4
 },
 "nbformat": 4,
 "nbformat_minor": 2
}
