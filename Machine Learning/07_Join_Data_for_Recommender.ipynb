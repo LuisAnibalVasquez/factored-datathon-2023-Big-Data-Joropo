{
 "cells": [
  {
   "cell_type": "code",
   "execution_count": 111,
   "metadata": {},
   "outputs": [],
   "source": [
    "import os\n",
    "import re\n",
    "import time\n",
    "import string\n",
    "import polars as pl"
   ]
  },
  {
   "cell_type": "markdown",
   "metadata": {},
   "source": [
    "<div style=\"border-radius:10px; border:#DEB887 solid; padding: 15px; background-color: #FFFAF0; font-size:100%; text-align:left\">\n",
    "<h3 align=\"left\"><font color='#DEB887'>Info</font></h3>\n",
    "    \n",
    "This notebook allows you to concatenate and filter the data necessary to train the Machine Learning model for the Recommendation System"
   ]
  },
  {
   "cell_type": "markdown",
   "metadata": {},
   "source": [
    "# List all reviews parquet files related to reviews to be loaded"
   ]
  },
  {
   "cell_type": "code",
   "execution_count": 112,
   "metadata": {},
   "outputs": [
    {
     "name": "stdout",
     "output_type": "stream",
     "text": [
      "['processed_reviews_books_1.parquet', 'processed_reviews_books_10.parquet', 'processed_reviews_books_11.parquet', 'processed_reviews_books_12.parquet', 'processed_reviews_books_13.parquet', 'processed_reviews_books_3.parquet', 'processed_reviews_books_4.parquet', 'processed_reviews_books_5.parquet', 'processed_reviews_books_6.parquet', 'processed_reviews_books_7.parquet', 'processed_reviews_books_8.parquet', 'processed_reviews_books_9.parquet']\n"
     ]
    }
   ],
   "source": [
    "path = '../data/raw/reviews'\n",
    "with os.scandir(path) as reviewFiles:\n",
    "    reviewFiles = [file.name for file in reviewFiles if file.is_file()]\n",
    "print(reviewFiles)"
   ]
  },
  {
   "cell_type": "markdown",
   "metadata": {},
   "source": [
    "# Load and join all parquet files in the directory"
   ]
  },
  {
   "cell_type": "code",
   "execution_count": 113,
   "metadata": {},
   "outputs": [
    {
     "name": "stdout",
     "output_type": "stream",
     "text": [
      "reading ../data/raw/reviews/processed_reviews_books_1.parquet\n",
      "Adding...../data/raw/reviews/processed_reviews_books_1.parquet\n",
      "reading ../data/raw/reviews/processed_reviews_books_10.parquet\n",
      "Adding...../data/raw/reviews/processed_reviews_books_10.parquet\n",
      "reading ../data/raw/reviews/processed_reviews_books_11.parquet\n",
      "Adding...../data/raw/reviews/processed_reviews_books_11.parquet\n",
      "reading ../data/raw/reviews/processed_reviews_books_12.parquet\n",
      "Adding...../data/raw/reviews/processed_reviews_books_12.parquet\n",
      "reading ../data/raw/reviews/processed_reviews_books_13.parquet\n",
      "Adding...../data/raw/reviews/processed_reviews_books_13.parquet\n",
      "reading ../data/raw/reviews/processed_reviews_books_3.parquet\n",
      "Adding...../data/raw/reviews/processed_reviews_books_3.parquet\n",
      "reading ../data/raw/reviews/processed_reviews_books_4.parquet\n",
      "Adding...../data/raw/reviews/processed_reviews_books_4.parquet\n",
      "reading ../data/raw/reviews/processed_reviews_books_5.parquet\n",
      "Adding...../data/raw/reviews/processed_reviews_books_5.parquet\n",
      "reading ../data/raw/reviews/processed_reviews_books_6.parquet\n",
      "Adding...../data/raw/reviews/processed_reviews_books_6.parquet\n",
      "reading ../data/raw/reviews/processed_reviews_books_7.parquet\n",
      "Adding...../data/raw/reviews/processed_reviews_books_7.parquet\n",
      "reading ../data/raw/reviews/processed_reviews_books_8.parquet\n",
      "Adding...../data/raw/reviews/processed_reviews_books_8.parquet\n",
      "reading ../data/raw/reviews/processed_reviews_books_9.parquet\n",
      "Adding...../data/raw/reviews/processed_reviews_books_9.parquet\n"
     ]
    }
   ],
   "source": [
    "df = pl.DataFrame()\n",
    "for f in reviewFiles:\n",
    "    n = str.format(\"../data/raw/reviews/{}\", f)\n",
    "    print(\"reading \" + n)\n",
    "\n",
    "    df_aux = pl.read_parquet(n)\n",
    "\n",
    "    print(\"Adding...\" + n)\n",
    "    df = df.vstack(df_aux)\n",
    "    n = \"\"\n"
   ]
  },
  {
   "cell_type": "code",
   "execution_count": 114,
   "metadata": {},
   "outputs": [
    {
     "data": {
      "text/html": [
       "<div><style>\n",
       ".dataframe > thead > tr > th,\n",
       ".dataframe > tbody > tr > td {\n",
       "  text-align: right;\n",
       "}\n",
       "</style>\n",
       "<small>shape: (1, 7)</small><table border=\"1\" class=\"dataframe\"><thead><tr><th>asin</th><th>overall</th><th>reviewText</th><th>reviewerID</th><th>summary</th><th>verified</th><th>unixReviewTime</th></tr><tr><td>str</td><td>str</td><td>str</td><td>str</td><td>str</td><td>str</td><td>datetime[μs]</td></tr></thead><tbody><tr><td>&quot;0425252868&quot;</td><td>&quot;5.0&quot;</td><td>&quot;It is a fabulo…</td><td>&quot;A2DCNYQZOC0M1B…</td><td>&quot;I loved it and…</td><td>&quot;false&quot;</td><td>2017-01-19 00:00:00</td></tr></tbody></table></div>"
      ],
      "text/plain": [
       "shape: (1, 7)\n",
       "┌────────────┬─────────┬────────────────┬───────────────┬───────────────┬──────────┬───────────────┐\n",
       "│ asin       ┆ overall ┆ reviewText     ┆ reviewerID    ┆ summary       ┆ verified ┆ unixReviewTim │\n",
       "│ ---        ┆ ---     ┆ ---            ┆ ---           ┆ ---           ┆ ---      ┆ e             │\n",
       "│ str        ┆ str     ┆ str            ┆ str           ┆ str           ┆ str      ┆ ---           │\n",
       "│            ┆         ┆                ┆               ┆               ┆          ┆ datetime[μs]  │\n",
       "╞════════════╪═════════╪════════════════╪═══════════════╪═══════════════╪══════════╪═══════════════╡\n",
       "│ 0425252868 ┆ 5.0     ┆ It is a        ┆ A2DCNYQZOC0M1 ┆ I loved it    ┆ false    ┆ 2017-01-19    │\n",
       "│            ┆         ┆ fabulous true  ┆ B             ┆ and will      ┆          ┆ 00:00:00      │\n",
       "│            ┆         ┆ story of W…    ┆               ┆ share it wit… ┆          ┆               │\n",
       "└────────────┴─────────┴────────────────┴───────────────┴───────────────┴──────────┴───────────────┘"
      ]
     },
     "execution_count": 114,
     "metadata": {},
     "output_type": "execute_result"
    }
   ],
   "source": [
    "df.sample(1)"
   ]
  },
  {
   "cell_type": "code",
   "execution_count": 115,
   "metadata": {},
   "outputs": [
    {
     "data": {
      "text/plain": [
       "(2620482, 7)"
      ]
     },
     "execution_count": 115,
     "metadata": {},
     "output_type": "execute_result"
    }
   ],
   "source": [
    "df.shape"
   ]
  },
  {
   "cell_type": "code",
   "execution_count": 116,
   "metadata": {},
   "outputs": [
    {
     "data": {
      "text/html": [
       "<div><style>\n",
       ".dataframe > thead > tr > th,\n",
       ".dataframe > tbody > tr > td {\n",
       "  text-align: right;\n",
       "}\n",
       "</style>\n",
       "<small>shape: (1, 7)</small><table border=\"1\" class=\"dataframe\"><thead><tr><th>asin</th><th>overall</th><th>reviewText</th><th>reviewerID</th><th>summary</th><th>verified</th><th>unixReviewTime</th></tr><tr><td>u32</td><td>u32</td><td>u32</td><td>u32</td><td>u32</td><td>u32</td><td>u32</td></tr></thead><tbody><tr><td>0</td><td>0</td><td>1260</td><td>0</td><td>796</td><td>0</td><td>0</td></tr></tbody></table></div>"
      ],
      "text/plain": [
       "shape: (1, 7)\n",
       "┌──────┬─────────┬────────────┬────────────┬─────────┬──────────┬────────────────┐\n",
       "│ asin ┆ overall ┆ reviewText ┆ reviewerID ┆ summary ┆ verified ┆ unixReviewTime │\n",
       "│ ---  ┆ ---     ┆ ---        ┆ ---        ┆ ---     ┆ ---      ┆ ---            │\n",
       "│ u32  ┆ u32     ┆ u32        ┆ u32        ┆ u32     ┆ u32      ┆ u32            │\n",
       "╞══════╪═════════╪════════════╪════════════╪═════════╪══════════╪════════════════╡\n",
       "│ 0    ┆ 0       ┆ 1260       ┆ 0          ┆ 796     ┆ 0        ┆ 0              │\n",
       "└──────┴─────────┴────────────┴────────────┴─────────┴──────────┴────────────────┘"
      ]
     },
     "execution_count": 116,
     "metadata": {},
     "output_type": "execute_result"
    }
   ],
   "source": [
    "df.null_count()"
   ]
  },
  {
   "cell_type": "code",
   "execution_count": 117,
   "metadata": {},
   "outputs": [],
   "source": [
    "df = df.drop_nulls()"
   ]
  },
  {
   "cell_type": "code",
   "execution_count": 118,
   "metadata": {},
   "outputs": [
    {
     "data": {
      "text/plain": [
       "(2618468, 7)"
      ]
     },
     "execution_count": 118,
     "metadata": {},
     "output_type": "execute_result"
    }
   ],
   "source": [
    "df.shape"
   ]
  },
  {
   "cell_type": "markdown",
   "metadata": {},
   "source": [
    "Save it as temporal parquet file"
   ]
  },
  {
   "cell_type": "code",
   "execution_count": 119,
   "metadata": {},
   "outputs": [],
   "source": [
    "df.write_parquet(\"../data/processed/All_reviews.parquet\")"
   ]
  },
  {
   "cell_type": "code",
   "execution_count": 120,
   "metadata": {},
   "outputs": [],
   "source": [
    "reviews = pl.read_parquet(\"../data/processed/All_reviews.parquet\")"
   ]
  },
  {
   "cell_type": "markdown",
   "metadata": {},
   "source": [
    "Load the metadata related to books category"
   ]
  },
  {
   "cell_type": "code",
   "execution_count": 121,
   "metadata": {},
   "outputs": [],
   "source": [
    "metadata = pl.read_parquet(\"../data/raw/all_metadata_books_in_top25k.parquet\")"
   ]
  },
  {
   "cell_type": "code",
   "execution_count": 122,
   "metadata": {},
   "outputs": [
    {
     "data": {
      "text/plain": [
       "(2618468, 7)"
      ]
     },
     "execution_count": 122,
     "metadata": {},
     "output_type": "execute_result"
    }
   ],
   "source": [
    "reviews.shape"
   ]
  },
  {
   "cell_type": "code",
   "execution_count": 123,
   "metadata": {},
   "outputs": [
    {
     "data": {
      "text/plain": [
       "(12049, 9)"
      ]
     },
     "execution_count": 123,
     "metadata": {},
     "output_type": "execute_result"
    }
   ],
   "source": [
    "metadata.shape"
   ]
  },
  {
   "cell_type": "code",
   "execution_count": 124,
   "metadata": {},
   "outputs": [
    {
     "data": {
      "text/html": [
       "<div><style>\n",
       ".dataframe > thead > tr > th,\n",
       ".dataframe > tbody > tr > td {\n",
       "  text-align: right;\n",
       "}\n",
       "</style>\n",
       "<small>shape: (1, 7)</small><table border=\"1\" class=\"dataframe\"><thead><tr><th>asin</th><th>overall</th><th>reviewText</th><th>reviewerID</th><th>summary</th><th>verified</th><th>unixReviewTime</th></tr><tr><td>str</td><td>str</td><td>str</td><td>str</td><td>str</td><td>str</td><td>datetime[μs]</td></tr></thead><tbody><tr><td>&quot;0670922854&quot;</td><td>&quot;4.0&quot;</td><td>&quot;It took 3 week…</td><td>&quot;A3I8GRDBFX8R25…</td><td>&quot;Shipper asleep…</td><td>&quot;true&quot;</td><td>2014-11-23 00:00:00</td></tr></tbody></table></div>"
      ],
      "text/plain": [
       "shape: (1, 7)\n",
       "┌────────────┬─────────┬────────────────┬───────────────┬───────────────┬──────────┬───────────────┐\n",
       "│ asin       ┆ overall ┆ reviewText     ┆ reviewerID    ┆ summary       ┆ verified ┆ unixReviewTim │\n",
       "│ ---        ┆ ---     ┆ ---            ┆ ---           ┆ ---           ┆ ---      ┆ e             │\n",
       "│ str        ┆ str     ┆ str            ┆ str           ┆ str           ┆ str      ┆ ---           │\n",
       "│            ┆         ┆                ┆               ┆               ┆          ┆ datetime[μs]  │\n",
       "╞════════════╪═════════╪════════════════╪═══════════════╪═══════════════╪══════════╪═══════════════╡\n",
       "│ 0670922854 ┆ 4.0     ┆ It took 3      ┆ A3I8GRDBFX8R2 ┆ Shipper       ┆ true     ┆ 2014-11-23    │\n",
       "│            ┆         ┆ weeks to the   ┆ 5             ┆ asleep at the ┆          ┆ 00:00:00      │\n",
       "│            ┆         ┆ day to ge…     ┆               ┆ wheel         ┆          ┆               │\n",
       "└────────────┴─────────┴────────────────┴───────────────┴───────────────┴──────────┴───────────────┘"
      ]
     },
     "execution_count": 124,
     "metadata": {},
     "output_type": "execute_result"
    }
   ],
   "source": [
    "reviews.sample(1)"
   ]
  },
  {
   "cell_type": "code",
   "execution_count": 125,
   "metadata": {},
   "outputs": [
    {
     "data": {
      "text/html": [
       "<div><style>\n",
       ".dataframe > thead > tr > th,\n",
       ".dataframe > tbody > tr > td {\n",
       "  text-align: right;\n",
       "}\n",
       "</style>\n",
       "<small>shape: (1, 9)</small><table border=\"1\" class=\"dataframe\"><thead><tr><th>asin</th><th>brand</th><th>price</th><th>title</th><th>cant_image</th><th>cant_category</th><th>rank_in_category</th><th>also_buy_count</th><th>also_view_count</th></tr><tr><td>str</td><td>str</td><td>f64</td><td>str</td><td>u32</td><td>u32</td><td>i64</td><td>u32</td><td>u32</td></tr></thead><tbody><tr><td>&quot;1449462308&quot;</td><td>&quot;Visit Amazon&#x27;s…</td><td>6.9</td><td>&quot;Big Nate: A Go…</td><td>0</td><td>3</td><td>4235</td><td>98</td><td>59</td></tr></tbody></table></div>"
      ],
      "text/plain": [
       "shape: (1, 9)\n",
       "┌────────────┬────────────┬───────┬────────────┬───┬───────────┬───────────┬───────────┬───────────┐\n",
       "│ asin       ┆ brand      ┆ price ┆ title      ┆ … ┆ cant_cate ┆ rank_in_c ┆ also_buy_ ┆ also_view │\n",
       "│ ---        ┆ ---        ┆ ---   ┆ ---        ┆   ┆ gory      ┆ ategory   ┆ count     ┆ _count    │\n",
       "│ str        ┆ str        ┆ f64   ┆ str        ┆   ┆ ---       ┆ ---       ┆ ---       ┆ ---       │\n",
       "│            ┆            ┆       ┆            ┆   ┆ u32       ┆ i64       ┆ u32       ┆ u32       │\n",
       "╞════════════╪════════════╪═══════╪════════════╪═══╪═══════════╪═══════════╪═══════════╪═══════════╡\n",
       "│ 1449462308 ┆ Visit      ┆ 6.9   ┆ Big Nate:  ┆ … ┆ 3         ┆ 4235      ┆ 98        ┆ 59        │\n",
       "│            ┆ Amazon's   ┆       ┆ A Good Old ┆   ┆           ┆           ┆           ┆           │\n",
       "│            ┆ Lincoln    ┆       ┆ -Fashioned ┆   ┆           ┆           ┆           ┆           │\n",
       "│            ┆ Peirce Pa… ┆       ┆ W…         ┆   ┆           ┆           ┆           ┆           │\n",
       "└────────────┴────────────┴───────┴────────────┴───┴───────────┴───────────┴───────────┴───────────┘"
      ]
     },
     "execution_count": 125,
     "metadata": {},
     "output_type": "execute_result"
    }
   ],
   "source": [
    "metadata.sample(1)"
   ]
  },
  {
   "cell_type": "markdown",
   "metadata": {},
   "source": [
    "Join 2 dataframes by the ASIN number"
   ]
  },
  {
   "cell_type": "code",
   "execution_count": 126,
   "metadata": {},
   "outputs": [],
   "source": [
    "join_keys = [\"asin\"]\n",
    "df_joined = metadata.join(reviews, join_keys)"
   ]
  },
  {
   "cell_type": "code",
   "execution_count": 127,
   "metadata": {},
   "outputs": [
    {
     "data": {
      "text/plain": [
       "(2618468, 15)"
      ]
     },
     "execution_count": 127,
     "metadata": {},
     "output_type": "execute_result"
    }
   ],
   "source": [
    "df_joined.shape"
   ]
  },
  {
   "cell_type": "code",
   "execution_count": 128,
   "metadata": {},
   "outputs": [
    {
     "data": {
      "text/html": [
       "<div><style>\n",
       ".dataframe > thead > tr > th,\n",
       ".dataframe > tbody > tr > td {\n",
       "  text-align: right;\n",
       "}\n",
       "</style>\n",
       "<small>shape: (1, 15)</small><table border=\"1\" class=\"dataframe\"><thead><tr><th>asin</th><th>brand</th><th>price</th><th>title</th><th>cant_image</th><th>cant_category</th><th>rank_in_category</th><th>also_buy_count</th><th>also_view_count</th><th>overall</th><th>reviewText</th><th>reviewerID</th><th>summary</th><th>verified</th><th>unixReviewTime</th></tr><tr><td>str</td><td>str</td><td>f64</td><td>str</td><td>u32</td><td>u32</td><td>i64</td><td>u32</td><td>u32</td><td>str</td><td>str</td><td>str</td><td>str</td><td>str</td><td>datetime[μs]</td></tr></thead><tbody><tr><td>&quot;1579654355&quot;</td><td>&quot;Visit Amazon&#x27;s…</td><td>34.99</td><td>&quot;Bouchon Bakery…</td><td>0</td><td>3</td><td>8292</td><td>97</td><td>60</td><td>&quot;5.0&quot;</td><td>&quot;Bought this fo…</td><td>&quot;ATFMFB0PCGM0B&quot;</td><td>&quot;Gem&quot;</td><td>&quot;true&quot;</td><td>2013-11-21 00:00:00</td></tr></tbody></table></div>"
      ],
      "text/plain": [
       "shape: (1, 15)\n",
       "┌────────────┬──────────────┬───────┬─────────┬───┬─────────────┬─────────┬──────────┬─────────────┐\n",
       "│ asin       ┆ brand        ┆ price ┆ title   ┆ … ┆ reviewerID  ┆ summary ┆ verified ┆ unixReviewT │\n",
       "│ ---        ┆ ---          ┆ ---   ┆ ---     ┆   ┆ ---         ┆ ---     ┆ ---      ┆ ime         │\n",
       "│ str        ┆ str          ┆ f64   ┆ str     ┆   ┆ str         ┆ str     ┆ str      ┆ ---         │\n",
       "│            ┆              ┆       ┆         ┆   ┆             ┆         ┆          ┆ datetime[μs │\n",
       "│            ┆              ┆       ┆         ┆   ┆             ┆         ┆          ┆ ]           │\n",
       "╞════════════╪══════════════╪═══════╪═════════╪═══╪═════════════╪═════════╪══════════╪═════════════╡\n",
       "│ 1579654355 ┆ Visit        ┆ 34.99 ┆ Bouchon ┆ … ┆ ATFMFB0PCGM ┆ Gem     ┆ true     ┆ 2013-11-21  │\n",
       "│            ┆ Amazon's     ┆       ┆ Bakery  ┆   ┆ 0B          ┆         ┆          ┆ 00:00:00    │\n",
       "│            ┆ Thomas       ┆       ┆ (The    ┆   ┆             ┆         ┆          ┆             │\n",
       "│            ┆ Keller Pag…  ┆       ┆ Thomas  ┆   ┆             ┆         ┆          ┆             │\n",
       "│            ┆              ┆       ┆ Kelle…  ┆   ┆             ┆         ┆          ┆             │\n",
       "└────────────┴──────────────┴───────┴─────────┴───┴─────────────┴─────────┴──────────┴─────────────┘"
      ]
     },
     "execution_count": 128,
     "metadata": {},
     "output_type": "execute_result"
    }
   ],
   "source": [
    "df_joined.sample(1)"
   ]
  },
  {
   "cell_type": "code",
   "execution_count": 129,
   "metadata": {},
   "outputs": [],
   "source": [
    "final = df_joined.select(\"title\", \"reviewerID\", \"unixReviewTime\")\n"
   ]
  },
  {
   "cell_type": "code",
   "execution_count": 130,
   "metadata": {},
   "outputs": [
    {
     "data": {
      "text/html": [
       "<div><style>\n",
       ".dataframe > thead > tr > th,\n",
       ".dataframe > tbody > tr > td {\n",
       "  text-align: right;\n",
       "}\n",
       "</style>\n",
       "<small>shape: (1, 3)</small><table border=\"1\" class=\"dataframe\"><thead><tr><th>title</th><th>reviewerID</th><th>unixReviewTime</th></tr><tr><td>str</td><td>str</td><td>datetime[μs]</td></tr></thead><tbody><tr><td>&quot;Dragons of Spr…</td><td>&quot;A2EB2V88K2SRU&quot;</td><td>2017-04-22 00:00:00</td></tr></tbody></table></div>"
      ],
      "text/plain": [
       "shape: (1, 3)\n",
       "┌───────────────────────────────────┬───────────────┬─────────────────────┐\n",
       "│ title                             ┆ reviewerID    ┆ unixReviewTime      │\n",
       "│ ---                               ┆ ---           ┆ ---                 │\n",
       "│ str                               ┆ str           ┆ datetime[μs]        │\n",
       "╞═══════════════════════════════════╪═══════════════╪═════════════════════╡\n",
       "│ Dragons of Spring Dawning (Drago… ┆ A2EB2V88K2SRU ┆ 2017-04-22 00:00:00 │\n",
       "└───────────────────────────────────┴───────────────┴─────────────────────┘"
      ]
     },
     "execution_count": 130,
     "metadata": {},
     "output_type": "execute_result"
    }
   ],
   "source": [
    "final.sample(1)"
   ]
  },
  {
   "cell_type": "code",
   "execution_count": 131,
   "metadata": {},
   "outputs": [
    {
     "data": {
      "text/plain": [
       "(2618468, 3)"
      ]
     },
     "execution_count": 131,
     "metadata": {},
     "output_type": "execute_result"
    }
   ],
   "source": [
    "final.shape\n",
    "#2916355"
   ]
  },
  {
   "cell_type": "code",
   "execution_count": 132,
   "metadata": {},
   "outputs": [],
   "source": [
    "final = final.unique()"
   ]
  },
  {
   "cell_type": "code",
   "execution_count": 133,
   "metadata": {},
   "outputs": [
    {
     "data": {
      "text/plain": [
       "(2612701, 3)"
      ]
     },
     "execution_count": 133,
     "metadata": {},
     "output_type": "execute_result"
    }
   ],
   "source": [
    "final.shape"
   ]
  },
  {
   "cell_type": "code",
   "execution_count": 134,
   "metadata": {},
   "outputs": [],
   "source": [
    "final = final.with_columns(\n",
    "    pl.col(\"unixReviewTime\").cast(pl.Int64).alias(\"reviewTime\")\n",
    ").drop(\"unixReviewTime\")  "
   ]
  },
  {
   "cell_type": "code",
   "execution_count": 135,
   "metadata": {},
   "outputs": [
    {
     "data": {
      "text/html": [
       "<div><style>\n",
       ".dataframe > thead > tr > th,\n",
       ".dataframe > tbody > tr > td {\n",
       "  text-align: right;\n",
       "}\n",
       "</style>\n",
       "<small>shape: (2_612_701, 3)</small><table border=\"1\" class=\"dataframe\"><thead><tr><th>title</th><th>reviewerID</th><th>reviewTime</th></tr><tr><td>str</td><td>str</td><td>i64</td></tr></thead><tbody><tr><td>&quot;Boys Adrift: T…</td><td>&quot;A245831QTLS0K3…</td><td>1196726400000000</td></tr><tr><td>&quot;Boys Adrift: T…</td><td>&quot;A3PN9EB0B1QBY4…</td><td>1196208000000000</td></tr><tr><td>&quot;Boys Adrift: T…</td><td>&quot;AU76601D8U0CD&quot;</td><td>1191628800000000</td></tr><tr><td>&quot;Why Are All th…</td><td>&quot;A3V0N3ORMPV7BC…</td><td>1516320000000000</td></tr><tr><td>&quot;Why Are All th…</td><td>&quot;A3B6J2XHJMJ59S…</td><td>1515542400000000</td></tr><tr><td>&quot;Why Are All th…</td><td>&quot;A10LL2QWVPCH60…</td><td>1515110400000000</td></tr><tr><td>&quot;Why Are All th…</td><td>&quot;A4N8U31DLAUU8&quot;</td><td>1505433600000000</td></tr><tr><td>&quot;Why Are All th…</td><td>&quot;A28WYES84Z2PFQ…</td><td>1504915200000000</td></tr><tr><td>&quot;Why Are All th…</td><td>&quot;A1ECC13YLXYNK4…</td><td>1503705600000000</td></tr><tr><td>&quot;Why Are All th…</td><td>&quot;A285RQFOK8APPQ…</td><td>1495843200000000</td></tr><tr><td>&quot;Why Are All th…</td><td>&quot;AFYIV6O4IUUKN&quot;</td><td>1494633600000000</td></tr><tr><td>&quot;Why Are All th…</td><td>&quot;A1O2G06IMRD7IB…</td><td>1493942400000000</td></tr><tr><td>&hellip;</td><td>&hellip;</td><td>&hellip;</td></tr><tr><td>&quot;In Defense of …</td><td>&quot;A3QUF6D60DXCCA…</td><td>1457481600000000</td></tr><tr><td>&quot;In Defense of …</td><td>&quot;A1CRQTKE1CONTJ…</td><td>1431734400000000</td></tr><tr><td>&quot;In Defense of …</td><td>&quot;ABS63Z0QQCOKK&quot;</td><td>1430870400000000</td></tr><tr><td>&quot;In Defense of …</td><td>&quot;AA076IN9IU2P4&quot;</td><td>1406937600000000</td></tr><tr><td>&quot;In Defense of …</td><td>&quot;A2XQKWM90X1FKA…</td><td>1406332800000000</td></tr><tr><td>&quot;In Defense of …</td><td>&quot;APT950R24SFLP&quot;</td><td>1402358400000000</td></tr><tr><td>&quot;In Defense of …</td><td>&quot;A4PU4FZZ7L04M&quot;</td><td>1389830400000000</td></tr><tr><td>&quot;In Defense of …</td><td>&quot;A16YWTXSWECLAF…</td><td>1375660800000000</td></tr><tr><td>&quot;In Defense of …</td><td>&quot;A1JAI9EO15LUID…</td><td>1371513600000000</td></tr><tr><td>&quot;In Defense of …</td><td>&quot;A3EHHRCMK2EFUD…</td><td>1355616000000000</td></tr><tr><td>&quot;In Defense of …</td><td>&quot;A13BAM45HAH0CA…</td><td>1349654400000000</td></tr><tr><td>&quot;In Defense of …</td><td>&quot;AMPV34S6C1YPJ&quot;</td><td>1349395200000000</td></tr></tbody></table></div>"
      ],
      "text/plain": [
       "shape: (2_612_701, 3)\n",
       "┌───────────────────────────────────┬────────────────┬──────────────────┐\n",
       "│ title                             ┆ reviewerID     ┆ reviewTime       │\n",
       "│ ---                               ┆ ---            ┆ ---              │\n",
       "│ str                               ┆ str            ┆ i64              │\n",
       "╞═══════════════════════════════════╪════════════════╪══════════════════╡\n",
       "│ Boys Adrift: The Five Factors Dr… ┆ A245831QTLS0K3 ┆ 1196726400000000 │\n",
       "│ Boys Adrift: The Five Factors Dr… ┆ A3PN9EB0B1QBY4 ┆ 1196208000000000 │\n",
       "│ Boys Adrift: The Five Factors Dr… ┆ AU76601D8U0CD  ┆ 1191628800000000 │\n",
       "│ Why Are All the Black Kids Sitti… ┆ A3V0N3ORMPV7BC ┆ 1516320000000000 │\n",
       "│ …                                 ┆ …              ┆ …                │\n",
       "│ In Defense of Sanity: The Best E… ┆ A1JAI9EO15LUID ┆ 1371513600000000 │\n",
       "│ In Defense of Sanity: The Best E… ┆ A3EHHRCMK2EFUD ┆ 1355616000000000 │\n",
       "│ In Defense of Sanity: The Best E… ┆ A13BAM45HAH0CA ┆ 1349654400000000 │\n",
       "│ In Defense of Sanity: The Best E… ┆ AMPV34S6C1YPJ  ┆ 1349395200000000 │\n",
       "└───────────────────────────────────┴────────────────┴──────────────────┘"
      ]
     },
     "execution_count": 135,
     "metadata": {},
     "output_type": "execute_result"
    }
   ],
   "source": [
    "final"
   ]
  },
  {
   "cell_type": "markdown",
   "metadata": {},
   "source": [
    "Save the file to be used"
   ]
  },
  {
   "cell_type": "code",
   "execution_count": 136,
   "metadata": {},
   "outputs": [],
   "source": [
    "final.write_parquet(\"../data/processed/Final_data_for_ML.parquet\")"
   ]
  }
 ],
 "metadata": {
  "kernelspec": {
   "display_name": "Factored_Datathon",
   "language": "python",
   "name": "python3"
  },
  "language_info": {
   "codemirror_mode": {
    "name": "ipython",
    "version": 3
   },
   "file_extension": ".py",
   "mimetype": "text/x-python",
   "name": "python",
   "nbconvert_exporter": "python",
   "pygments_lexer": "ipython3",
   "version": "3.10.12"
  },
  "orig_nbformat": 4
 },
 "nbformat": 4,
 "nbformat_minor": 2
}
